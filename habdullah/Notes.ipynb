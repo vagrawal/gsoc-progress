{
 "cells": [
  {
   "cell_type": "markdown",
   "metadata": {},
   "source": [
    "# **GSoC17 Notes for CMUsphinx**"
   ]
  },
  {
   "cell_type": "markdown",
   "metadata": {},
   "source": [
    "**Goal: Achieve best in category accuracy in TED talks through DNNs**"
   ]
  },
  {
   "cell_type": "markdown",
   "metadata": {},
   "source": [
    "**Objectives**: \n",
    ">**Train MLP on wsj corpus to get baseline results<br>\n",
    "Train CNN-LSTM on wsj<br>\n",
    "Train existing CNN-LSTM on TEDLIUM corpus**"
   ]
  },
  {
   "cell_type": "markdown",
   "metadata": {},
   "source": [
    " "
   ]
  },
  {
   "cell_type": "markdown",
   "metadata": {
    "collapsed": true
   },
   "source": [
    "# Training the MLP"
   ]
  },
  {
   "cell_type": "markdown",
   "metadata": {},
   "source": [
    "Starting off, I'll train a MLP on the walls street journal __wsj__ corpus. This will give me a baseline score.\n",
    "We choose wsj corpus instead of open corpora because we know the accuracy (3%) we have to achieve ."
   ]
  },
  {
   "cell_type": "markdown",
   "metadata": {},
   "source": [
    "**22nd May:** Literature review. output classes of MLP tied states or phone states.According to this paper by J. hinton https://www.clsp.jhu.edu/~samuel/pdfs/scarf_mlp.pdf, Tied states were used."
   ]
  },
  {
   "cell_type": "markdown",
   "metadata": {},
   "source": [
    "**23rd May:** Writing code to generate log spectra from audio files"
   ]
  },
  {
   "cell_type": "markdown",
   "metadata": {},
   "source": [
    "Libraries used:<br>**pysoundfile**<br>**python_speech_features**\n",
    "\n",
    "I used Pysoundfile to read FLAC format files and return np array\n",
    "python_speech_features provides a logfbank method that takes in a linear array and returns filter bank energies"
   ]
  },
  {
   "cell_type": "code",
   "execution_count": 2,
   "metadata": {
    "collapsed": true
   },
   "outputs": [],
   "source": [
    "import numpy as np\n",
    "from python_speech_features import logfbank\n",
    "import soundfile as sf\n",
    "import os"
   ]
  },
  {
   "cell_type": "markdown",
   "metadata": {},
   "source": [
    "I only used this once to see how many gigabytes of features I can extract from the complete set of wsj audio files.I wrote a faster script (**run.py** in same repo) that saves all features as a numpy array.\n",
    "feature size (in gigabytes) varies with the window size.<br> \n",
    "**winsize Feats(GB)  <br>\n",
    "0.015-----34GB<br>\n",
    "0.010-----~53GB**<br>\n",
    "smaller window size cuts more time slices from a audio. so we get more feature per audio.\n",
    "\n",
    "When **\"nfilt\"** param=40, logfbank returns a 40 dim array for every audio clip."
   ]
  },
  {
   "cell_type": "code",
   "execution_count": null,
   "metadata": {
    "collapsed": true
   },
   "outputs": [],
   "source": [
    "#for making log feats \n",
    "#path to corpus\n",
    "corpus= '/media/t-rex/F/wsj/wsj0';\n",
    "#this file contains paths to all flac files\n",
    "f = open('flac_paths.txt','w')\n",
    "    \n",
    "for dir_name,subdir_name,files in os.walk(corpus):\n",
    "    \n",
    "    for file in files:\n",
    "        if file.endswith('.flac'):\n",
    "            path_2_file = dir_name+'/'+file;\n",
    "            #print (path_2_file)\n",
    "            f.write(path_2_file+'\\n')\n",
    "            (s,r) =sf.read(path_2_file)\n",
    "            logfeats = logfbank(s,r, winlen=0.025, winstep=0.01, nfilt=40, nfft=1024, lowfreq=250, highfreq=None, preemph=0.97);\n",
    "            np.savetxt('/media/t-rex/F/wsj/wsj_feats/'+file+'.mls',logfeats)\n",
    "            \n"
   ]
  },
  {
   "cell_type": "markdown",
   "metadata": {},
   "source": [
    "<br>"
   ]
  },
  {
   "cell_type": "markdown",
   "metadata": {},
   "source": [
    "**25th May**: Assigning labels to features"
   ]
  },
  {
   "cell_type": "markdown",
   "metadata": {},
   "source": [
    "This script reads a feature file (**.mls**) and assigns it a TIED state label from (0,2999).\n",
    "the features are concatenated and compressed and saved in \"**data.npz**\"."
   ]
  },
  {
   "cell_type": "code",
   "execution_count": 24,
   "metadata": {},
   "outputs": [
    {
     "name": "stdout",
     "output_type": "stream",
     "text": [
      "(16786, 16786)\n"
     ]
    }
   ],
   "source": [
    "#data prep\n",
    "from random import randint\n",
    "\n",
    "all_feats=[]\n",
    "all_labels=[]\n",
    "#path to corpus\n",
    "root = '/media/t-rex/F/wsj/';\n",
    "feats_file = root+'wsj_feats';\n",
    "\n",
    "\n",
    "for dir_name,subdir_name,files in os.walk(feats_file):\n",
    "    for file in files:\n",
    "        if file.endswith('.mls'):\n",
    "            path_2_file = dir_name+'/'+file;\n",
    "            \n",
    "            #print (path_2_file)\n",
    "            feat = np.loadtxt('/media/t-rex/F/wsj/wsj_feats/'+file)\n",
    "            n_frames  = feat.shape[0]\n",
    "\n",
    "            #assigning random labels \n",
    "            labels = [randint(0,2999) for i in range(n_frames)]\n",
    "            all_labels+=list(labels)\n",
    "            all_feats += list(feat)\n",
    "            \n",
    "print(len(all_feats),len(all_labels))\n",
    "#test/train split\n",
    "for_training = int(len(all_feats)*0.8)\n",
    "Xtrain = all_feats[:for_training]\n",
    "ytrain = all_labels[:for_training]\n",
    "Xtest = all_feats[for_training:]\n",
    "ytest = all_labels[for_training:]\n",
    "\n",
    "#save as compressed array\n",
    "np.savez(root+'data',Xtrain=Xtrain,ytrain=ytrain,Xtest=Xtest,ytest=ytest)\n",
    "\n"
   ]
  },
  {
   "cell_type": "code",
   "execution_count": null,
   "metadata": {
    "collapsed": true
   },
   "outputs": [],
   "source": [
    "#or save as pickle\n",
    "\n",
    "# import pickle\n",
    "# pickle.dump(Xtrain,open(root+\"Xtrain.p\",\"w\"))\n",
    "# pickle.dump(ytrain,open(root+\"ytrain.p\",\"w\"))\n",
    "# pickle.dump(Xtest,open(root+\"Xtest.p\",\"w\"))\n",
    "# pickle.dump(ytest,open(root+\"ytest.p\",\"w\"))\n"
   ]
  },
  {
   "cell_type": "markdown",
   "metadata": {},
   "source": [
    "**May 26th**: Writing MLP code"
   ]
  },
  {
   "cell_type": "markdown",
   "metadata": {},
   "source": [
    "Libraries used:<br>**Tensorflow**<br>**keras**"
   ]
  },
  {
   "cell_type": "code",
   "execution_count": 37,
   "metadata": {
    "collapsed": true
   },
   "outputs": [],
   "source": [
    "#using this function for printing graphs\n",
    "def printgraph(model,name1,name2,display=1,cmdline=0):\n",
    "    import matplotlib.pyplot as plt\n",
    "    \n",
    "    if cmdline==1:\n",
    "        #if running on commandline\n",
    "        import matplotlib\n",
    "        matplotlib.use('Agg')\n",
    "        \n",
    "    plt.plot(model.history['acc'])\n",
    "    plt.plot(model.history['val_acc'])\n",
    "    plt.title('Model Accuracy')\n",
    "    plt.ylabel('Accuracy')\n",
    "    plt.xlabel('epoch')\n",
    "    plt.legend(['train','test'],loc='lower right')\n",
    "    #show graphs\n",
    "    if display==1:\n",
    "        plt.show()\n",
    "    plt.savefig(name1)\n",
    "    \n",
    "    plt.plot(model.history['loss'])\n",
    "    plt.title('Model Loss')\n",
    "    plt.plot(model.history['val_loss'])\n",
    "    plt.ylabel('Loss')\n",
    "    plt.xlabel('epoch')\n",
    "    plt.legend(['train','test'],loc='lower right')\n",
    "    if display==1:\n",
    "        plt.show()\n",
    "    plt.savefig(name2)\n"
   ]
  },
  {
   "cell_type": "markdown",
   "metadata": {
    "collapsed": true
   },
   "source": [
    " "
   ]
  },
  {
   "cell_type": "code",
   "execution_count": null,
   "metadata": {},
   "outputs": [
    {
     "name": "stderr",
     "output_type": "stream",
     "text": [
      "Using TensorFlow backend.\n"
     ]
    }
   ],
   "source": [
    "#importing required libraries\n",
    "from keras.models import Sequential\n",
    "from keras.layers import Dense, Dropout, Activation\n",
    "from keras.optimizers import SGD\n",
    "import os\n",
    "import numpy as np\n",
    "from keras.utils import to_categorical"
   ]
  },
  {
   "cell_type": "markdown",
   "metadata": {},
   "source": [
    "This cell loads stored features and labels from compressed numpy arrays"
   ]
  },
  {
   "cell_type": "code",
   "execution_count": null,
   "metadata": {
    "collapsed": true
   },
   "outputs": [],
   "source": [
    "#loading data from compressed arrays\n",
    "xtrain = np.load('/home/hammadabdullah/MLP-HMM_cmusphinx/Xtrain.npz')\n",
    "ytrain = np.load('/home/hammadabdullah/MLP-HMM_cmusphinx/ytrain.npz')\n",
    "xtest = np.load('/home/hammadabdullah/MLP-HMM_cmusphinx/Xtest.npz')\n",
    "ytest = np.load('/home/hammadabdullah/MLP-HMM_cmusphinx/ytest.npz')\n",
    "\n",
    "#parsing test/train \n",
    "x_train = xtrain['arr_0']\n",
    "y_train = ytrain['arr_0']\n",
    "x_test = xtest['arr_0']\n",
    "y_test = ytest['arr_0']\n",
    "\n",
    "#using only 1 million features. to_categorical() runs out of memory for bigger arrays\n",
    "x_train = x_train[:1000000]\n",
    "y_train = y_train[:1000000]\n",
    "x_test = x_test[:1000000]\n",
    "y_test = y_test[:1000000]"
   ]
  },
  {
   "cell_type": "code",
   "execution_count": 5,
   "metadata": {},
   "outputs": [
    {
     "name": "stdout",
     "output_type": "stream",
     "text": [
      "(1000000, 40)\n",
      "(1000000,)\n"
     ]
    }
   ],
   "source": [
    "#The total number of train and test features we will train on\n",
    "print x_train.shape\n",
    "print y_train.shape"
   ]
  },
  {
   "cell_type": "markdown",
   "metadata": {},
   "source": [
    " "
   ]
  },
  {
   "cell_type": "code",
   "execution_count": 6,
   "metadata": {
    "collapsed": true
   },
   "outputs": [],
   "source": [
    "y_train = to_categorical(y_train, num_classes = 3000)"
   ]
  },
  {
   "cell_type": "markdown",
   "metadata": {},
   "source": [
    "**This MLP model uses SGD optimization, relu activations and runs for 10 epochs**\n"
   ]
  },
  {
   "cell_type": "code",
   "execution_count": 7,
   "metadata": {},
   "outputs": [
    {
     "name": "stdout",
     "output_type": "stream",
     "text": [
      "Train on 669999 samples, validate on 330001 samples\n",
      "Epoch 1/10\n",
      "36s - loss: 8.2269 - acc: 3.4328e-04 - val_loss: 8.0891 - val_acc: 2.8788e-04\n",
      "Epoch 2/10\n",
      "31s - loss: 8.0508 - acc: 3.5522e-04 - val_loss: 8.0381 - val_acc: 2.9697e-04\n",
      "Epoch 3/10\n",
      "31s - loss: 8.0254 - acc: 3.4776e-04 - val_loss: 8.0234 - val_acc: 3.2424e-04\n",
      "Epoch 4/10\n",
      "31s - loss: 8.0168 - acc: 3.5224e-04 - val_loss: 8.0172 - val_acc: 3.1818e-04\n",
      "Epoch 5/10\n",
      "31s - loss: 8.0129 - acc: 3.5373e-04 - val_loss: 8.0140 - val_acc: 3.7879e-04\n",
      "Epoch 6/10\n",
      "31s - loss: 8.0108 - acc: 3.1045e-04 - val_loss: 8.0121 - val_acc: 3.7576e-04\n",
      "Epoch 7/10\n",
      "30s - loss: 8.0095 - acc: 3.2687e-04 - val_loss: 8.0109 - val_acc: 3.3939e-04\n",
      "Epoch 8/10\n",
      "31s - loss: 8.0088 - acc: 3.6418e-04 - val_loss: 8.0101 - val_acc: 3.4848e-04\n",
      "Epoch 9/10\n",
      "31s - loss: 8.0083 - acc: 3.5075e-04 - val_loss: 8.0097 - val_acc: 3.8485e-04\n",
      "Epoch 10/10\n",
      "30s - loss: 8.0079 - acc: 3.4328e-04 - val_loss: 8.0093 - val_acc: 3.5454e-04\n"
     ]
    }
   ],
   "source": [
    "model = Sequential()\n",
    "model.add(Dense(1000, activation='relu', input_dim=40))\n",
    "model.add(Dense(1000, activation='relu'))\n",
    "model.add(Dense(3000, activation='softmax'))\n",
    "model.compile(optimizer='sgd',\n",
    "              loss='categorical_crossentropy',\n",
    "              metrics=['accuracy'])\n",
    "\n",
    "\n",
    "\n",
    "hist=model.fit(x_train,y_train,verbose = 2,validation_split=0.33,epochs=10,batch_size=20000)\n"
   ]
  },
  {
   "cell_type": "markdown",
   "metadata": {
    "collapsed": true
   },
   "source": [
    " "
   ]
  },
  {
   "cell_type": "code",
   "execution_count": 5,
   "metadata": {
    "collapsed": true
   },
   "outputs": [],
   "source": [
    "#this stores and loads our model along with the weights.\n",
    "model.save('mlp_sgd.h5')\n",
    "from keras.models import load_model\n",
    "model = load_model('mlp_sgd.h5')"
   ]
  },
  {
   "cell_type": "code",
   "execution_count": 8,
   "metadata": {},
   "outputs": [
    {
     "name": "stdout",
     "output_type": "stream",
     "text": [
      "1000000/1000000 [==============================] - 33s     \b\b\b\b\b\b\b\b\b\b\b\b\b\b\b\b\b\b\b\b\b\b\b\b\b\b\b\b\b\b\b\b\b\b\b\b\b\b\b\b\b\b\b\b\b\b\b\b\b\b\b\b\b\b\b\b\b\b\b\b\b\b\b\b\b\b\b\b\b\b\b\b\b\b\b\b\b\b\b\b\b\b\b\b\b\b\b\b\b\b\b\b\b\b\b\b\b\b\b\b\b\b\b\b\b\b\b\b\b\b\b\b\b\b\b\b\b\b\b\b\b\b\b\b\b\b\b\b\b\b\b\b\b\b\b\b\b\b\b\b\b\b\b\b\b\b\b\b\b\b\b\b\b\b\b\b\b\b\b\b\b\b\b\b\b\b\b\b\b\b\b\b\b\b\b\b\b\b\b\b\b\b\b\b\b\b\b\b\b\b\b\b\b\b\b\b\b\b\b\b\b\b\b\b\b\b\b\b\b\b\b\b\b\b\b\b\b\b\b\b\b\b\b\b\b\b\b\b\b\b\b\b\b\b\b\b\b\b\b\b\b\b\b\b\b\b\b\b\b\b\b\b\b\b\b\b\b\b\b\b\b\b\b\b\b\b\b\b\b\b\b\b\b\b\b\b\b\b\b\b\b\b\b\b\b\b\b\b\b\b\b\b\b\b\b\b\b\b\b\b\b\b\b\b\b\b\b\b\b\b\b\b\b\b\b\b\b\b\b\b\b\b\b\b\b\b\b\b\b\b\b\b\b\b\b\b\b\b\b\b\b\b\b\b\b\b\b\b\b\b\b\b\b\b\b\b\b\b\b\b\b\b\b\b\b\b\b\b\b\b\b\b\b\b\b\b\b\b\b\b\b\b\b\b\b\b\b\b\b\b\b\b\b\b\b\b\b\b\b\b\b\b\b\b\b\b\b\b\b\b\b\b\b\b\b\b\b\b\b\b\b\b\b\b\b\b\b\b\b\b\b\b\b\b\b\b\b\b\b\b\b\b\b\b\b\b\b\b\b\b\b\b\b\b\b\b\b\b\b\b\b\b\b\b\b\b\b\b\b\b\b\b\b\b\b\b\b\b\b\b\b\b\b\b\b\b\b\b\b\b\b\b\b\b\b\b\b\b\b\b\b\b\b\b\b\b\b\b\b\b\b\b\b\b\b\b\b\b\b\b\b\b\b\b\b\b\b\b\b\b\b\b\b\b\b\b\b\b\b\b\b\b\b\b\b\b\b\b\b\b\b\b\b\b\b\b\b\b\b\b\b\b\b\b\b\b\b\b\b\b\b\b\b\b\b\b\b\b\b\b\b\b\b\b\b\b\b\b\b\b\b\b\b\b\b\b\b\b\b\b\b\b\b\b\b\b\b\b\b\b\b\b\b\b\b\b\b\b\b\b\b\b\b\b\b\b\b\b\b\b\b\b\b\b\b\b\b\b\b\b\b\b\b\b\b\b\b\b\b\b\b\b\b\b\b\b\b\b\b\b\b\b\b\b\b\b\b\b\b\b\b\b\b\b\b\b\b\b\b\b\b\b\b\b\b\b\b\b\b\b\b\b\b\b\b\b\b\b\b\b\b\b\b\b\b\b\b\b\b\b\b\b\b\b\b\b\b\b\b\b\b\b\b\b\b\b\b\b\b\b\b\b\b\b\b\b\b\b\b\b\b\b\b\b\b\b\b\b\b\b\b\b\b\b\b\b\b\b\b\b\b\b\b\b\b\b\b\b\b\b\b\b\b\b\b\b\b\b\b\b\b\b\b\b\b\b\b\b\b\b\b\b\b\b\b\b\b\b\b\b\b\b\b\b\b\b\b\b\b\b\b\b\b\b\b\b\b\b\b\b\b\b\b\b\b\b\b\b\b\b\b\b\b\b\b\b\b\b\b\b\b\b\b\b\b\b\b\b\b\b\b\b\b\b\b\b\b\b\b\b\b\b\b\b\b\b\b\b\b\b\b\b\b\b\b\b\b\b\b\b\b\b\b\b\b\b\b\b\b\b\b\b\b\b\b\b\b\b\b\b\b\b\b\b\b\b\b\b\b\b\b\b\b\b\b\b\b\b\b\b\b\b\b\b\b\b\b\b\b\b\b\b\b\b\b\b\b\b\b\b\b\b\b\b\b\b\b\b\b\b\b\b\b\b\b\b\b\b\b\b\b\b\b\b\b\b\b\b\b\b\b\b\b\b\b\b\b\b\b\b\b\b\b\b\b\b\b\b\b\b\b\b\b\b\b\b\b\b\b\b\b\b\b\b\b\b\b\b\b\b\b\b\b\b\b\b\b\b\b\b\b\b\b\b\b\b\b\b\b\b\b\b\b\b\b\b\b\b\b\b\b\b\b\b\b\b\b\b\b\b\b\b\b\b\b\b\b\b\b\b\b\b\b\b\b\b\b\b\b\b\b\b\b\b\b\b\b\b\b\b\b\b\b\b\b\b\b\b\b\b\b\b\b\b\b\b\b\b\b\b\b\b\b\b\b\b\b\b\b\b\b\b\b\b\b\b\b\b\b\b\b\b\b\b\b\b\b\b\b\b\b\b\b\b\b\b\b\b\b\b\b\b\b\b\b\b\b\b\b\b\b\b\b\b\b\b\b\b\b\b\b\b\b\b\b\b\b\b\b\b\b\b\b\b\b\b\b\b\b\b\b\b\b\b\b\b\b\b\b\b\b\b\b\b\b\b\b\b\b\b\b\b\b\b\b\b\b\b\b\b\b\b\b\b\b\b\b\b\b\b\b\b\b\b\b\b\b\b\b\b\b\b\b\b\b\b\b\b\b\b\b\b\b\b\b\b\b\b\b\b\b\b\b\b\b\b\b\b\b\b\b\b\b\b\b\b\b\b\b\b\b\b\b\b\b\b\b\b\b\b\b\b\b\b\b\b\b\b\b\b\b\b\b\b\b\b\b\b\b\b\b\b\b\b\b\b\b\b\b\b\b\b\b\b\b\b\b\b\b\b\b\b\b\b\b\b\b\b\b\b\b\b\b\b\b\b\b\b\b\b\b\b\b\b\b\b\b\b\b\b\b\b\b\b\b\b\b\b\b\b\b\b\b\b\b\b\b\b\b\b\b\b\b\b\b\b\b\b\b\b\b\b\b\b\b\b\b\b\b\b\b\b\b\b\b\b\b\b\b\b\b\b\b\b\b\b\b\b\b\b\b\b\b\b\b\b\b\b\b\b\b\b\b\b\b\b\b\b\b\b\b\b\b\b\b\b\b\b\b\b\b\b\b\b\b\b\b\b\b\b\b\b\b\b\b\b\b\b\b\b\b\b\b\b\b\b\b\b\b\b\b\b\b\b\b\b\b\b\b\b\b\b\b\b\b\b\b\b\b\b\b\b\b\b\b\b\b\b\b\b\b\b\b\b\b\b\b\b\b\b\b\b\b\b\b\b\b\b\b\b\b\b\b\b\b\b\b\b\b\b\b\b\b\b\b\b\b\b\b\b\b\b\b\b\b\b\b\b\b\b\b\b\b\b\b\b\b\b\b\b\b\b\b\b\b\b\b\b\b\b\b\b\b\b\b\b\b\b\b\b\b\b\b\b\b\b\b\b\b\b\b\b\b\b\b\b\b\b\b\b\b\b\b\b\b\b\b\b\b\b\b\b\b\b\b\b\b\b\b\b\b\b\b\b\b\b\b\b\b\b\b\b\b\b\b\b\b\b\b\b\b\b\b\b\b\b\b\b\b\b\b\b\b\b\b\b\b\b\b\b\b\b\b\b\b\b\b\b\b\b\b\b\b\b\b\b\b\b\b\b\b\b\b\b\b\b\b\b\b\b\b\b\b\b\b\b\b\b\b\b\b\b\b\b\b\b\b\b\b\b\b\b\b\b\b\b\b\b\b\b\b\b\b\b\b\b\b\b\b\b\b\b\b\b\b\b\b\b\b\b\b\b\b\b\b\b\b\b\b\b\b\b\b\b\b\b\b\b\b\b\b\b\b\b\b\b\b\b\b\b\b\b\b\b\b\b\b\b\b\b\b\b\b\b\b\b\b\b\b\b\b\b\b\b\b\b\b\b\b\b\b\b\b\b\b\b\b\b\b\b\b\b\b\b\b\b\b\b\b\b\b\b\b\b\b\b\b\b\b\b\b\b\b\b\b\b\b\b\b\b\b\b\b\b\b\b\b\b\b\b\b\b\b\b\b\b\b\b\b\b\b\b\b\b\b\b\b\b\b\b\b\b\b\b\b\b\b\b\b\b\b\b\b\b\b\b\b\b\b\b\b\b\b\b\b\b\b\b\b\b\b\b\b\b\b\b\b\b\b\b\b\b\b\b\b\b\b\b\b\b\b\b\b\b\b\b\b\b\b\b\b\b\b\b\b\b\b\b\b\b\b\b\b\b\b\b\b\b\b\b\b\b\b\b\b\b\b\b\b\b\b\b\b\b\b\b\b\b\b\b\b\b\b\b\b\b\b\b\b\b\b\b\b\b\b\b\b\b\b\b\b\b\b\b\b\b\b\b\b\b\b\b\b\b\b\b\b\b\b\b\b\b\b\b\b\b\b\b\b\b\b\b\b\b\b\b\b\b\b\b\b\b\b\b\b\b\b\b\b\b\b\b\b\b\b\b\b\b\b\b\b\b\b\b\b\b\b\b\b\b\b\b\b\b\b\b\b\b\b\b\b\b\b\b\b\b\b\b\b\b\b\b\b\b\b\b\b\b\b\b\b\b\b\b\b\b\b\b\b\b\b\b\b\b\b\b\b\b\b\b\b\b\b\b\b\b\b\b\b\b\b\b\b\b\b\b\b\b\b\b\b\b\b\b\b\b\b\b\b\b\b\b\b\b\b\b\b\b\b\b\b\b\b\b\b\b\b\b\b\b\b\b\b\b\b\b\b\b\b\b\b\b\b\b\b\b\b\b\b\b\b\b\b\b\b\b\b\b\b\b\b\b\b\b\b\b\b\b\b\b\b\b\b\b\b\b\b\b\b\b\b\b\b\b\b\b\b\b\b\b\b\b\b\b\b\b\b\b\b\b\b\b\b\b\b\b\b\b\b\b\b\b\b\b\b\b\b\b\b\b\b\b\b\b\b\b\b\b\b\b\b\b\b\b\b\b\b\b\b\b\b\b\b\b\b\b\b\b\b\b\b\b\b\b\b\b\b\b\b\b\b\b\b\b\b\b\b\b\b\b\b\b\b\b\b\b\b\b\b\b\b\b\b\b\b\b\b\b\b\b\b\b\b\b\b\b\b\b\b\b\b\b\b\b\b\b\b\b\b\b\b\b\b\b\b\b\b\b\b\b\b\b\b\b\b\b\b\b\b\b\b\b\b\b\b\b\b\b\b\b\b\b\b\b\b\b\b\b\b\b\b\b\b\b\b\b\b\b\b\b\b\b\b\b\b\b\b\b\b\b\b\b\b\b\b\b\b\b\b\b\b\b\b\b\b\b\b\b\b\b\b\b\b\b\b\b\b\b\b\b\b\b\b\b\b\b\b\b\b\b\b\b\b\b\b\b\b\b\b\b\b\b\b\b\b\b\b\b\b\b\b\b\b\b\b\b\b\b\b\b\b\b\b\b\b\b\b\b\b\b\b\b\b\b\b\b\b\b\b\b\b\b\b\b\b\b\b\b\b\b\b\b\b\b\b\b\b\b\b\b\b\b\b\b\b\b\b\b\b\b\b\b\b\b\b\b\b\b\b\b\b\b\b\b\b\b\b\b\b\b\b\b\b\b\b\b\b\b\b\b\b\b\b\b\b\b\b\b\b\b\b\b\b\b\b\b\b\b\b\b\b\b\b\b\b\b\b\b\b\b\b\b\b\b\b\b\b\b\b\b\b\b\b\b\b\b\b\b\b\b\b\b\b\b\b\b\b\b\b\b\b\b\b\b\b\b\b\b\b\b\b\b\b\b\b\b\b\b\b\b\b\b\b\b\b\b\b\b\b\b\b\b\b\b\b\b\b\b\b\b\b\b\b\b\b\b\b\b\b\b\b\b\b\b\b\b\b\b\b\b\b\b\b\b\b\b\b\b\b\b\b\b\b\b\b\b\b\b\b\b\b\b\b\b\b\b\b\b\b\b\b\b\b\b\b\b\b\b\b\b\b\b\b\b\b\b\b\b\b\b\b\b\b\b\b\b\b\b\b\b\b\b\b\b\b\b\b\b\b\b\b\b\b\b\b\b\b\b\b\b\b\b\b\b\b\b\b\b\b\b\b\b\b\b\b\b\b\b\b\b\b\b\b\b\b\b\b\b\b\b\b\b\b\b\b\b\b\b\b\b\b\b\b\b\b\b\b\b\b\b\b\b\b\b\b\b\b\b\b\b\b\b\b\b\b\b\b\b\b\b\b\b\b\b\b\b\b\b\b\b\b\b\b\b\b\b\b\b\b\b\b\b\b\b\b\b\b\b\b\b\b\b\b\b\b\b\b\b\b\b\b\b\b\b\b\b\b\b\b\b\b\b\b\b\b\b\b\n",
      "[8.0087737846374516, 0.0003119999852788169]\n"
     ]
    }
   ],
   "source": [
    "y_test = to_categorical(y_test, num_classes = 3000)\n",
    "score = model.evaluate(x_test, y_test, batch_size=20000)\n",
    "print score"
   ]
  },
  {
   "cell_type": "markdown",
   "metadata": {},
   "source": [
    "10 epochs\n",
    "[8.0087737846374516, 0.0003119999852788169] test\n",
    "30s - loss: 8.0079 - acc: 3.4328e-04 - val_loss: 8.0093 - val_acc: 3.5454e-04 train\n",
    "\n"
   ]
  },
  {
   "cell_type": "code",
   "execution_count": 12,
   "metadata": {
    "scrolled": true
   },
   "outputs": [
    {
     "data": {
      "image/png": "[encoded data removed]",
      "text/plain": [
       "<matplotlib.figure.Figure at 0x7f51caf74790>"
      ]
     },
     "metadata": {},
     "output_type": "display_data"
    }
   ],
   "source": [
    "import matplotlib.pyplot as plt\n",
    "\n",
    "plt.plot(hist.history['acc'])\n",
    "plt.plot(hist.history['val_acc'])\n",
    "plt.title('model accuracy')\n",
    "plt.ylabel('Accuracy')\n",
    "plt.xlabel('epoch')\n",
    "plt.legend(['train','test'],loc='lower right')\n",
    "plt.show()\n",
    "plt.savefig('mlp_1mill_sgd_acc.png')\n"
   ]
  },
  {
   "cell_type": "markdown",
   "metadata": {},
   "source": [
    "**Train accuracy:3.4328e-04 <br>Test accuracy:0.0003119999**"
   ]
  },
  {
   "cell_type": "code",
   "execution_count": 13,
   "metadata": {
    "scrolled": true
   },
   "outputs": [
    {
     "data": {
      "image/png": "[encoded data removed]",
      "text/plain": [
       "<matplotlib.figure.Figure at 0x7f51caf94a90>"
      ]
     },
     "metadata": {},
     "output_type": "display_data"
    }
   ],
   "source": [
    "plt.plot(hist.history['loss'])\n",
    "plt.title('model loss')\n",
    "plt.plot(hist.history['val_loss'])\n",
    "plt.ylabel('Accuracy')\n",
    "plt.xlabel('epoch')\n",
    "plt.legend(['train','test'],loc='lower right')\n",
    "plt.show()\n",
    "plt.savefig('mlp_1mill_sgd_loss.png')\n"
   ]
  },
  {
   "cell_type": "markdown",
   "metadata": {},
   "source": [
    "**Train loss:8.0079 <br>Test Loss:8.0087**"
   ]
  },
  {
   "cell_type": "code",
   "execution_count": 11,
   "metadata": {
    "collapsed": true
   },
   "outputs": [],
   "source": [
    "from keras.utils import plot_model\n",
    "import pydot\n",
    "plot_model(model, to_file='model.png')"
   ]
  },
  {
   "cell_type": "markdown",
   "metadata": {},
   "source": [
    "**This MLP model used RMSprop and relu**"
   ]
  },
  {
   "cell_type": "code",
   "execution_count": 7,
   "metadata": {},
   "outputs": [
    {
     "name": "stdout",
     "output_type": "stream",
     "text": [
      "Train on 669999 samples, validate on 330001 samples\n",
      "Epoch 1/10\n",
      "38s - loss: 8.0475 - acc: 3.0448e-04 - val_loss: 8.0068 - val_acc: 2.9697e-04\n",
      "Epoch 2/10\n",
      "32s - loss: 8.0071 - acc: 3.2836e-04 - val_loss: 8.0086 - val_acc: 3.8788e-04\n",
      "Epoch 3/10\n",
      "31s - loss: 8.0070 - acc: 3.7911e-04 - val_loss: 8.0130 - val_acc: 3.6060e-04\n",
      "Epoch 4/10\n",
      "31s - loss: 8.0059 - acc: 3.4179e-04 - val_loss: 8.0085 - val_acc: 3.4242e-04\n",
      "Epoch 5/10\n",
      "31s - loss: 8.0044 - acc: 4.0896e-04 - val_loss: 8.0100 - val_acc: 3.0606e-04\n",
      "Epoch 6/10\n",
      "31s - loss: 8.0033 - acc: 4.6119e-04 - val_loss: 8.0157 - val_acc: 3.2121e-04\n",
      "Epoch 7/10\n",
      "31s - loss: 8.0019 - acc: 4.1940e-04 - val_loss: 8.0117 - val_acc: 3.4848e-04\n",
      "Epoch 8/10\n",
      "31s - loss: 8.0001 - acc: 4.1791e-04 - val_loss: 8.0172 - val_acc: 3.3939e-04\n",
      "Epoch 9/10\n",
      "31s - loss: 7.9986 - acc: 4.7164e-04 - val_loss: 8.0181 - val_acc: 3.2424e-04\n",
      "Epoch 10/10\n",
      "31s - loss: 7.9960 - acc: 4.8358e-04 - val_loss: 8.0258 - val_acc: 3.1212e-04\n"
     ]
    }
   ],
   "source": [
    "model_2 = Sequential()\n",
    "model_2.add(Dense(1000, activation='relu', input_dim=40))\n",
    "model_2.add(Dense(1000, activation='relu'))\n",
    "model_2.add(Dense(3000, activation='softmax'))\n",
    "model_2.compile(optimizer='rmsprop',\n",
    "              loss='categorical_crossentropy',\n",
    "              metrics=['accuracy'])\n",
    "\n",
    "\n",
    "\n",
    "hist2=model_2.fit(x_train,y_train,verbose = 2,validation_split=0.33,epochs=10,batch_size=20000)"
   ]
  },
  {
   "cell_type": "code",
   "execution_count": 8,
   "metadata": {
    "collapsed": true
   },
   "outputs": [],
   "source": [
    "y_test = to_categorical(y_test, num_classes = 3000)\n"
   ]
  },
  {
   "cell_type": "code",
   "execution_count": 9,
   "metadata": {
    "scrolled": false
   },
   "outputs": [
    {
     "name": "stdout",
     "output_type": "stream",
     "text": [
      "1000000/1000000 [==============================] - 32s     \b\b\b\b\b\b\b\b\b\b\b\b\b\b\b\b\b\b\b\b\b\b\b\b\b\b\b\b\b\b\b\b\b\b\b\b\b\b\b\b\b\b\b\b\b\b\b\b\b\b\b\b\b\b\b\b\b\b\b\b\b\b\b\b\b\b\b\b\b\b\b\b\b\b\b\b\b\b\b\b\b\b\b\b\b\b\b\b\b\b\b\b\b\b\b\b\b\b\b\b\b\b\b\b\b\b\b\b\b\b\b\b\b\b\b\b\b\b\b\b\b\b\b\b\b\b\b\b\b\b\b\b\b\b\b\b\b\b\b\b\b\b\b\b\b\b\b\b\b\b\b\b\b\b\b\b\b\b\b\b\b\b\b\b\b\b\b\b\b\b\b\b\b\b\b\b\b\b\b\b\b\b\b\b\b\b\b\b\b\b\b\b\b\b\b\b\b\b\b\b\b\b\b\b\b\b\b\b\b\b\b\b\b\b\b\b\b\b\b\b\b\b\b\b\b\b\b\b\b\b\b\b\b\b\b\b\b\b\b\b\b\b\b\b\b\b\b\b\b\b\b\b\b\b\b\b\b\b\b\b\b\b\b\b\b\b\b\b\b\b\b\b\b\b\b\b\b\b\b\b\b\b\b\b\b\b\b\b\b\b\b\b\b\b\b\b\b\b\b\b\b\b\b\b\b\b\b\b\b\b\b\b\b\b\b\b\b\b\b\b\b\b\b\b\b\b\b\b\b\b\b\b\b\b\b\b\b\b\b\b\b\b\b\b\b\b\b\b\b\b\b\b\b\b\b\b\b\b\b\b\b\b\b\b\b\b\b\b\b\b\b\b\b\b\b\b\b\b\b\b\b\b\b\b\b\b\b\b\b\b\b\b\b\b\b\b\b\b\b\b\b\b\b\b\b\b\b\b\b\b\b\b\b\b\b\b\b\b\b\b\b\b\b\b\b\b\b\b\b\b\b\b\b\b\b\b\b\b\b\b\b\b\b\b\b\b\b\b\b\b\b\b\b\b\b\b\b\b\b\b\b\b\b\b\b\b\b\b\b\b\b\b\b\b\b\b\b\b\b\b\b\b\b\b\b\b\b\b\b\b\b\b\b\b\b\b\b\b\b\b\b\b\b\b\b\b\b\b\b\b\b\b\b\b\b\b\b\b\b\b\b\b\b\b\b\b\b\b\b\b\b\b\b\b\b\b\b\b\b\b\b\b\b\b\b\b\b\b\b\b\b\b\b\b\b\b\b\b\b\b\b\b\b\b\b\b\b\b\b\b\b\b\b\b\b\b\b\b\b\b\b\b\b\b\b\b\b\b\b\b\b\b\b\b\b\b\b\b\b\b\b\b\b\b\b\b\b\b\b\b\b\b\b\b\b\b\b\b\b\b\b\b\b\b\b\b\b\b\b\b\b\b\b\b\b\b\b\b\b\b\b\b\b\b\b\b\b\b\b\b\b\b\b\b\b\b\b\b\b\b\b\b\b\b\b\b\b\b\b\b\b\b\b\b\b\b\b\b\b\b\b\b\b\b\b\b\b\b\b\b\b\b\b\b\b\b\b\b\b\b\b\b\b\b\b\b\b\b\b\b\b\b\b\b\b\b\b\b\b\b\b\b\b\b\b\b\b\b\b\b\b\b\b\b\b\b\b\b\b\b\b\b\b\b\b\b\b\b\b\b\b\b\b\b\b\b\b\b\b\b\b\b\b\b\b\b\b\b\b\b\b\b\b\b\b\b\b\b\b\b\b\b\b\b\b\b\b\b\b\b\b\b\b\b\b\b\b\b\b\b\b\b\b\b\b\b\b\b\b\b\b\b\b\b\b\b\b\b\b\b\b\b\b\b\b\b\b\b\b\b\b\b\b\b\b\b\b\b\b\b\b\b\b\b\b\b\b\b\b\b\b\b\b\b\b\b\b\b\b\b\b\b\b\b\b\b\b\b\b\b\b\b\b\b\b\b\b\b\b\b\b\b\b\b\b\b\b\b\b\b\b\b\b\b\b\b\b\b\b\b\b\b\b\b\b\b\b\b\b\b\b\b\b\b\b\b\b\b\b\b\b\b\b\b\b\b\b\b\b\b\b\b\b\b\b\b\b\b\b\b\b\b\b\b\b\b\b\b\b\b\b\b\b\b\b\b\b\b\b\b\b\b\b\b\b\b\b\b\b\b\b\b\b\b\b\b\b\b\b\b\b\b\b\b\b\b\b\b\b\b\b\b\b\b\b\b\b\b\b\b\b\b\b\b\b\b\b\b\b\b\b\b\b\b\b\b\b\b\b\b\b\b\b\b\b\b\b\b\b\b\b\b\b\b\b\b\b\b\b\b\b\b\b\b\b\b\b\b\b\b\b\b\b\b\b\b\b\b\b\b\b\b\b\b\b\b\b\b\b\b\b\b\b\b\b\b\b\b\b\b\b\b\b\b\b\b\b\b\b\b\b\b\b\b\b\b\b\b\b\b\b\b\b\b\b\b\b\b\b\b\b\b\b\b\b\b\b\b\b\b\b\b\b\b\b\b\b\b\b\b\b\b\b\b\b\b\b\b\b\b\b\b\b\b\b\b\b\b\b\b\b\b\b\b\b\b\b\b\b\b\b\b\b\b\b\b\b\b\b\b\b\b\b\b\b\b\b\b\b\b\b\b\b\b\b\b\b\b\b\b\b\b\b\b\b\b\b\b\b\b\b\b\b\b\b\b\b\b\b\b\b\b\b\b\b\b\b\b\b\b\b\b\b\b\b\b\b\b\b\b\b\b\b\b\b\b\b\b\b\b\b\b\b\b\b\b\b\b\b\b\b\b\b\b\b\b\b\b\b\b\b\b\b\b\b\b\b\b\b\b\b\b\b\b\b\b\b\b\b\b\b\b\b\b\b\b\b\b\b\b\b\b\b\b\b\b\b\b\b\b\b\b\b\b\b\b\b\b\b\b\b\b\b\b\b\b\b\b\b\b\b\b\b\b\b\b\b\b\b\b\b\b\b\b\b\b\b\b\b\b\b\b\b\b\b\b\b\b\b\b\b\b\b\b\b\b\b\b\b\b\b\b\b\b\b\b\b\b\b\b\b\b\b\b\b\b\b\b\b\b\b\b\b\b\b\b\b\b\b\b\b\b\b\b\b\b\b\b\b\b\b\b\b\b\b\b\b\b\b\b\b\b\b\b\b\b\b\b\b\b\b\b\b\b\b\b\b\b\b\b\b\b\b\b\b\b\b\b\b\b\b\b\b\b\b\b\b\b\b\b\b\b\b\b\b\b\b\b\b\b\b\b\b\b\b\b\b\b\b\b\b\b\b\b\b\b\b\b\b\b\b\b\b\b\b\b\b\b\b\b\b\b\b\b\b\b\b\b\b\b\b\b\b\b\b\b\b\b\b\b\b\b\b\b\b\b\b\b\b\b\b\b\b\b\b\b\b\b\b\b\b\b\b\b\b\b\b\b\b\b\b\b\b\b\b\b\b\b\b\b\b\b\b\b\b\b\b\b\b\b\b\b\b\b\b\b\b\b\b\b\b\b\b\b\b\b\b\b\b\b\b\b\b\b\b\b\b\b\b\b\b\b\b\b\b\b\b\b\b\b\b\b\b\b\b\b\b\b\b\b\b\b\b\b\b\b\b\b\b\b\b\b\b\b\b\b\b\b\b\b\b\b\b\b\b\b\b\b\b\b\b\b\b\b\b\b\b\b\b\b\b\b\b\b\b\b\b\b\b\b\b\b\b\b\b\b\b\b\b\b\b\b\b\b\b\b\b\b\b\b\b\b\b\b\b\b\b\b\b\b\b\b\b\b\b\b\b\b\b\b\b\b\b\b\b\b\b\b\b\b\b\b\b\b\b\b\b\b\b\b\b\b\b\b\b\b\b\b\b\b\b\b\b\b\b\b\b\b\b\b\b\b\b\b\b\b\b\b\b\b\b\b\b\b\b\b\b\b\b\b\b\b\b\b\b\b\b\b\b\b\b\b\b\b\b\b\b\b\b\b\b\b\b\b\b\b\b\b\b\b\b\b\b\b\b\b\b\b\b\b\b\b\b\b\b\b\b\b\b\b\b\b\b\b\b\b\b\b\b\b\b\b\b\b\b\b\b\b\b\b\b\b\b\b\b\b\b\b\b\b\b\b\b\b\b\b\b\b\b\b\b\b\b\b\b\b\b\b\b\b\b\b\b\b\b\b\b\b\b\b\b\b\b\b\b\b\b\b\b\b\b\b\b\b\b\b\b\b\b\b\b\b\b\b\b\b\b\b\b\b\b\b\b\b\b\b\b\b\b\b\b\b\b\b\b\b\b\b\b\b\b\b\b\b\b\b\b\b\b\b\b\b\b\b\b\b\b\b\b\b\b\b\b\b\b\b\b\b\b\b\b\b\b\b\b\b\b\b\b\b\b\b\b\b\b\b\b\b\b\b\b\b\b\b\b\b\b\b\b\b\b\b\b\b\b\b\b\b\b\b\b\b\b\b\b\b\b\b\b\b\b\b\b\b\b\b\b\b\b\b\b\b\b\b\b\b\b\b\b\b\b\b\b\b\b\b\b\b\b\b\b\b\b\b\b\b\b\b\b\b\b\b\b\b\b\b\b\b\b\b\b\b\b\b\b\b\b\b\b\b\b\b\b\b\b\b\b\b\b\b\b\b\b\b\b\b\b\b\b\b\b\b\b\b\b\b\b\b\b\b\b\b\b\b\b\b\b\b\b\b\b\b\b\b\b\b\b\b\b\b\b\b\b\b\b\b\b\b\b\b\b\b\b\b\b\b\b\b\b\b\b\b\b\b\b\b\b\b\b\b\b\b\b\b\b\b\b\b\b\b\b\b\b\b\b\b\b\b\b\b\b\b\b\b\b\b\b\b\b\b\b\b\b\b\b\b\b\b\b\b\b\b\b\b\b\b\b\b\b\b\b\b\b\b\b\b\b\b\b\b\b\b\b\b\b\b\b\b\b\b\b\b\b\b\b\b\b\b\b\b\b\b\b\b\b\b\b\b\b\b\b\b\b\b\b\b\b\b\b\b\b\b\b\b\b\b\b\b\b\b\b\b\b\b\b\b\b\b\b\b\b\b\b\b\b\b\b\b\b\b\b\b\b\b\b\b\b\b\b\b\b\b\b\b\b\b\b\b\b\b\b\b\b\b\b\b\b\b\b\b\b\b\b\b\b\b\b\b\b\b\b\b\b\b\b\b\b\b\b\b\b\b\b\b\b\b\b\b\b\b\b\b\b\b\b\b\b\b\b\b\b\b\b\b\b\b\b\b\b\b\b\b\b\b\b\b\b\b\b\b\b\b\b\b\b\b\b\b\b\b\b\b\b\b\b\b\b\b\b\b\b\b\b\b\b\b\b\b\b\b\b\b\b\b\b\b\b\b\b\b\b\b\b\b\b\b\b\b\b\b\b\b\b\b\b\b\b\b\b\b\b\b\b\b\b\b\b\b\b\b\b\b\b\b\b\b\b\b\b\b\b\b\b\b\b\b\b\b\b\b\b\b\b\b\b\b\b\b\b\b\b\b\b\b\b\b\b\b\b\b\b\b\b\b\b\b\b\b\b\b\b\b\b\b\b\b\b\b\b\b\b\b\b\b\b\b\b\b\b\b\b\b\b\b\b\b\b\b\b\b\b\b\b\b\b\b\b\b\b\b\b\b\b\b\b\b\b\b\b\b\b\b\b\b\b\b\b\b\b\b\b\b\b\b\b\b\b\b\b\b\b\b\b\b\b\b\b\b\b\b\b\b\b\b\b\b\b\b\b\b\b\b\b\b\b\b\b\b\b\b\b\b\b\b\b\b\b\b\b\b\b\b\b\b\b\b\b\b\b\b\b\b\b\b\b\b\b\b\b\b\b\b\b\b\b\b\b\b\b\b\b\b\b\b\b\b\b\b\b\b\b\b\b\b\b\b\b\b\b\b\b\b\b\b\b\b\b\b\b\b\b\b\b\b\b\b\b\b\b\b\b\b\b\b\b\b\b\b\b\b\b\b\b\b\b\b\b\b\b\b\b\b\b\b\b\b\b\b\b\b\b\b\b\b\b\b\b\b\b\b\b\b\b\b\b\b\b\b\b\b\b\b\b\b\b\b\b\b\b\b\b\b\b\b\b\b\b\b\b\b\b\b\b\b\b\b\b\b\b\b\b\b\b\b\b\b\b\b\b\b\b\b\b\b\b\b\b\b\b\b\b\b\b\b\b\b\b\b\b\b\b\b\b\b\b\b\b\b\b\b\b\b\b\b\b\b\b\b\b\b\b\b\b\b\b\b\b\b\b\b\b\b\b\b\b\b\b\b\b\b\b\b\b\b\b\b\b\b\b\b\b\b\b\b\b\b\b\b\b\b\b\b\b\b\b\b\b\b\b\b\b\b\b\b\b\b\b\b\b\b\b\b\b\b\b\b\b\b\b\b\b\b\b\b\b\b\b\b\b\b\b\b\b\b\b\b\n",
      "[8.0140946769714354, 0.00033799998593167404]\n"
     ]
    }
   ],
   "source": [
    "score = model_2.evaluate(x_test, y_test, batch_size=20000)\n",
    "print score"
   ]
  },
  {
   "cell_type": "code",
   "execution_count": 10,
   "metadata": {
    "scrolled": true
   },
   "outputs": [
    {
     "data": {
      "image/png": "[encoded data removed]",
      "text/plain": [
       "<matplotlib.figure.Figure at 0x7fef1864db50>"
      ]
     },
     "metadata": {},
     "output_type": "display_data"
    }
   ],
   "source": [
    "import matplotlib.pyplot as plt\n",
    "\n",
    "plt.plot(hist2.history['acc'])\n",
    "plt.plot(hist2.history['val_acc'])\n",
    "plt.title('model accuracy')\n",
    "plt.ylabel('Accuracy')\n",
    "plt.xlabel('epoch')\n",
    "plt.legend(['train','test'],loc='lower right')\n",
    "plt.show()\n",
    "plt.savefig('mlp_1mill_rmsprop_acc.png')\n"
   ]
  },
  {
   "cell_type": "markdown",
   "metadata": {},
   "source": [
    "**Train accuracy:4.8358e-04 <br>Test accuracy:0.000337999**"
   ]
  },
  {
   "cell_type": "code",
   "execution_count": 19,
   "metadata": {},
   "outputs": [
    {
     "data": {
      "image/png": "[encoded data removed]",
      "text/plain": [
       "<matplotlib.figure.Figure at 0x7feab78c0750>"
      ]
     },
     "metadata": {},
     "output_type": "display_data"
    }
   ],
   "source": [
    "plt.plot(hist2.history['loss'])\n",
    "plt.title('model loss')\n",
    "plt.plot(hist2.history['val_loss'])\n",
    "plt.ylabel('loss')\n",
    "plt.xlabel('epoch')\n",
    "plt.legend(['train','test'],loc='lower right')\n",
    "plt.show()\n",
    "plt.savefig('mlp_1mill_rmsprop_loss.png')\n"
   ]
  },
  {
   "cell_type": "markdown",
   "metadata": {
    "collapsed": true
   },
   "source": [
    "**Train loss: 7.9960<br>Test Loss:8.014094676**"
   ]
  },
  {
   "cell_type": "markdown",
   "metadata": {},
   "source": [
    "**This MLP model uses adagrad optimizer and relu activations**"
   ]
  },
  {
   "cell_type": "code",
   "execution_count": 12,
   "metadata": {},
   "outputs": [
    {
     "name": "stdout",
     "output_type": "stream",
     "text": [
      "Train on 669999 samples, validate on 330001 samples\n",
      "Epoch 1/10\n",
      "33s - loss: 8.5480 - acc: 2.9552e-04 - val_loss: 8.0069 - val_acc: 2.9091e-04\n",
      "Epoch 2/10\n",
      "33s - loss: 8.0051 - acc: 3.9403e-04 - val_loss: 8.0085 - val_acc: 2.9394e-04\n",
      "Epoch 3/10\n",
      "33s - loss: 8.0028 - acc: 4.5821e-04 - val_loss: 8.0105 - val_acc: 3.8788e-04\n",
      "Epoch 4/10\n",
      "34s - loss: 7.9999 - acc: 4.5821e-04 - val_loss: 8.0152 - val_acc: 3.8182e-04\n",
      "Epoch 5/10\n",
      "32s - loss: 7.9967 - acc: 4.7761e-04 - val_loss: 8.0200 - val_acc: 3.4545e-04\n",
      "Epoch 6/10\n",
      "32s - loss: 7.9931 - acc: 5.1343e-04 - val_loss: 8.0232 - val_acc: 3.8182e-04\n",
      "Epoch 7/10\n",
      "33s - loss: 7.9888 - acc: 4.9403e-04 - val_loss: 8.0267 - val_acc: 4.0000e-04\n",
      "Epoch 8/10\n",
      "33s - loss: 7.9847 - acc: 5.7761e-04 - val_loss: 8.0335 - val_acc: 3.7879e-04\n",
      "Epoch 9/10\n",
      "33s - loss: 7.9803 - acc: 5.8657e-04 - val_loss: 8.0378 - val_acc: 3.9697e-04\n",
      "Epoch 10/10\n",
      "33s - loss: 7.9758 - acc: 6.4925e-04 - val_loss: 8.0403 - val_acc: 4.0606e-04\n"
     ]
    }
   ],
   "source": [
    "model_3 = Sequential()\n",
    "model_3.add(Dense(1000, activation='relu', input_dim=40))\n",
    "model_3.add(Dense(1000, activation='relu'))\n",
    "model_3.add(Dense(3000, activation='softmax'))\n",
    "model_3.compile(optimizer='adagrad',\n",
    "              loss='categorical_crossentropy',\n",
    "              metrics=['accuracy'])\n",
    "\n",
    "\n",
    "\n",
    "hist3=model_3.fit(x_train,y_train,verbose = 2,validation_split=0.33,epochs=10,batch_size=20000)"
   ]
  },
  {
   "cell_type": "code",
   "execution_count": 13,
   "metadata": {},
   "outputs": [
    {
     "name": "stdout",
     "output_type": "stream",
     "text": [
      "1000000/1000000 [==============================] - 28s     \b\b\b\b\b\b\b\b\b\b\b\b\b\b\b\b\b\b\b\b\b\b\b\b\b\b\b\b\b\b\b\b\b\b\b\b\b\b\b\b\b\b\b\b\b\b\b\b\b\b\b\b\b\b\b\b\b\b\b\b\b\b\b\b\b\b\b\b\b\b\b\b\b\b\b\b\b\b\b\b\b\b\b\b\b\b\b\b\b\b\b\b\b\b\b\b\b\b\b\b\b\b\b\b\b\b\b\b\b\b\b\b\b\b\b\b\b\b\b\b\b\b\b\b\b\b\b\b\b\b\b\b\b\b\b\b\b\b\b\b\b\b\b\b\b\b\b\b\b\b\b\b\b\b\b\b\b\b\b\b\b\b\b\b\b\b\b\b\b\b\b\b\b\b\b\b\b\b\b\b\b\b\b\b\b\b\b\b\b\b\b\b\b\b\b\b\b\b\b\b\b\b\b\b\b\b\b\b\b\b\b\b\b\b\b\b\b\b\b\b\b\b\b\b\b\b\b\b\b\b\b\b\b\b\b\b\b\b\b\b\b\b\b\b\b\b\b\b\b\b\b\b\b\b\b\b\b\b\b\b\b\b\b\b\b\b\b\b\b\b\b\b\b\b\b\b\b\b\b\b\b\b\b\b\b\b\b\b\b\b\b\b\b\b\b\b\b\b\b\b\b\b\b\b\b\b\b\b\b\b\b\b\b\b\b\b\b\b\b\b\b\b\b\b\b\b\b\b\b\b\b\b\b\b\b\b\b\b\b\b\b\b\b\b\b\b\b\b\b\b\b\b\b\b\b\b\b\b\b\b\b\b\b\b\b\b\b\b\b\b\b\b\b\b\b\b\b\b\b\b\b\b\b\b\b\b\b\b\b\b\b\b\b\b\b\b\b\b\b\b\b\b\b\b\b\b\b\b\b\b\b\b\b\b\b\b\b\b\b\b\b\b\b\b\b\b\b\b\b\b\b\b\b\b\b\b\b\b\b\b\b\b\b\b\b\b\b\b\b\b\b\b\b\b\b\b\b\b\b\b\b\b\b\b\b\b\b\b\b\b\b\b\b\b\b\b\b\b\b\b\b\b\b\b\b\b\b\b\b\b\b\b\b\b\b\b\b\b\b\b\b\b\b\b\b\b\b\b\b\b\b\b\b\b\b\b\b\b\b\b\b\b\b\b\b\b\b\b\b\b\b\b\b\b\b\b\b\b\b\b\b\b\b\b\b\b\b\b\b\b\b\b\b\b\b\b\b\b\b\b\b\b\b\b\b\b\b\b\b\b\b\b\b\b\b\b\b\b\b\b\b\b\b\b\b\b\b\b\b\b\b\b\b\b\b\b\b\b\b\b\b\b\b\b\b\b\b\b\b\b\b\b\b\b\b\b\b\b\b\b\b\b\b\b\b\b\b\b\b\b\b\b\b\b\b\b\b\b\b\b\b\b\b\b\b\b\b\b\b\b\b\b\b\b\b\b\b\b\b\b\b\b\b\b\b\b\b\b\b\b\b\b\b\b\b\b\b\b\b\b\b\b\b\b\b\b\b\b\b\b\b\b\b\b\b\b\b\b\b\b\b\b\b\b\b\b\b\b\b\b\b\b\b\b\b\b\b\b\b\b\b\b\b\b\b\b\b\b\b\b\b\b\b\b\b\b\b\b\b\b\b\b\b\b\b\b\b\b\b\b\b\b\b\b\b\b\b\b\b\b\b\b\b\b\b\b\b\b\b\b\b\b\b\b\b\b\b\b\b\b\b\b\b\b\b\b\b\b\b\b\b\b\b\b\b\b\b\b\b\b\b\b\b\b\b\b\b\b\b\b\b\b\b\b\b\b\b\b\b\b\b\b\b\b\b\b\b\b\b\b\b\b\b\b\b\b\b\b\b\b\b\b\b\b\b\b\b\b\b\b\b\b\b\b\b\b\b\b\b\b\b\b\b\b\b\b\b\b\b\b\b\b\b\b\b\b\b\b\b\b\b\b\b\b\b\b\b\b\b\b\b\b\b\b\b\b\b\b\b\b\b\b\b\b\b\b\b\b\b\b\b\b\b\b\b\b\b\b\b\b\b\b\b\b\b\b\b\b\b\b\b\b\b\b\b\b\b\b\b\b\b\b\b\b\b\b\b\b\b\b\b\b\b\b\b\b\b\b\b\b\b\b\b\b\b\b\b\b\b\b\b\b\b\b\b\b\b\b\b\b\b\b\b\b\b\b\b\b\b\b\b\b\b\b\b\b\b\b\b\b\b\b\b\b\b\b\b\b\b\b\b\b\b\b\b\b\b\b\b\b\b\b\b\b\b\b\b\b\b\b\b\b\b\b\b\b\b\b\b\b\b\b\b\b\b\b\b\b\b\b\b\b\b\b\b\b\b\b\b\b\b\b\b\b\b\b\b\b\b\b\b\b\b\b\b\b\b\b\b\b\b\b\b\b\b\b\b\b\b\b\b\b\b\b\b\b\b\b\b\b\b\b\b\b\b\b\b\b\b\b\b\b\b\b\b\b\b\b\b\b\b\b\b\b\b\b\b\b\b\b\b\b\b\b\b\b\b\b\b\b\b\b\b\b\b\b\b\b\b\b\b\b\b\b\b\b\b\b\b\b\b\b\b\b\b\b\b\b\b\b\b\b\b\b\b\b\b\b\b\b\b\b\b\b\b\b\b\b\b\b\b\b\b\b\b\b\b\b\b\b\b\b\b\b\b\b\b\b\b\b\b\b\b\b\b\b\b\b\b\b\b\b\b\b\b\b\b\b\b\b\b\b\b\b\b\b\b\b\b\b\b\b\b\b\b\b\b\b\b\b\b\b\b\b\b\b\b\b\b\b\b\b\b\b\b\b\b\b\b\b\b\b\b\b\b\b\b\b\b\b\b\b\b\b\b\b\b\b\b\b\b\b\b\b\b\b\b\b\b\b\b\b\b\b\b\b\b\b\b\b\b\b\b\b\b\b\b\b\b\b\b\b\b\b\b\b\b\b\b\b\b\b\b\b\b\b\b\b\b\b\b\b\b\b\b\b\b\b\b\b\b\b\b\b\b\b\b\b\b\b\b\b\b\b\b\b\b\b\b\b\b\b\b\b\b\b\b\b\b\b\b\b\b\b\b\b\b\b\b\b\b\b\b\b\b\b\b\b\b\b\b\b\b\b\b\b\b\b\b\b\b\b\b\b\b\b\b\b\b\b\b\b\b\b\b\b\b\b\b\b\b\b\b\b\b\b\b\b\b\b\b\b\b\b\b\b\b\b\b\b\b\b\b\b\b\b\b\b\b\b\b\b\b\b\b\b\b\b\b\b\b\b\b\b\b\b\b\b\b\b\b\b\b\b\b\b\b\b\b\b\b\b\b\b\b\b\b\b\b\b\b\b\b\b\b\b\b\b\b\b\b\b\b\b\b\b\b\b\b\b\b\b\b\b\b\b\b\b\b\b\b\b\b\b\b\b\b\b\b\b\b\b\b\b\b\b\b\b\b\b\b\b\b\b\b\b\b\b\b\b\b\b\b\b\b\b\b\b\b\b\b\b\b\b\b\b\b\b\b\b\b\b\b\b\b\b\b\b\b\b\b\b\b\b\b\b\b\b\b\b\b\b\b\b\b\b\b\b\b\b\b\b\b\b\b\b\b\b\b\b\b\b\b\b\b\b\b\b\b\b\b\b\b\b\b\b\b\b\b\b\b\b\b\b\b\b\b\b\b\b\b\b\b\b\b\b\b\b\b\b\b\b\b\b\b\b\b\b\b\b\b\b\b\b\b\b\b\b\b\b\b\b\b\b\b\b\b\b\b\b\b\b\b\b\b\b\b\b\b\b\b\b\b\b\b\b\b\b\b\b\b\b\b\b\b\b\b\b\b\b\b\b\b\b\b\b\b\b\b\b\b\b\b\b\b\b\b\b\b\b\b\b\b\b\b\b\b\b\b\b\b\b\b\b\b\b\b\b\b\b\b\b\b\b\b\b\b\b\b\b\b\b\b\b\b\b\b\b\b\b\b\b\b\b\b\b\b\b\b\b\b\b\b\b\b\b\b\b\b\b\b\b\b\b\b\b\b\b\b\b\b\b\b\b\b\b\b\b\b\b\b\b\b\b\b\b\b\b\b\b\b\b\b\b\b\b\b\b\b\b\b\b\b\b\b\b\b\b\b\b\b\b\b\b\b\b\b\b\b\b\b\b\b\b\b\b\b\b\b\b\b\b\b\b\b\b\b\b\b\b\b\b\b\b\b\b\b\b\b\b\b\b\b\b\b\b\b\b\b\b\b\b\b\b\b\b\b\b\b\b\b\b\b\b\b\b\b\b\b\b\b\b\b\b\b\b\b\b\b\b\b\b\b\b\b\b\b\b\b\b\b\b\b\b\b\b\b\b\b\b\b\b\b\b\b\b\b\b\b\b\b\b\b\b\b\b\b\b\b\b\b\b\b\b\b\b\b\b\b\b\b\b\b\b\b\b\b\b\b\b\b\b\b\b\b\b\b\b\b\b\b\b\b\b\b\b\b\b\b\b\b\b\b\b\b\b\b\b\b\b\b\b\b\b\b\b\b\b\b\b\b\b\b\b\b\b\b\b\b\b\b\b\b\b\b\b\b\b\b\b\b\b\b\b\b\b\b\b\b\b\b\b\b\b\b\b\b\b\b\b\b\b\b\b\b\b\b\b\b\b\b\b\b\b\b\b\b\b\b\b\b\b\b\b\b\b\b\b\b\b\b\b\b\b\b\b\b\b\b\b\b\b\b\b\b\b\b\b\b\b\b\b\b\b\b\b\b\b\b\b\b\b\b\b\b\b\b\b\b\b\b\b\b\b\b\b\b\b\b\b\b\b\b\b\b\b\b\b\b\b\b\b\b\b\b\b\b\b\b\b\b\b\b\b\b\b\b\b\b\b\b\b\b\b\b\b\b\b\b\b\b\b\b\b\b\b\b\b\b\b\b\b\b\b\b\b\b\b\b\b\b\b\b\b\b\b\b\b\b\b\b\b\b\b\b\b\b\b\b\b\b\b\b\b\b\b\b\b\b\b\b\b\b\b\b\b\b\b\b\b\b\b\b\b\b\b\b\b\b\b\b\b\b\b\b\b\b\b\b\b\b\b\b\b\b\b\b\b\b\b\b\b\b\b\b\b\b\b\b\b\b\b\b\b\b\b\b\b\b\b\b\b\b\b\b\b\b\b\b\b\b\b\b\b\b\b\b\b\b\b\b\b\b\b\b\b\b\b\b\b\b\b\b\b\b\b\b\b\b\b\b\b\b\b\b\b\b\b\b\b\b\b\b\b\b\b\b\b\b\b\b\b\b\b\b\b\b\b\b\b\b\b\b\b\b\b\b\b\b\b\b\b\b\b\b\b\b\b\b\b\b\b\b\b\b\b\b\b\b\b\b\b\b\b\b\b\b\b\b\b\b\b\b\b\b\b\b\b\b\b\b\b\b\b\b\b\b\b\b\b\b\b\b\b\b\b\b\b\b\b\b\b\b\b\b\b\b\b\b\b\b\b\b\b\b\b\b\b\b\b\b\b\b\b\b\b\b\b\b\b\b\b\b\b\b\b\b\b\b\b\b\b\b\b\b\b\b\b\b\b\b\b\b\b\b\b\b\b\b\b\b\b\b\b\b\b\b\b\b\b\b\b\b\b\b\b\b\b\b\b\b\b\b\b\b\b\b\b\b\b\b\b\b\b\b\b\b\b\b\b\b\b\b\b\b\b\b\b\b\b\b\b\b\b\b\b\b\b\b\b\b\b\b\b\b\b\b\b\b\b\b\b\b\b\b\b\b\b\b\b\b\b\b\b\b\b\b\b\b\b\b\b\b\b\b\b\b\b\b\b\b\b\b\b\b\b\b\b\b\b\b\b\b\b\b\b\b\b\b\b\b\b\b\b\b\b\b\b\b\b\b\b\b\b\b\b\b\b\b\b\b\b\b\b\b\b\b\b\b\b\b\b\b\b\b\b\b\b\b\b\b\b\b\b\b\b\b\b\b\b\b\b\b\b\b\b\b\b\b\b\b\b\b\b\b\b\b\b\b\b\b\b\b\b\b\b\b\b\b\b\b\b\b\b\b\b\b\b\b\b\b\b\b\b\b\b\b\b\b\b\b\b\b\b\b\b\b\b\b\b\b\b\b\b\b\b\b\b\b\b\b\b\b\b\b\b\b\b\b\b\b\b\b\b\b\b\b\b\b\b\b\b\b\b\b\b\b\b\b\b\b\b\b\b\b\b\b\b\b\b\b\b\b\b\b\b\b\b\b\b\b\b\b\b\b\b\b\b\b\b\b\b\b\b\b\b\b\b\b\b\b\b\b\b\b\b\b\b\b\b\b\b\b\b\b\b\b\b\b\b\b\b\b\b\b\b\b\b\b\b\b\b\b\b\b\b\b\b\b\b\b\b\b\b\b\b\b\b\b\b\b\b\b\b\b\b\b\b\b\b\b\b\b\b\n",
      "[8.0250497627258301, 0.00034799998247763141]\n"
     ]
    }
   ],
   "source": [
    "score = model_3.evaluate(x_test, y_test, batch_size=20000)\n",
    "print score"
   ]
  },
  {
   "cell_type": "code",
   "execution_count": 16,
   "metadata": {
    "scrolled": true
   },
   "outputs": [
    {
     "data": {
      "image/png": "[encoded data removed]",
      "text/plain": [
       "<matplotlib.figure.Figure at 0x7feab7378750>"
      ]
     },
     "metadata": {},
     "output_type": "display_data"
    }
   ],
   "source": [
    "import matplotlib.pyplot as plt\n",
    "\n",
    "plt.plot(hist3.history['acc'])\n",
    "plt.plot(hist3.history['val_acc'])\n",
    "plt.title('model accuracy')\n",
    "plt.ylabel('Accuracy')\n",
    "plt.xlabel('epoch')\n",
    "plt.legend(['train','test'],loc='lower right')\n",
    "plt.show()\n",
    "plt.savefig('mlp_1mill_adagrad_acc.png')\n"
   ]
  },
  {
   "cell_type": "markdown",
   "metadata": {},
   "source": [
    "**Train accuracy:6.4925e-04 <br>Test accuracy:0.0003479999**"
   ]
  },
  {
   "cell_type": "code",
   "execution_count": 18,
   "metadata": {
    "scrolled": false
   },
   "outputs": [
    {
     "data": {
      "image/png": "[encoded data removed]",
      "text/plain": [
       "<matplotlib.figure.Figure at 0x7feab6df03d0>"
      ]
     },
     "metadata": {},
     "output_type": "display_data"
    }
   ],
   "source": [
    "import matplotlib.pyplot as plt\n",
    "\n",
    "plt.plot(hist3.history['loss'])\n",
    "plt.plot(hist3.history['val_loss'])\n",
    "plt.title('model loss')\n",
    "plt.ylabel('loss')\n",
    "plt.xlabel('epoch')\n",
    "plt.legend(['train','test'],loc='lower right')\n",
    "plt.show()\n",
    "plt.savefig('mlp_1mill_adagrad_acc.png')\n"
   ]
  },
  {
   "cell_type": "markdown",
   "metadata": {},
   "source": [
    "**Train loss:7.9758<br>Test Loss:8.02504976**"
   ]
  },
  {
   "cell_type": "markdown",
   "metadata": {},
   "source": [
    "**May 27th**: Setting up kaldi to find tied state alignments"
   ]
  },
  {
   "cell_type": "markdown",
   "metadata": {},
   "source": [
    "I install kaldi and all its dependencies.The kaldi distribution comes with a wsj recipe. But I found out our corpus \n",
    "is not a LDC distribution, so the recipe won't work. \n",
    "\n",
    "Onto Sphinx3_align."
   ]
  },
  {
   "cell_type": "markdown",
   "metadata": {
    "collapsed": true
   },
   "source": [
    "**May 30th**:Refactoring"
   ]
  },
  {
   "cell_type": "markdown",
   "metadata": {
    "collapsed": true
   },
   "source": [
    "**June 1st**: Setting up Sphinx3 and 4"
   ]
  },
  {
   "cell_type": "markdown",
   "metadata": {
    "collapsed": true
   },
   "source": [
    "Sphinx3_align only reads wav files so I have to convert all flac files to wav.<br>\n",
    "I used this bash command <br>\n",
    "\n",
    "**while read in; do sox \"`$`in\" \"`$`in.wav\" ; done < flac_paths.txt**<br>\n",
    "<br>\n",
    "where flac_paths is file with paths to all flac files.This file was generated using modifying the run.py script"
   ]
  },
  {
   "cell_type": "markdown",
   "metadata": {},
   "source": [
    "**June 3rd: ** Converting audio files to mfc features.\n",
    "<br><br>\n",
    "The command to do that is:<br>\n",
    ">**sphinx_fe -argfile /media/t-rex/F/sphinx/wsj_all_cd30.mllt_cd_cont_4000/feat.params -c new_paths.ctl  -do feat/ -mswav yes -eo mfc**\n",
    "\n",
    "<br>\n",
    "-argfile is wsj model path<br>\n",
    "-c is for converting multiple audios with a single control file. path to control file follows.<br>\n",
    "-do is output directory which will contain .mfc features <br>\n",
    "-mswav is true when input files are wav<br>\n",
    "-eo is extension of output files<br>"
   ]
  },
  {
   "cell_type": "markdown",
   "metadata": {},
   "source": [
    "**Computing feats**<br>\n",
    "<br>\n",
    "The command to do that is:<br>\n",
    ">**sphinx3_align -hmm /media/t-rex/F/sphinx/wsj_all_cd30.mllt_cd_cont_4000 -dict cmudict.0.6d.wsj0 -ctl new_paths.ctl -cepdir feat/ -cepext .mfc -insent wsj0.trans -outsent wsj0.out -phlabdir phlabdir -lda wsj_all_cd30.mllt_cd_cont_4000/feature_transform**\n",
    "\n",
    "<br>\n",
    "-hmm is model file<br>\n",
    "-dict is dictionary<br>\n",
    "-ctl is control file<br>\n",
    "-cepdir is features folder\n"
   ]
  },
  {
   "cell_type": "markdown",
   "metadata": {},
   "source": [
    "**Exam break till 16th**"
   ]
  },
  {
   "cell_type": "markdown",
   "metadata": {
    "collapsed": true
   },
   "source": [
    " "
   ]
  },
  {
   "cell_type": "markdown",
   "metadata": {},
   "source": [
    "**June 18th:**"
   ]
  },
  {
   "cell_type": "markdown",
   "metadata": {},
   "source": [
    "# **Getting Started with CNN-LSTM**\n"
   ]
  },
  {
   "cell_type": "markdown",
   "metadata": {},
   "source": [
    "Starting off, I will implement the LSTM without the CTC for preliminary results"
   ]
  },
  {
   "cell_type": "markdown",
   "metadata": {},
   "source": [
    "Reading up on LSTMs and CTC from these excellent resources:<br>\n",
    "http://colah.github.io/posts/2015-08-Understanding-LSTMs/<br>\n",
    "http://karpathy.github.io/2015/05/21/rnn-effectiveness/<br>\n",
    "https://www.cs.toronto.edu/~graves/asru_2013.pdf<br>\n",
    "https://gab41.lab41.org/speech-recognition-you-down-with-ctc-8d3b558943f0<br>\n",
    "\n"
   ]
  },
  {
   "cell_type": "markdown",
   "metadata": {},
   "source": [
    "![alt text](plots/img1.png \"Bidirectional LSTM\")"
   ]
  },
  {
   "cell_type": "markdown",
   "metadata": {},
   "source": [
    ">One shortcoming of conventional RNNs is that they are \n",
    "only able to make use of previous context. In speech recognition,\n",
    "where whole utterances are transcribed at once, there\n",
    "is no reason not to exploit future context as well. Bidirectional\n",
    "RNNs (BRNNs) do this by processing the data in\n",
    "both directions with two separate hidden layers, which are\n",
    "then fed forwards to the same output layer\n",
    "\n",
    "An Interesting takeaway from the paper is that LSTM-CTC don't need alignments which can be error prone sometimes\n",
    "\n",
    ">The networks consisted of five bidirectional\n",
    "hidden levels, each containing two LSTM layers of 250\n",
    "cells, along with a size 62 softmax output layer (one unit\n",
    "for each phoneme, plus an extra blank unit)\n",
    "\n",
    "some specifics:<br>\n",
    ">+DBLSTM used with CTC has 5 bidirectional layers with 250 units.\n",
    "+123 dimensional features were used (40 dim log spectra+delta+acc).<br>\n",
    "+No context frames were used (Added to frame). The RNN models the context internally.<br>\n",
    "+Whole utterences were used as input, not random sequence of frames from dataset.<br>\n",
    "+Gaussian noise regularization proved more effectie than dropout and L1, L2.<br>\n",
    "+Trained on 14 hour train_si_84 training set.<br>\n",
    "+Tested on test_dev93 set.<br>\n",
    "+Increasing FER decreases WER.<br>\n",
    "+SGD used with 10^-4 learning rate and 0.9 momentum.random weight init from [-1,1].<br>\n",
    "+CTC has 62+1 softmax output for every phoneme plus one blank label.<br>\n"
   ]
  },
  {
   "cell_type": "markdown",
   "metadata": {},
   "source": [
    "**June 20th:**"
   ]
  },
  {
   "cell_type": "markdown",
   "metadata": {},
   "source": [
    "**Using keras LSTM API**"
   ]
  },
  {
   "cell_type": "code",
   "execution_count": 59,
   "metadata": {
    "collapsed": true
   },
   "outputs": [],
   "source": [
    "#importing required libraries\n",
    "from keras.models import Sequential\n",
    "from keras.layers import Dense, Dropout, Activation,LSTM\n",
    "from keras.optimizers import SGD\n",
    "import numpy as np\n",
    "from keras.utils import to_categorical"
   ]
  },
  {
   "cell_type": "code",
   "execution_count": 60,
   "metadata": {
    "collapsed": true
   },
   "outputs": [],
   "source": [
    "#loading data from compressed arrays\n",
    "xtrain = np.load('/media/t-rex/F/local/xtrain.npy')\n",
    "#xdev = np.load('wsj0_phonelabels_dev.npy')\n",
    "xtest = np.load('/media/t-rex/F/local/xtest.npy')\n",
    "ytrain = np.load('/media/t-rex/F/local/ytrain.npy')\n",
    "ytest = np.load('/media/t-rex/F/local/ytest.npy')\n",
    "#test = np.load('/media/t-rex/F/local/data_FILES/wsj0_phonelabels_test.npy')\n",
    "#meta = np.load('/media/t-rex/F/local/data_FILES/wsj0_phonelabels_meta.npz')\n",
    "#ytrain= meta['Y_Train']\n",
    "#ytest =  meta['Y_Test']"
   ]
  },
  {
   "cell_type": "code",
   "execution_count": 3,
   "metadata": {
    "collapsed": true
   },
   "outputs": [],
   "source": [
    "# reshape input to be [samples, time steps, features]\n",
    "xtrain = np.reshape(xtrain, (xtrain.shape[0], 1, xtrain.shape[1]))\n",
    "xtest = np.reshape(xtest, (xtest.shape[0], 1, xtest.shape[1]))\n"
   ]
  },
  {
   "cell_type": "code",
   "execution_count": 7,
   "metadata": {
    "collapsed": true
   },
   "outputs": [],
   "source": [
    "#one hot\n",
    "ytrain = to_categorical(ytrain, num_classes = 132)\n",
    "ytest =to_categorical(ytest,num_classes=132)"
   ]
  },
  {
   "cell_type": "markdown",
   "metadata": {},
   "source": [
    "using 1 million input frames and 50k test frames for testing "
   ]
  },
  {
   "cell_type": "code",
   "execution_count": 61,
   "metadata": {
    "scrolled": true
   },
   "outputs": [
    {
     "name": "stdout",
     "output_type": "stream",
     "text": [
      "(5000, 26)\n",
      "(5000,)\n",
      "(500, 26)\n",
      "(500,)\n"
     ]
    }
   ],
   "source": [
    "print xtrain.shape\n",
    "print ytrain.shape\n",
    "print xtest.shape\n",
    "print ytest.shape"
   ]
  },
  {
   "cell_type": "code",
   "execution_count": 4,
   "metadata": {
    "collapsed": true
   },
   "outputs": [],
   "source": [
    "#xtrain = np.concatenate((xtrain,xtest[:950000]),axis=0)\n",
    "#ytrain = np.concatenate((ytrain,ytest[:950000]),axis=0)\n",
    "xtest=xtest[:50000]\n",
    "ytest=ytest[:50000]\n"
   ]
  },
  {
   "cell_type": "markdown",
   "metadata": {},
   "source": [
    "### LSTM (1 layer 100 hidden units)"
   ]
  },
  {
   "cell_type": "code",
   "execution_count": null,
   "metadata": {
    "collapsed": true
   },
   "outputs": [],
   "source": [
    "model = Sequential()\n",
    "model.add(LSTM(100, input_shape=(1, 26)))\n",
    "model.add(Dropout(0.2))\n",
    "model.add(Dense(132, activation='softmax'))\n",
    "model.compile(optimizer='sgd',loss='categorical_crossentropy',metrics=['accuracy'])\n",
    "lstm_hist = model.fit(xtrain,ytrain,verbose = 2,validation_split=0.2,epochs=50,batch_size=100)\n",
    "\n"
   ]
  },
  {
   "cell_type": "code",
   "execution_count": 23,
   "metadata": {},
   "outputs": [
    {
     "name": "stdout",
     "output_type": "stream",
     "text": [
      "50000/50000 [==============================] - 1s     \n",
      "[3.0690024709701538, 0.19441999852657318]\n"
     ]
    }
   ],
   "source": [
    "score = model.evaluate(xtest, ytest, batch_size=1000)\n",
    "print score"
   ]
  },
  {
   "cell_type": "code",
   "execution_count": 24,
   "metadata": {},
   "outputs": [
    {
     "data": {
      "image/png": "[encoded data removed]",
      "text/plain": [
       "<matplotlib.figure.Figure at 0x7f17fa2ab550>"
      ]
     },
     "metadata": {},
     "output_type": "display_data"
    },
    {
     "data": {
      "image/png": "[encoded data removed]",
      "text/plain": [
       "<matplotlib.figure.Figure at 0x7f17e4fbced0>"
      ]
     },
     "metadata": {},
     "output_type": "display_data"
    }
   ],
   "source": [
    "import matplotlib.pyplot as plt\n",
    "\n",
    "printgraph(lstm_hist,'1layer_acc','1layer_loss',1,0,)"
   ]
  },
  {
   "cell_type": "markdown",
   "metadata": {},
   "source": [
    " slighty better results but still needs to improve "
   ]
  },
  {
   "cell_type": "markdown",
   "metadata": {},
   "source": [
    "Code to allocate fized amount of GPU memory (set gpu_fraction)<br>\n",
    "taken from https://groups.google.com/forum/#!topic/keras-users/MFUEY9P1sc8"
   ]
  },
  {
   "cell_type": "code",
   "execution_count": null,
   "metadata": {
    "collapsed": true
   },
   "outputs": [],
   "source": [
    "import os\n",
    "import tensorflow as tf\n",
    "import keras.backend.tensorflow_backend as KTF\n",
    "\n",
    "def get_session(gpu_fraction=0.8):\n",
    "    '''Assume that you have 6GB of GPU memory and want to allocate ~2GB'''\n",
    "\n",
    "    num_threads = os.environ.get('OMP_NUM_THREADS')\n",
    "    gpu_options = tf.GPUOptions(per_process_gpu_memory_fraction=gpu_fraction)\n",
    "\n",
    "    if num_threads:\n",
    "        return tf.Session(config=tf.ConfigProto(\n",
    "            gpu_options=gpu_options, intra_op_parallelism_threads=num_threads))\n",
    "    else:\n",
    "        return tf.Session(config=tf.ConfigProto(gpu_options=gpu_options))\n",
    "\n",
    "KTF.set_session(get_session())\n"
   ]
  },
  {
   "cell_type": "markdown",
   "metadata": {},
   "source": [
    "**June 24th:**"
   ]
  },
  {
   "cell_type": "markdown",
   "metadata": {},
   "source": [
    "Trained model on entire dataset. **No Change in accuracy.**"
   ]
  },
  {
   "cell_type": "markdown",
   "metadata": {},
   "source": [
    "**training**\n",
    "Epoch 50/50<br>\n",
    "227s - loss: 3.1983 - acc: 0.1815 - val_loss: 2.9937 - val_acc: 0.2029<br>\n",
    "<br>\n",
    "**Testing**<br>\n",
    "4027000/4032885 [============================>.] - ETA: 0s<br>\n",
    "[loss:3.2138663911548044, acc:0.19911056178495762]<br>"
   ]
  },
  {
   "cell_type": "markdown",
   "metadata": {},
   "source": [
    "### Stacked LSTM (3 layers with 100 hidden units)"
   ]
  },
  {
   "cell_type": "code",
   "execution_count": null,
   "metadata": {
    "collapsed": true
   },
   "outputs": [],
   "source": [
    "model = Sequential()\n",
    "model.add(LSTM(100, input_shape=(1, 26),return_sequences=True))\n",
    "model.add(Dropout(0.2))\n",
    "model.add(LSTM(100, input_shape=(1, 26),return_sequences=True))\n",
    "model.add(Dropout(0.2))\n",
    "model.add(LSTM(100, input_shape=(1, 26)))\n",
    "model.add(Dropout(0.2))\n",
    "model.add(Dense(132, activation='softmax'))\n",
    "model.compile(optimizer='sgd',loss='categorical_crossentropy',metrics=['accuracy'])\n",
    "lstm_hist = model.fit(xtrain,ytrain,verbose = 2,validation_split=0.2,epochs=50,batch_size=100)"
   ]
  },
  {
   "cell_type": "code",
   "execution_count": 9,
   "metadata": {},
   "outputs": [
    {
     "name": "stdout",
     "output_type": "stream",
     "text": [
      "50000/50000 [==============================] - 4s     \n",
      "[3.1286358165740968, 0.18588000059127807]\n"
     ]
    }
   ],
   "source": [
    "score = model.evaluate(xtest, ytest, batch_size=1000)\n",
    "print score"
   ]
  },
  {
   "cell_type": "code",
   "execution_count": 12,
   "metadata": {
    "scrolled": false
   },
   "outputs": [
    {
     "data": {
      "image/png": "[encoded data removed]",
      "text/plain": [
       "<matplotlib.figure.Figure at 0x7f9962db4290>"
      ]
     },
     "metadata": {},
     "output_type": "display_data"
    },
    {
     "data": {
      "image/png": "[encoded data removed]",
      "text/plain": [
       "<matplotlib.figure.Figure at 0x7f9952ee9ed0>"
      ]
     },
     "metadata": {},
     "output_type": "display_data"
    }
   ],
   "source": [
    "printgraph(lstm_hist,'stacked_acc','stacked_loss',1,0,)"
   ]
  },
  {
   "cell_type": "markdown",
   "metadata": {},
   "source": [
    "### **stacked LSTM does not generalize well over entire dataset**\n",
    "(this was a label error)"
   ]
  },
  {
   "cell_type": "markdown",
   "metadata": {
    "collapsed": true
   },
   "source": [
    "\n",
    "Epoch 9/50<br>\n",
    "193s - loss: 4.5673 - acc: 0.0354 - val_loss: 4.5578 - val_acc: 0.0375<br>\n",
    "Epoch 10/50<br>\n",
    "194s - loss: 4.5424 - acc: 0.0466 - val_loss: 4.5278 - val_acc: 0.0507<br>"
   ]
  },
  {
   "cell_type": "code",
   "execution_count": 6,
   "metadata": {
    "collapsed": true
   },
   "outputs": [],
   "source": [
    "# making sequences\n",
    "def create_dataset(dataset,targets ,look_back=1):\n",
    "    dataX, dataY = [], []\n",
    "    for i in range(len(dataset)-look_back):\n",
    "        dataX.append(dataset[i:(i+look_back), 0:len(dataset[1])])\n",
    "        #print targets[i+1:(i+look_back+1)]\n",
    "        dataY.append(targets[i+1:(i+look_back+1),0:132])\n",
    "    return np.array(dataX), np.array(dataY)\n"
   ]
  },
  {
   "cell_type": "code",
   "execution_count": 9,
   "metadata": {
    "collapsed": true
   },
   "outputs": [],
   "source": [
    "look_back = 2\n",
    "trainX, trainY = create_dataset(xtrain,ytrain, look_back)\n",
    "testX, testY = create_dataset(xtest,ytest, look_back)"
   ]
  },
  {
   "cell_type": "code",
   "execution_count": 18,
   "metadata": {
    "collapsed": true
   },
   "outputs": [],
   "source": [
    "# reshape input to be [samples, time steps, features]\n",
    "trainX = np.reshape(trainX, (trainX.shape[0], trainX.shape[1], 26))\n",
    "testX = np.reshape(testX, (testX.shape[0], testX.shape[1], 26))"
   ]
  },
  {
   "cell_type": "code",
   "execution_count": 23,
   "metadata": {
    "collapsed": true
   },
   "outputs": [],
   "source": [
    "#one hot\n",
    "trainY = to_categorical(trainY, num_classes = 132)\n",
    "testY =to_categorical(testY,num_classes=132)"
   ]
  },
  {
   "cell_type": "code",
   "execution_count": 22,
   "metadata": {
    "collapsed": true
   },
   "outputs": [],
   "source": [
    "ytrain=0\n",
    "ytest=0"
   ]
  },
  {
   "cell_type": "code",
   "execution_count": 10,
   "metadata": {},
   "outputs": [
    {
     "name": "stdout",
     "output_type": "stream",
     "text": [
      "(999998, 2, 26)\n",
      "(999998, 2, 132)\n",
      "(49998, 2, 26)\n",
      "(49998, 2, 132)\n"
     ]
    }
   ],
   "source": [
    "print trainX.shape\n",
    "print trainY.shape\n",
    "print testX.shape\n",
    "print testY.shape"
   ]
  },
  {
   "cell_type": "code",
   "execution_count": 13,
   "metadata": {
    "collapsed": true
   },
   "outputs": [],
   "source": [
    "np.save('/media/t-rex/F/big/trainx',trainX)\n",
    "np.save('/media/t-rex/F/big/trainy',trainY)\n",
    "np.save('/media/t-rex/F/big/testx',testX)\n",
    "np.save('/media/t-rex/F/big/testy',testY)"
   ]
  },
  {
   "cell_type": "code",
   "execution_count": null,
   "metadata": {
    "collapsed": true
   },
   "outputs": [],
   "source": [
    "from keras.utils import plot_model\n",
    "\n",
    "model = Sequential()\n",
    "model.add(LSTM(100, input_shape=(look_back, 26),return_sequences= True))\n",
    "model.add(Dropout(0.3))\n",
    "model.add(Dense(132,activation='softmax'))\n",
    "model.compile(optimizer='adam',loss='categorical_crossentropy',metrics=['accuracy'])\n",
    "\n",
    "lstm_hist=model.fit(trainX, trainY, epochs=5, validation_split=0.2,batch_size=1000, verbose=2)\n",
    "\n",
    "\n",
    "\n"
   ]
  },
  {
   "cell_type": "code",
   "execution_count": 35,
   "metadata": {
    "scrolled": true
   },
   "outputs": [
    {
     "name": "stdout",
     "output_type": "stream",
     "text": [
      "49998/49998 [==============================] - 6s     \n",
      "[3.0271602857446207, 0.20701828097144559]\n"
     ]
    }
   ],
   "source": [
    "score = model.evaluate(testX,testY, batch_size=1000)\n",
    "print score"
   ]
  },
  {
   "cell_type": "code",
   "execution_count": 38,
   "metadata": {},
   "outputs": [
    {
     "data": {
      "image/png": "[encoded data removed]",
      "text/plain": [
       "<matplotlib.figure.Figure at 0x7fe0a3c6e850>"
      ]
     },
     "metadata": {},
     "output_type": "display_data"
    },
    {
     "data": {
      "image/png": "[encoded data removed]",
      "text/plain": [
       "<matplotlib.figure.Figure at 0x7fe098033f50>"
      ]
     },
     "metadata": {},
     "output_type": "display_data"
    }
   ],
   "source": [
    "printgraph(lstm_hist,'singlelayer_acc','singlelayer_loss',1,0,)"
   ]
  },
  {
   "cell_type": "markdown",
   "metadata": {},
   "source": [
    "This model was trained with window size 2. I will train it again with a larger window size and update<br>\n",
    "Then I will train a stacked LSTM on the same window size"
   ]
  },
  {
   "cell_type": "markdown",
   "metadata": {},
   "source": [
    "![alt text](plots/acc.png \"Accuracy\")"
   ]
  },
  {
   "cell_type": "markdown",
   "metadata": {},
   "source": [
    "With window size 3.Test accuracy is **29%**.<br>\n",
    "There also seems to be an issue with the labels. accuracy should start at 0"
   ]
  },
  {
   "cell_type": "markdown",
   "metadata": {
    "collapsed": true
   },
   "source": [
    "\n",
    "model.save(filepath)\n",
    "keras.models.load_model(filepath)"
   ]
  },
  {
   "cell_type": "markdown",
   "metadata": {},
   "source": [
    "**June 29th:**"
   ]
  },
  {
   "cell_type": "code",
   "execution_count": 63,
   "metadata": {
    "collapsed": true
   },
   "outputs": [],
   "source": [
    "#function that produces deltas and double deltas\n",
    "def deltas(array):\n",
    "    #check dimensions per frame\n",
    "    dim = array.shape[1]\n",
    "    num_frames = array.shape[0]\n",
    "    #print \"dim\",dim\n",
    "    #print \"num_frames\",num_frames\n",
    "    delta=[]\n",
    "    delta_rows=[]\n",
    "    for i in range (num_frames):\n",
    "        for j in range(dim):\n",
    "            t1 = j-1\n",
    "            t2 = j+1\n",
    "            if t1 < 0:\n",
    "                t1 = 0\n",
    "            if t2 > dim-1:\n",
    "                t2 = dim-1\n",
    "        \n",
    "            delta_tmp = array[i,t2]-array[i,t1]\n",
    "            delta_rows.append(delta_tmp)\n",
    "        delta.append(delta_rows)\n",
    "        delta_rows= []\n",
    "    delta = np.array(delta)\n",
    "    return delta\n",
    "\n"
   ]
  },
  {
   "cell_type": "code",
   "execution_count": 64,
   "metadata": {
    "collapsed": true
   },
   "outputs": [],
   "source": [
    "#function to fuse delta and Acc into dataset\n",
    "def fuse(dataset,delta_array,acc_array):\n",
    "    new_dataset = []\n",
    "    dim = dataset.shape[1]\n",
    "    num_frames = dataset.shape[0]\n",
    "    for i in range(num_frames):\n",
    "        a = dataset[i]\n",
    "        b = delta_array[i]\n",
    "        c = acc_array[i]\n",
    "        abc = np.concatenate((a,b,c),axis=0)\n",
    "        new_dataset.append(abc)\n",
    "    return np.array(new_dataset)\n",
    "        "
   ]
  },
  {
   "cell_type": "code",
   "execution_count": null,
   "metadata": {
    "collapsed": true
   },
   "outputs": [],
   "source": [
    "from keras.utils import plot_model\n",
    "from keras.layers import Bidirectional\n",
    "\n",
    "model = Sequential()\n",
    "#5 bidirectional hidden layers\n",
    "model.add(Bidirectional(LSTM(250,return_sequences= True) input_shape=(look_back, 26)))\n",
    "model.add(GaussianNoise(0.075))\n",
    "model.add(Bidirectional(LSTM(250,return_sequences= True) input_shape=(look_back, 26)))\n",
    "model.add(GaussianNoise(0.075))\n",
    "model.add(Bidirectional(LSTM(250,return_sequences= True) input_shape=(look_back, 26)))\n",
    "model.add(GaussianNoise(0.075))\n",
    "model.add(Bidirectional(LSTM(250,return_sequences= True) input_shape=(look_back, 26)))\n",
    "model.add(GaussianNoise(0.075))\n",
    "model.add(Bidirectional(LSTM(250) input_shape=(look_back, 26)))\n",
    "model.add(GaussianNoise(0.075))\n",
    "model.add(Dense(132,activation='softmax'))\n",
    "model.compile(optimizer='SGD',loss='categorical_crossentropy',metrics=['accuracy'])\n",
    "\n",
    "lstm_hist=model.fit(trainX, trainY, epochs=25, validation_data={testX,testY},batch_size=1000, verbose=2)\n",
    "\n",
    "\n",
    "\n"
   ]
  },
  {
   "cell_type": "markdown",
   "metadata": {},
   "source": [
    "Task for today: replicate this model (which is the exact model used in\n",
    "alex graves paper minus the shortcut mapping) into tensorflow"
   ]
  },
  {
   "cell_type": "code",
   "execution_count": null,
   "metadata": {
    "collapsed": true
   },
   "outputs": [],
   "source": [
    "printgraph(lstm_hist,'paper_acc','paper_loss',1,0,)"
   ]
  },
  {
   "cell_type": "markdown",
   "metadata": {},
   "source": [
    "**June 30th**"
   ]
  },
  {
   "cell_type": "code",
   "execution_count": null,
   "metadata": {
    "collapsed": true
   },
   "outputs": [],
   "source": [
    "#testing d,dd functions\n",
    "x=[[i for i in range(26)]]\n",
    "for j in range(10):\n",
    "    x.append([i for i in range(26)])\n",
    "x = np.array(x)\n",
    "delta = deltas(x)\n",
    "acc = deltas(d)\n",
    "x = fuse(x,delta,acc)\n",
    "#print x"
   ]
  },
  {
   "cell_type": "markdown",
   "metadata": {},
   "source": [
    "changed all feature array dtype to float32<br>\n",
    "Added d,dd feats to training dataset<br>\n",
    ">before (29027263, 26)<br>\n",
    "after (29027263, 78)\n",
    "\n",
    "created whole utt as sequences<br>"
   ]
  },
  {
   "cell_type": "markdown",
   "metadata": {},
   "source": [
    "**July 1st:**"
   ]
  },
  {
   "cell_type": "markdown",
   "metadata": {},
   "source": [
    "Plotting uttr length distribution to find optimal maximum sequence length"
   ]
  },
  {
   "cell_type": "code",
   "execution_count": 11,
   "metadata": {},
   "outputs": [
    {
     "data": {
      "image/png": "[encoded data removed]",
      "text/plain": [
       "<matplotlib.figure.Figure at 0x7f6735717d10>"
      ]
     },
     "metadata": {},
     "output_type": "display_data"
    }
   ],
   "source": [
    "import numpy as np\n",
    "import matplotlib.pyplot as plt\n",
    "seq = np.load('/home/hammad/trainframe.npy')\n",
    "abs_len = [seq[i]-seq[i-1] for i in range(1,len(seq))]\n",
    "seq =0\n",
    "plt.hist(abs_len,edgecolor='black',bins=30)\n",
    "plt.title('uttrence length distribution(training set)')\n",
    "plt.xlabel('uttr length(in frames)')\n",
    "plt.ylabel('frequency')\n",
    "plt.show()"
   ]
  },
  {
   "cell_type": "markdown",
   "metadata": {},
   "source": [
    "600 frames looks like a good cut off length"
   ]
  },
  {
   "cell_type": "markdown",
   "metadata": {},
   "source": [
    "**July 3rd:**"
   ]
  },
  {
   "cell_type": "code",
   "execution_count": 1,
   "metadata": {
    "collapsed": true,
    "scrolled": true
   },
   "outputs": [],
   "source": [
    "#converts entire dataset into sequences of utterance.(computation and memory intensive)\n",
    "def to_seq(path_to_oldxtrain,path_to_trainframe,cutoff=500,verbose=0):\n",
    "    vrb=verbose\n",
    "    #converting dataset into sequences\n",
    "    #old(27027263,78)\n",
    "    #new(46757,max_seq_length,78)\n",
    "    #will save .npy in current dir\n",
    "    print \"Starting up...\"\n",
    "    import numpy as np\n",
    "    newXTrain=[]\n",
    "    oldXTrain=np.load(path_to_oldxtrain)#\"/home/hammad/xtrain.npy\"\n",
    "    oldXFrame=np.load(path_to_trainframe)#\"/home/hammad/trainframe.npy\"\n",
    "    uttr=0\n",
    "    tmp_seq=[]\n",
    "    flg1=0\n",
    "    flg2=0\n",
    "    max_seq=cutoff\n",
    "    print \"old xtrain shape\",oldXTrain.shape\n",
    "    print \"frame end pointer shape\",oldXFrame.shape\n",
    "    for i in range(len(oldXFrame)):#0->46k\n",
    "        if vrb:\n",
    "            print \"uttr no:\",i\n",
    "\n",
    "        if oldXFrame[i]-uttr <max_seq:#zeropad\n",
    "                if vrb:\n",
    "                    print \"Flag 1 \"\n",
    "                    \n",
    "                flg1=1\n",
    "        if oldXFrame[i]-uttr >max_seq:#truncate\n",
    "                if vrb:\n",
    "                    print \"Flag 2 \"\n",
    "                \n",
    "                flg2=1\n",
    "                \n",
    "        if vrb:        \n",
    "            print \"uttr_start,uttr_end\",uttr,oldXFrame[i]\n",
    "\n",
    "        tmp_seq.append(oldXTrain[uttr:oldXFrame[i],0:78])\n",
    "        if vrb:\n",
    "            print \"tmp dim:\",np.array(tmp_seq).shape\n",
    "        \n",
    "        seq_length = oldXFrame[i]-uttr\n",
    "        uttr = oldXFrame[i]+1  \n",
    "\n",
    "\n",
    "        if flg1:#zeropad\n",
    "            if vrb:\n",
    "                print \"max_seq-seq_length\",max_seq,seq_length\n",
    "            \n",
    "            pad_length = max_seq - seq_length\n",
    "            pad_matrix=[[[0 for x in range(78)] for y in range(pad_length)]]\n",
    "            if vrb:\n",
    "                print \"shape of pad matrix\",np.array(pad_matrix).shape\n",
    "            \n",
    "            tmp_seq= np.append(tmp_seq,pad_matrix,axis=1)\n",
    "            flg1=0\n",
    "            tmp_seq=list(tmp_seq)\n",
    "\n",
    "        if flg2:#truncate\n",
    "            if vrb:\n",
    "                print \"bef trunc shape\",np.array(tmp_seq).shape\n",
    "                \n",
    "            tmp = tmp_seq[0]\n",
    "            tmp_seq=[tmp[0:500,0:79]]\n",
    "            flg2=0\n",
    "        if vrb:\n",
    "            print \"tmp dim after modification:\",np.array(tmp_seq).shape\n",
    "\n",
    "        if i==0:\n",
    "            newXTrain=tmp_seq\n",
    "            #tmp_seq.dtype\n",
    "        else:\n",
    "            newXTrain= np.append(newXTrain,tmp_seq,axis=0)\n",
    "            if vrb:\n",
    "                print newXTrain.shape\n",
    "            newXTrain.astype(np.float32)\n",
    "        if vrb:\n",
    "            print \"    NEWXTRAIN:\",np.array(newXTrain).shape\n",
    "\n",
    "        tmp_seq = []\n",
    "    \n",
    "    newXTrain.astype(np.float32)\n",
    "    print \"Final shape\",newXTrain.shape\n",
    "    np.save(\"newXTrain\",newXTrain)\n",
    "    "
   ]
  },
  {
   "cell_type": "code",
   "execution_count": null,
   "metadata": {
    "collapsed": true
   },
   "outputs": [],
   "source": [
    "to_seq(\"/home/hammad/xtrain.npy\",\"/home/hammad/trainframe.npy\",500,1)"
   ]
  },
  {
   "cell_type": "code",
   "execution_count": null,
   "metadata": {
    "collapsed": true
   },
   "outputs": [],
   "source": [
    "#this generates a sequence of frames per utterance and will be called during training time\n",
    "#\n",
    "global_state=0\n",
    "def batch_generator(path_to_xtrain,path_to_trainframe,path_to_labels,random=1):\n",
    "    #Xtrain:dataset trainframe:array of uttr frame positions #labels: targets\n",
    "        \n",
    "    Xtrain   = np.load(path_to_xtrain)\n",
    "    frames   = np.load(path_to_trainframe)\n",
    "    labels   = np.load(path_to_labels)\n",
    "    \n",
    "    if random== 1:\n",
    "        uttr = global_state\n",
    "        if global_state>46757:\n",
    "            global_state+=1\n",
    "        else:\n",
    "            return 2# reached end of epoch\n",
    "    else:\n",
    "        uttr = random.randint(0,46756)\n",
    "     \n",
    "    uttr_strt= frames[uttr-1]+1\n",
    "    uttr_end = frames[uttr]\n",
    "    \n",
    "    uttr_seq = Xtrain[uttr_strt:uttr_end,0:78]\n",
    "    uttr_lbl = labels[uttr_strt+1:uttr_end+1]#shifting labels by one\n",
    "    uttr_lbl[end]=132 #labels=1 to 131+132(special)\n",
    "    \n",
    "    return np.array(uttr_seq,uttr_lbl)"
   ]
  },
  {
   "cell_type": "markdown",
   "metadata": {
    "collapsed": true
   },
   "source": [
    "**5th july**:\n"
   ]
  },
  {
   "cell_type": "markdown",
   "metadata": {},
   "source": [
    "I trained **a single layer bidirectional LSTM** on whole utterances (only used 5k uttr out of ~60k) and got **46%** test accuracy.<br>The higher validation (and test) accuracy is perplexing. "
   ]
  },
  {
   "cell_type": "markdown",
   "metadata": {},
   "source": [
    "***TEST ACCURACY***<br>\n",
    "500/500 [==============================] - 2s <br>\n",
    "[1.5902665615081788, 0.46951194405555724]\n"
   ]
  },
  {
   "cell_type": "markdown",
   "metadata": {},
   "source": [
    "![alt text](plots/acc2.png \"Accuracy\")"
   ]
  },
  {
   "cell_type": "markdown",
   "metadata": {},
   "source": [
    "### This model was trained on 5k utterances. Since I can't fit all utternces in memory and run operations on them,I will batch feed it manually."
   ]
  },
  {
   "cell_type": "code",
   "execution_count": 2,
   "metadata": {
    "collapsed": true
   },
   "outputs": [],
   "source": [
    "#fetch utternce at runtime\n",
    "def to_seq(X,labels,uttr,cutoff,framepointer):\n",
    "    \n",
    "    uttr_strt = framepointer[uttr-1]+1\n",
    "    uttr_end = framepointer[uttr]\n",
    "    #print \"utt start ,utt end\",uttr_strt,uttr_end\n",
    "    seq = X[uttr_strt:uttr_end,0:78]\n",
    "    seq_labels = labels[uttr_strt+1:uttr_end+1]\n",
    "    seq_labels = to_categorical(seq_labels,num_classes =132)\n",
    "    \n",
    "    print \"to_seq\"\n",
    "    #print \"before modification\",np.array(seq).shape\n",
    "    #print \"before modification label\",np.array(seq_labels).shape\n",
    "    seq_length = uttr_end - uttr_strt\n",
    "    if  seq_length < cutoff:#zero pad\n",
    "        pad_length = cutoff - seq_length\n",
    "        pad_matrix=[[[0 for x in range(78)] for y in range(pad_length)]]\n",
    "        #print \"pad_shape\",np.array(pad_matrix).shape\n",
    "        pad_matrix_label = [[[0 for x in range(132)] for y in range(pad_length)]]\n",
    "        seq= np.append([seq],pad_matrix,axis=1)\n",
    "        seq_labels=np.append([seq_labels],pad_matrix_label,axis=1)\n",
    "        seq=list(seq)\n",
    "        seq_labels=list(seq_labels)\n",
    "        #print \"zero padding\"\n",
    "        \n",
    "    if seq_length > cutoff:#truncate:\n",
    "        seq = [seq[:500,0:78]]\n",
    "        seq_labels= [seq_labels[:500]]\n",
    "        #print \"truncate\"\n",
    "    \n",
    "    #print \"after modification\",np.array(seq).shape\n",
    "    #print \"after modification\",np.array(seq_labels).shape\n",
    "    return np.array(seq).astype(np.float32),np.array(seq_labels).astype(np.float32)"
   ]
  },
  {
   "cell_type": "code",
   "execution_count": 3,
   "metadata": {},
   "outputs": [
    {
     "name": "stdout",
     "output_type": "stream",
     "text": [
      "(29027263, 78)\n",
      "(29027263,)\n"
     ]
    }
   ],
   "source": [
    "import numpy as np\n",
    "X = np.load(\"/home/hammad/xtrain.npy\")\n",
    "print X.shape\n",
    "Y = np.load(\"/home/hammad/Ytrain.npy\")\n",
    "print Y.shape"
   ]
  },
  {
   "cell_type": "code",
   "execution_count": 6,
   "metadata": {},
   "outputs": [
    {
     "name": "stdout",
     "output_type": "stream",
     "text": [
      "to_seq\n"
     ]
    },
    {
     "data": {
      "text/plain": [
       "(array([[[-3.68176174, -3.89426517, -4.08652163, ..., -0.55871165,\n",
       "           0.11162418,  0.1178056 ],\n",
       "         [-2.00956178, -3.29156518, -3.66302156, ...,  0.24008822,\n",
       "           0.3579241 ,  0.00590563],\n",
       "         [-2.5816617 , -3.88526511, -3.29522157, ..., -1.03801167,\n",
       "           0.30732429,  0.51010561],\n",
       "         ..., \n",
       "         [ 0.54983819,  2.99283481,  2.66087842, ..., -1.44311178,\n",
       "          -0.51707584,  0.43950558],\n",
       "         [ 0.34863818,  2.90783501,  2.49787855, ..., -0.38031173,\n",
       "           0.64132416,  0.58930564],\n",
       "         [-0.25856182,  2.94383502,  2.43887854, ..., -0.40331185,\n",
       "           0.09232426,  0.42940569]]], dtype=float32),\n",
       " array([[[ 0.,  0.,  0., ...,  0.,  0.,  0.],\n",
       "         [ 0.,  0.,  0., ...,  0.,  0.,  0.],\n",
       "         [ 0.,  0.,  0., ...,  0.,  0.,  0.],\n",
       "         ..., \n",
       "         [ 0.,  0.,  0., ...,  0.,  0.,  0.],\n",
       "         [ 0.,  0.,  0., ...,  0.,  0.,  0.],\n",
       "         [ 0.,  0.,  0., ...,  0.,  0.,  0.]]], dtype=float32))"
      ]
     },
     "execution_count": 6,
     "metadata": {},
     "output_type": "execute_result"
    }
   ],
   "source": [
    "to_seq(X,Y,7,500,frame)"
   ]
  },
  {
   "cell_type": "code",
   "execution_count": 5,
   "metadata": {},
   "outputs": [
    {
     "name": "stderr",
     "output_type": "stream",
     "text": [
      "Using TensorFlow backend.\n"
     ]
    }
   ],
   "source": [
    "from keras.utils import to_categorical\n",
    "frame = np.load(\"/home/hammad/trainframe.npy\")"
   ]
  },
  {
   "cell_type": "code",
   "execution_count": 9,
   "metadata": {
    "collapsed": true
   },
   "outputs": [],
   "source": [
    "def batch_generator(X, labels,framepointer,cutoff, batch_size):\n",
    "    # Create empty arrays to contain batch of features and labels#\n",
    "    batch_features = np.zeros((batch_size, 500,78)).astype(np.float32)\n",
    "    batch_labels = np.zeros((batch_size,500,132)).astype(np.float32)\n",
    "    while True:\n",
    "        for i in range(batch_size):\n",
    "            # choose random index in features\n",
    "            uttr= np.random.choice(len(framepointer),1)\n",
    "            #print \"uttr\",uttr[0]\n",
    "#             x,y = to_seq(X,Y,uttr[0],cutoff,framepointer)\n",
    "#             print x.shape, y.shape\n",
    "            #print \"to seq\",uttr,cutoff\n",
    "            batch_features[i],batch_labels[i] = to_seq(X,Y,uttr[0],cutoff,framepointer)\n",
    "        print batch_features.shape,batch_labels.shape\n",
    "        return\n",
    "    #yield batch_features.astype(np.float32), batch_labels.astype(np.float32)"
   ]
  },
  {
   "cell_type": "code",
   "execution_count": null,
   "metadata": {
    "collapsed": true
   },
   "outputs": [],
   "source": [
    "batch_generator(X,Y,frame,500,100)"
   ]
  },
  {
   "cell_type": "markdown",
   "metadata": {
    "collapsed": true
   },
   "source": [
    "**6th july**"
   ]
  },
  {
   "cell_type": "markdown",
   "metadata": {},
   "source": [
    "Almost done batch feeding it"
   ]
  },
  {
   "cell_type": "markdown",
   "metadata": {
    "collapsed": true
   },
   "source": [
    "~39% accuracy on entire dataset.Thats all for training.Writing end to end LSTM in tensorflow"
   ]
  },
  {
   "cell_type": "markdown",
   "metadata": {},
   "source": [
    "**8th july**"
   ]
  },
  {
   "cell_type": "markdown",
   "metadata": {},
   "source": [
    "Almost done with tensorflow model"
   ]
  },
  {
   "cell_type": "markdown",
   "metadata": {},
   "source": [
    "**10th july**"
   ]
  },
  {
   "cell_type": "markdown",
   "metadata": {},
   "source": [
    "stagnation.Doing literature review"
   ]
  },
  {
   "cell_type": "markdown",
   "metadata": {},
   "source": [
    "modifying existing functions to support dynamic length utterances"
   ]
  },
  {
   "cell_type": "code",
   "execution_count": 2,
   "metadata": {
    "collapsed": true
   },
   "outputs": [],
   "source": [
    "import numpy as np\n",
    "X = np.load(\"/home/hammad/xtrain.npy\")\n",
    "Y = np.load(\"/home/hammad/Ytrain.npy\")\n",
    "frame = np.load(\"/home/hammad/trainframe.npy\")"
   ]
  },
  {
   "cell_type": "code",
   "execution_count": 3,
   "metadata": {},
   "outputs": [
    {
     "name": "stdout",
     "output_type": "stream",
     "text": [
      "Data loaded\n",
      "X (29027263, 78)\n",
      "Y (29027263,)\n",
      "frame (46757,)\n"
     ]
    }
   ],
   "source": [
    "print \"Data loaded\"\n",
    "print \"X\",X.shape\n",
    "print \"Y\",Y.shape\n",
    "print \"frame\",frame.shape\n"
   ]
  },
  {
   "cell_type": "code",
   "execution_count": 59,
   "metadata": {
    "collapsed": true
   },
   "outputs": [],
   "source": [
    "def get_uttr_len(uttr,framepointer):\n",
    "    uttr_strt = framepointer[uttr-1]+1\n",
    "    uttr_end = framepointer[uttr]\n",
    "    return uttr_end - uttr_strt\n",
    "\n",
    "def batch_generator(X, labels,framepointer,cutoff, batch_size):\n",
    "    \n",
    "    uttrences = [np.random.choice(len(framepointer),1,replace=False) for x in range(batch_size)]\n",
    "    uttr_lengths = [get_uttr_len(uttr,framepointer) for uttr in uttrences]\n",
    "    max_uttr_len = max(uttr_lengths)[0]\n",
    "    \n",
    "    #print \"max uttr len\",max_uttr_len\n",
    "    uttr_list = []\n",
    "    uttr_list_labls=[]\n",
    "    #builds a batch of size N=len(uttrences) \n",
    "    for uttr in uttrences:\n",
    "        uttr_strt = framepointer[uttr-1]+1\n",
    "        uttr_end = framepointer[uttr]\n",
    "        uttr_strt=uttr_strt[0]\n",
    "        uttr_end=uttr_end[0]\n",
    "        #print uttr_strt,uttr_end       \n",
    "        seq_labels = labels[uttr_strt+1:uttr_end+1]\n",
    "        seq_labels = [int(x+1) for x in seq_labels] #adding 1 to all labels so I can use 0 as mask\n",
    "        #print \"max sequence\",max(seq_labels)\n",
    "        \n",
    "        seq_labels[len(seq_labels)-1]=133 #last symbol is special symbol\n",
    "        #print seq_labels\n",
    "        uttr_list.append(X[uttr_strt:uttr_end,0:78])\n",
    "        uttr_list_labls.append(seq_labels)\n",
    "    \n",
    "    uttr_list= sequence.pad_sequences(uttr_list, maxlen=max_uttr_len, dtype='float32',padding='post',truncating='post' )\n",
    "    uttr_list_labls = sequence.pad_sequences(uttr_list_labls, maxlen=max_uttr_len, dtype='int16',padding='post',truncating='post')\n",
    "    #print \"uttr_list shape\",np.array(uttr_list).shape\n",
    "    #print \"uttr_list_labls shape\",np.array(uttr_list_labls).shape\n",
    "    \n",
    "    #print uttr_list[0],np.array(uttr_list[0]).shape\n",
    "    #print uttr_list_labls[0],np.array(uttr_list_labls[0]).shape\n",
    "    new_labels = []\n",
    "    for label in uttr_list_labls:\n",
    "            label= to_categorical(label,num_classes=134)\n",
    "            new_labels.append(label)\n",
    "    \n",
    "    return np.array(uttr_list).astype(np.float32), np.array(new_labels).astype(np.int32)"
   ]
  },
  {
   "cell_type": "code",
   "execution_count": 46,
   "metadata": {
    "collapsed": true
   },
   "outputs": [],
   "source": [
    "from keras.preprocessing import sequence\n",
    "from keras.utils import to_categorical"
   ]
  },
  {
   "cell_type": "markdown",
   "metadata": {},
   "source": [
    "batch_generator(X,Y,frame,500,30)"
   ]
  },
  {
   "cell_type": "markdown",
   "metadata": {
    "collapsed": true
   },
   "source": [
    "![alt text](plots/accc.png \"Accuracy\")"
   ]
  },
  {
   "cell_type": "markdown",
   "metadata": {},
   "source": [
    "**July 15**"
   ]
  },
  {
   "cell_type": "markdown",
   "metadata": {},
   "source": [
    "Understanding how CTC works. Finding alt solutions"
   ]
  },
  {
   "cell_type": "markdown",
   "metadata": {
    "collapsed": true
   },
   "source": [
    "![alt text](plots/hubub.png \"Accuracy\")"
   ]
  },
  {
   "cell_type": "markdown",
   "metadata": {},
   "source": [
    "![alt text](plots/hububub.png \"Accuracy\")"
   ]
  },
  {
   "cell_type": "markdown",
   "metadata": {},
   "source": [
    "LSTM training acc on 26k utterances. 2 layer bidirectional with gaussian noise (testing results very soon)"
   ]
  },
  {
   "cell_type": "markdown",
   "metadata": {
    "collapsed": true
   },
   "source": [
    "![alt text](plots/acc_latest.png \"Accuracy\")"
   ]
  },
  {
   "cell_type": "markdown",
   "metadata": {},
   "source": [
    "**17th july**"
   ]
  },
  {
   "cell_type": "markdown",
   "metadata": {},
   "source": [
    "XTRAIN(15443438, 75) total uttr (24590,) <br>\n",
    "XTEST(364880, 75) total uttr (520,) <br>\n",
    "XDEV(669322, 75) total uttr (1103,) <br>\n"
   ]
  },
  {
   "cell_type": "markdown",
   "metadata": {},
   "source": [
    "**18th july**"
   ]
  },
  {
   "cell_type": "markdown",
   "metadata": {},
   "source": [
    "interesting read:https://www.cs.cmu.edu/~rsingh/homepage/papers/sphinx4_eurospeech2003.pdf"
   ]
  },
  {
   "cell_type": "markdown",
   "metadata": {},
   "source": [
    "![alt text](plots/acclat.png \"Accuracy\")"
   ]
  },
  {
   "cell_type": "markdown",
   "metadata": {},
   "source": [
    "Test acc is still ~40%"
   ]
  },
  {
   "cell_type": "markdown",
   "metadata": {},
   "source": [
    "**23 july**"
   ]
  },
  {
   "cell_type": "markdown",
   "metadata": {},
   "source": [
    "Connecting LSTM to pocketsphinx"
   ]
  },
  {
   "cell_type": "markdown",
   "metadata": {},
   "source": [
    "**25 july**"
   ]
  },
  {
   "cell_type": "markdown",
   "metadata": {},
   "source": [
    "The loss function"
   ]
  },
  {
   "cell_type": "markdown",
   "metadata": {},
   "source": [
    "rescaling forward and backward variables to avoid underflows"
   ]
  },
  {
   "cell_type": "markdown",
   "metadata": {},
   "source": [
    "![alt text](plots/loss1.png \"Accuracy\")"
   ]
  },
  {
   "cell_type": "markdown",
   "metadata": {},
   "source": [
    "![alt text](plots/loss2.png \"Accuracy\")"
   ]
  },
  {
   "cell_type": "markdown",
   "metadata": {},
   "source": [
    "![alt text](plots/loss3.png \"Accuracy\")"
   ]
  },
  {
   "cell_type": "markdown",
   "metadata": {},
   "source": [
    "The derivatives"
   ]
  },
  {
   "cell_type": "markdown",
   "metadata": {},
   "source": [
    "![alt text](plots/derivatives.png \"Accuracy\")"
   ]
  },
  {
   "cell_type": "markdown",
   "metadata": {
    "collapsed": true
   },
   "source": [
    "**27th July**"
   ]
  },
  {
   "cell_type": "markdown",
   "metadata": {},
   "source": [
    "Almost done integrating NN with sphinx. making code adjustments to mask 0 paddings in predictions"
   ]
  },
  {
   "cell_type": "markdown",
   "metadata": {},
   "source": [
    "**29th**"
   ]
  },
  {
   "cell_type": "markdown",
   "metadata": {},
   "source": [
    "Demystifying openFST by writing an example in pyfst"
   ]
  },
  {
   "cell_type": "markdown",
   "metadata": {},
   "source": [
    "the correct package with the c++11 patch\n",
    "http://www.openfst.org/twiki/pub/FST/FstDownload/openfst-1.3.4.tar.gz"
   ]
  },
  {
   "cell_type": "markdown",
   "metadata": {},
   "source": [
    "sentence : \"GOOD\"\n"
   ]
  },
  {
   "cell_type": "code",
   "execution_count": 1,
   "metadata": {
    "collapsed": true
   },
   "outputs": [],
   "source": [
    "import sys  \n",
    "import fst\n",
    "import random\n",
    "reload(sys)  \n",
    "sys.setdefaultencoding('utf8')\n",
    "\n",
    "\n"
   ]
  },
  {
   "cell_type": "code",
   "execution_count": 2,
   "metadata": {
    "collapsed": true
   },
   "outputs": [],
   "source": [
    "import random\n",
    "def ran_lab_prob():\n",
    "    r = [random.random() for i in range(138)]\n",
    "    s = sum(r)\n",
    "    return [i/s for i in r]\n"
   ]
  },
  {
   "cell_type": "code",
   "execution_count": 3,
   "metadata": {},
   "outputs": [
    {
     "data": {
      "image/svg+xml": [
       "<?xml version=\"1.0\" encoding=\"UTF-8\" standalone=\"no\"?>\n",
       "<!DOCTYPE svg PUBLIC \"-//W3C//DTD SVG 1.1//EN\"\n",
       " \"http://www.w3.org/Graphics/SVG/1.1/DTD/svg11.dtd\">\n",
       "<!-- Generated by graphviz version 2.38.0 (20140413.2041)\n",
       " -->\n",
       "<!-- Title: FST Pages: 1 -->\n",
       "<svg width=\"612pt\" height=\"109pt\"\n",
       " viewBox=\"0.00 0.00 612.00 108.70\" xmlns=\"http://www.w3.org/2000/svg\" xmlns:xlink=\"http://www.w3.org/1999/xlink\">\n",
       "<g id=\"graph0\" class=\"graph\" transform=\"scale(0.350618 0.350618) rotate(0) translate(4 306.038)\">\n",
       "<title>FST</title>\n",
       "<polygon fill=\"white\" stroke=\"none\" points=\"-4,4 -4,-306.038 1741.49,-306.038 1741.49,4 -4,4\"/>\n",
       "<!-- 0 -->\n",
       "<g id=\"node1\" class=\"node\"><title>0</title>\n",
       "<ellipse fill=\"none\" stroke=\"black\" stroke-width=\"2\" cx=\"18\" cy=\"-139.038\" rx=\"18\" ry=\"18\"/>\n",
       "<text text-anchor=\"middle\" x=\"18\" y=\"-135.338\" font-family=\"Times,serif\" font-size=\"14.00\">0</text>\n",
       "</g>\n",
       "<!-- 1 -->\n",
       "<g id=\"node2\" class=\"node\"><title>1</title>\n",
       "<ellipse fill=\"none\" stroke=\"black\" cx=\"169\" cy=\"-139.038\" rx=\"18\" ry=\"18\"/>\n",
       "<text text-anchor=\"middle\" x=\"169\" y=\"-135.338\" font-family=\"Times,serif\" font-size=\"14.00\">1</text>\n",
       "</g>\n",
       "<!-- 0&#45;&gt;1 -->\n",
       "<g id=\"edge1\" class=\"edge\"><title>0&#45;&gt;1</title>\n",
       "<path fill=\"none\" stroke=\"black\" d=\"M20.7346,-157.023C24.2667,-189.376 33.4831,-255.31 51,-269.038 80.7345,-292.341 106.266,-292.341 136,-269.038 151.806,-256.651 160.854,-201.756 165.066,-167.382\"/>\n",
       "<polygon fill=\"black\" stroke=\"black\" points=\"168.592,-167.359 166.265,-157.023 161.638,-166.554 168.592,-167.359\"/>\n",
       "<text text-anchor=\"middle\" x=\"93.5\" y=\"-289.838\" font-family=\"Times,serif\" font-size=\"14.00\">x0:G1/0.0022</text>\n",
       "</g>\n",
       "<!-- 0&#45;&gt;1 -->\n",
       "<g id=\"edge2\" class=\"edge\"><title>0&#45;&gt;1</title>\n",
       "<path fill=\"none\" stroke=\"black\" d=\"M19.4459,-157.189C21.0713,-178.863 27.4316,-214.283 51,-231.038 81.7897,-252.928 105.21,-252.928 136,-231.038 156.162,-216.704 163.731,-188.711 166.515,-167.35\"/>\n",
       "<polygon fill=\"black\" stroke=\"black\" points=\"170.018,-167.493 167.554,-157.189 163.055,-166.781 170.018,-167.493\"/>\n",
       "<text text-anchor=\"middle\" x=\"93.5\" y=\"-250.838\" font-family=\"Times,serif\" font-size=\"14.00\">x0:G2/0.0084</text>\n",
       "</g>\n",
       "<!-- 0&#45;&gt;1 -->\n",
       "<g id=\"edge3\" class=\"edge\"><title>0&#45;&gt;1</title>\n",
       "<path fill=\"none\" stroke=\"black\" d=\"M23.9904,-156.018C28.7121,-168.705 37.1763,-185.162 51,-193.038 83.8232,-211.741 103.177,-211.741 136,-193.038 146.584,-187.008 154.026,-175.948 159.052,-165.401\"/>\n",
       "<polygon fill=\"black\" stroke=\"black\" points=\"162.348,-166.592 163.01,-156.018 155.898,-163.871 162.348,-166.592\"/>\n",
       "<text text-anchor=\"middle\" x=\"93.5\" y=\"-210.838\" font-family=\"Times,serif\" font-size=\"14.00\">x0:G3/0.0126</text>\n",
       "</g>\n",
       "<!-- 0&#45;&gt;1 -->\n",
       "<g id=\"edge4\" class=\"edge\"><title>0&#45;&gt;1</title>\n",
       "<path fill=\"none\" stroke=\"black\" d=\"M33.752,-148.201C38.9978,-150.967 45.0758,-153.64 51,-155.038 87.7672,-163.718 99.2328,-163.718 136,-155.038 138.684,-154.405 141.4,-153.509 144.056,-152.462\"/>\n",
       "<polygon fill=\"black\" stroke=\"black\" points=\"145.648,-155.582 153.248,-148.201 142.703,-149.232 145.648,-155.582\"/>\n",
       "<text text-anchor=\"middle\" x=\"93.5\" y=\"-164.838\" font-family=\"Times,serif\" font-size=\"14.00\">x0:UH1/0.0114</text>\n",
       "</g>\n",
       "<!-- 0&#45;&gt;1 -->\n",
       "<g id=\"edge5\" class=\"edge\"><title>0&#45;&gt;1</title>\n",
       "<path fill=\"none\" stroke=\"black\" d=\"M35.9187,-137.154C40.781,-136.694 46.095,-136.268 51,-136.038 88.7365,-134.273 98.2635,-134.273 136,-136.038 137.533,-136.11 139.106,-136.201 140.692,-136.306\"/>\n",
       "<polygon fill=\"black\" stroke=\"black\" points=\"140.83,-139.829 151.081,-137.154 141.399,-132.852 140.83,-139.829\"/>\n",
       "<text text-anchor=\"middle\" x=\"93.5\" y=\"-139.838\" font-family=\"Times,serif\" font-size=\"14.00\">x0:UH2/0.0031</text>\n",
       "</g>\n",
       "<!-- 0&#45;&gt;1 -->\n",
       "<g id=\"edge6\" class=\"edge\"><title>0&#45;&gt;1</title>\n",
       "<path fill=\"none\" stroke=\"black\" d=\"M31.2815,-126.881C36.8258,-122.225 43.7531,-117.454 51,-115.038 86.8391,-103.092 100.161,-103.092 136,-115.038 139.963,-116.359 143.831,-118.385 147.429,-120.711\"/>\n",
       "<polygon fill=\"black\" stroke=\"black\" points=\"145.607,-123.718 155.719,-126.881 149.786,-118.102 145.607,-123.718\"/>\n",
       "<text text-anchor=\"middle\" x=\"93.5\" y=\"-118.838\" font-family=\"Times,serif\" font-size=\"14.00\">x0:UH3/0.0081</text>\n",
       "</g>\n",
       "<!-- 0&#45;&gt;1 -->\n",
       "<g id=\"edge7\" class=\"edge\"><title>0&#45;&gt;1</title>\n",
       "<path fill=\"none\" stroke=\"black\" d=\"M24.3641,-122.164C29.2156,-110.007 37.6749,-94.4843 51,-87.0383 83.9783,-68.6102 103.022,-68.6102 136,-87.0383 146.098,-92.681 153.402,-102.962 158.458,-112.901\"/>\n",
       "<polygon fill=\"black\" stroke=\"black\" points=\"155.334,-114.487 162.636,-122.164 161.715,-111.609 155.334,-114.487\"/>\n",
       "<text text-anchor=\"middle\" x=\"93.5\" y=\"-90.8383\" font-family=\"Times,serif\" font-size=\"14.00\">x0:D1/0.0124</text>\n",
       "</g>\n",
       "<!-- 0&#45;&gt;1 -->\n",
       "<g id=\"edge8\" class=\"edge\"><title>0&#45;&gt;1</title>\n",
       "<path fill=\"none\" stroke=\"black\" d=\"M20.0625,-120.795C22.3266,-100.63 29.3469,-69.0233 51,-54.0383 82.0644,-32.5403 104.936,-32.5403 136,-54.0383 154.354,-66.7404 162.195,-91.3853 165.537,-110.881\"/>\n",
       "<polygon fill=\"black\" stroke=\"black\" points=\"162.073,-111.383 166.938,-120.795 169.004,-110.403 162.073,-111.383\"/>\n",
       "<text text-anchor=\"middle\" x=\"93.5\" y=\"-57.8383\" font-family=\"Times,serif\" font-size=\"14.00\">x0:D2/0.0039</text>\n",
       "</g>\n",
       "<!-- 0&#45;&gt;1 -->\n",
       "<g id=\"edge9\" class=\"edge\"><title>0&#45;&gt;1</title>\n",
       "<path fill=\"none\" stroke=\"black\" d=\"M21.085,-121.086C25.0416,-90.5475 34.7296,-30.5652 51,-18.0383 80.9337,5.00809 106.066,5.00809 136,-18.0383 150.618,-29.2929 159.923,-78.8531 164.531,-110.951\"/>\n",
       "<polygon fill=\"black\" stroke=\"black\" points=\"161.094,-111.652 165.915,-121.086 168.03,-110.705 161.094,-111.652\"/>\n",
       "<text text-anchor=\"middle\" x=\"93.5\" y=\"-21.8383\" font-family=\"Times,serif\" font-size=\"14.00\">x0:D3/0.0102</text>\n",
       "</g>\n",
       "<!-- 2 -->\n",
       "<g id=\"node3\" class=\"node\"><title>2</title>\n",
       "<ellipse fill=\"none\" stroke=\"black\" cx=\"320\" cy=\"-139.038\" rx=\"18\" ry=\"18\"/>\n",
       "<text text-anchor=\"middle\" x=\"320\" y=\"-135.338\" font-family=\"Times,serif\" font-size=\"14.00\">2</text>\n",
       "</g>\n",
       "<!-- 1&#45;&gt;2 -->\n",
       "<g id=\"edge10\" class=\"edge\"><title>1&#45;&gt;2</title>\n",
       "<path fill=\"none\" stroke=\"black\" d=\"M171.735,-157.023C175.267,-189.376 184.483,-255.31 202,-269.038 231.734,-292.341 257.266,-292.341 287,-269.038 302.806,-256.651 311.854,-201.756 316.066,-167.382\"/>\n",
       "<polygon fill=\"black\" stroke=\"black\" points=\"319.592,-167.359 317.265,-157.023 312.638,-166.554 319.592,-167.359\"/>\n",
       "<text text-anchor=\"middle\" x=\"244.5\" y=\"-289.838\" font-family=\"Times,serif\" font-size=\"14.00\">x1:G1/0.0118</text>\n",
       "</g>\n",
       "<!-- 1&#45;&gt;2 -->\n",
       "<g id=\"edge11\" class=\"edge\"><title>1&#45;&gt;2</title>\n",
       "<path fill=\"none\" stroke=\"black\" d=\"M170.446,-157.189C172.071,-178.863 178.432,-214.283 202,-231.038 232.79,-252.928 256.21,-252.928 287,-231.038 307.162,-216.704 314.731,-188.711 317.515,-167.35\"/>\n",
       "<polygon fill=\"black\" stroke=\"black\" points=\"321.018,-167.493 318.554,-157.189 314.055,-166.781 321.018,-167.493\"/>\n",
       "<text text-anchor=\"middle\" x=\"244.5\" y=\"-250.838\" font-family=\"Times,serif\" font-size=\"14.00\">x1:G2/0.008</text>\n",
       "</g>\n",
       "<!-- 1&#45;&gt;2 -->\n",
       "<g id=\"edge12\" class=\"edge\"><title>1&#45;&gt;2</title>\n",
       "<path fill=\"none\" stroke=\"black\" d=\"M174.99,-156.018C179.712,-168.705 188.176,-185.162 202,-193.038 234.823,-211.741 254.177,-211.741 287,-193.038 297.584,-187.008 305.026,-175.948 310.052,-165.401\"/>\n",
       "<polygon fill=\"black\" stroke=\"black\" points=\"313.348,-166.592 314.01,-156.018 306.898,-163.871 313.348,-166.592\"/>\n",
       "<text text-anchor=\"middle\" x=\"244.5\" y=\"-210.838\" font-family=\"Times,serif\" font-size=\"14.00\">x1:G3/0.0036</text>\n",
       "</g>\n",
       "<!-- 1&#45;&gt;2 -->\n",
       "<g id=\"edge13\" class=\"edge\"><title>1&#45;&gt;2</title>\n",
       "<path fill=\"none\" stroke=\"black\" d=\"M184.752,-148.201C189.998,-150.967 196.076,-153.64 202,-155.038 238.767,-163.718 250.233,-163.718 287,-155.038 289.684,-154.405 292.4,-153.509 295.056,-152.462\"/>\n",
       "<polygon fill=\"black\" stroke=\"black\" points=\"296.648,-155.582 304.248,-148.201 293.703,-149.232 296.648,-155.582\"/>\n",
       "<text text-anchor=\"middle\" x=\"244.5\" y=\"-164.838\" font-family=\"Times,serif\" font-size=\"14.00\">x1:UH1/0.0042</text>\n",
       "</g>\n",
       "<!-- 1&#45;&gt;2 -->\n",
       "<g id=\"edge14\" class=\"edge\"><title>1&#45;&gt;2</title>\n",
       "<path fill=\"none\" stroke=\"black\" d=\"M186.919,-137.154C191.781,-136.694 197.095,-136.268 202,-136.038 239.737,-134.273 249.263,-134.273 287,-136.038 288.533,-136.11 290.106,-136.201 291.692,-136.306\"/>\n",
       "<polygon fill=\"black\" stroke=\"black\" points=\"291.83,-139.829 302.081,-137.154 292.399,-132.852 291.83,-139.829\"/>\n",
       "<text text-anchor=\"middle\" x=\"244.5\" y=\"-139.838\" font-family=\"Times,serif\" font-size=\"14.00\">x1:UH2/0.0023</text>\n",
       "</g>\n",
       "<!-- 1&#45;&gt;2 -->\n",
       "<g id=\"edge15\" class=\"edge\"><title>1&#45;&gt;2</title>\n",
       "<path fill=\"none\" stroke=\"black\" d=\"M182.281,-126.881C187.826,-122.225 194.753,-117.454 202,-115.038 237.839,-103.092 251.161,-103.092 287,-115.038 290.963,-116.359 294.831,-118.385 298.429,-120.711\"/>\n",
       "<polygon fill=\"black\" stroke=\"black\" points=\"296.607,-123.718 306.719,-126.881 300.786,-118.102 296.607,-123.718\"/>\n",
       "<text text-anchor=\"middle\" x=\"244.5\" y=\"-118.838\" font-family=\"Times,serif\" font-size=\"14.00\">x1:UH3/0.0074</text>\n",
       "</g>\n",
       "<!-- 1&#45;&gt;2 -->\n",
       "<g id=\"edge16\" class=\"edge\"><title>1&#45;&gt;2</title>\n",
       "<path fill=\"none\" stroke=\"black\" d=\"M175.364,-122.164C180.216,-110.007 188.675,-94.4843 202,-87.0383 234.978,-68.6102 254.022,-68.6102 287,-87.0383 297.098,-92.681 304.402,-102.962 309.458,-112.901\"/>\n",
       "<polygon fill=\"black\" stroke=\"black\" points=\"306.334,-114.487 313.636,-122.164 312.715,-111.609 306.334,-114.487\"/>\n",
       "<text text-anchor=\"middle\" x=\"244.5\" y=\"-90.8383\" font-family=\"Times,serif\" font-size=\"14.00\">x1:D1/0.011</text>\n",
       "</g>\n",
       "<!-- 1&#45;&gt;2 -->\n",
       "<g id=\"edge17\" class=\"edge\"><title>1&#45;&gt;2</title>\n",
       "<path fill=\"none\" stroke=\"black\" d=\"M171.062,-120.795C173.327,-100.63 180.347,-69.0233 202,-54.0383 233.064,-32.5403 255.936,-32.5403 287,-54.0383 305.354,-66.7404 313.195,-91.3853 316.537,-110.881\"/>\n",
       "<polygon fill=\"black\" stroke=\"black\" points=\"313.073,-111.383 317.938,-120.795 320.004,-110.403 313.073,-111.383\"/>\n",
       "<text text-anchor=\"middle\" x=\"244.5\" y=\"-57.8383\" font-family=\"Times,serif\" font-size=\"14.00\">x1:D2/0.0026</text>\n",
       "</g>\n",
       "<!-- 1&#45;&gt;2 -->\n",
       "<g id=\"edge18\" class=\"edge\"><title>1&#45;&gt;2</title>\n",
       "<path fill=\"none\" stroke=\"black\" d=\"M172.085,-121.086C176.042,-90.5475 185.73,-30.5652 202,-18.0383 231.934,5.00809 257.066,5.00809 287,-18.0383 301.618,-29.2929 310.923,-78.8531 315.531,-110.951\"/>\n",
       "<polygon fill=\"black\" stroke=\"black\" points=\"312.094,-111.652 316.915,-121.086 319.03,-110.705 312.094,-111.652\"/>\n",
       "<text text-anchor=\"middle\" x=\"244.5\" y=\"-21.8383\" font-family=\"Times,serif\" font-size=\"14.00\">x1:D3/0.0001</text>\n",
       "</g>\n",
       "<!-- 3 -->\n",
       "<g id=\"node4\" class=\"node\"><title>3</title>\n",
       "<ellipse fill=\"none\" stroke=\"black\" cx=\"471\" cy=\"-139.038\" rx=\"18\" ry=\"18\"/>\n",
       "<text text-anchor=\"middle\" x=\"471\" y=\"-135.338\" font-family=\"Times,serif\" font-size=\"14.00\">3</text>\n",
       "</g>\n",
       "<!-- 2&#45;&gt;3 -->\n",
       "<g id=\"edge19\" class=\"edge\"><title>2&#45;&gt;3</title>\n",
       "<path fill=\"none\" stroke=\"black\" d=\"M322.735,-157.023C326.267,-189.376 335.483,-255.31 353,-269.038 382.734,-292.341 408.266,-292.341 438,-269.038 453.806,-256.651 462.854,-201.756 467.066,-167.382\"/>\n",
       "<polygon fill=\"black\" stroke=\"black\" points=\"470.592,-167.359 468.265,-157.023 463.638,-166.554 470.592,-167.359\"/>\n",
       "<text text-anchor=\"middle\" x=\"395.5\" y=\"-289.838\" font-family=\"Times,serif\" font-size=\"14.00\">x2:G1/0.0026</text>\n",
       "</g>\n",
       "<!-- 2&#45;&gt;3 -->\n",
       "<g id=\"edge20\" class=\"edge\"><title>2&#45;&gt;3</title>\n",
       "<path fill=\"none\" stroke=\"black\" d=\"M321.446,-157.189C323.071,-178.863 329.432,-214.283 353,-231.038 383.79,-252.928 407.21,-252.928 438,-231.038 458.162,-216.704 465.731,-188.711 468.515,-167.35\"/>\n",
       "<polygon fill=\"black\" stroke=\"black\" points=\"472.018,-167.493 469.554,-157.189 465.055,-166.781 472.018,-167.493\"/>\n",
       "<text text-anchor=\"middle\" x=\"395.5\" y=\"-250.838\" font-family=\"Times,serif\" font-size=\"14.00\">x2:G2/0.0023</text>\n",
       "</g>\n",
       "<!-- 2&#45;&gt;3 -->\n",
       "<g id=\"edge21\" class=\"edge\"><title>2&#45;&gt;3</title>\n",
       "<path fill=\"none\" stroke=\"black\" d=\"M325.99,-156.018C330.712,-168.705 339.176,-185.162 353,-193.038 385.823,-211.741 405.177,-211.741 438,-193.038 448.584,-187.008 456.026,-175.948 461.052,-165.401\"/>\n",
       "<polygon fill=\"black\" stroke=\"black\" points=\"464.348,-166.592 465.01,-156.018 457.898,-163.871 464.348,-166.592\"/>\n",
       "<text text-anchor=\"middle\" x=\"395.5\" y=\"-210.838\" font-family=\"Times,serif\" font-size=\"14.00\">x2:G3/0.0089</text>\n",
       "</g>\n",
       "<!-- 2&#45;&gt;3 -->\n",
       "<g id=\"edge22\" class=\"edge\"><title>2&#45;&gt;3</title>\n",
       "<path fill=\"none\" stroke=\"black\" d=\"M335.752,-148.201C340.998,-150.967 347.076,-153.64 353,-155.038 389.767,-163.718 401.233,-163.718 438,-155.038 440.684,-154.405 443.4,-153.509 446.056,-152.462\"/>\n",
       "<polygon fill=\"black\" stroke=\"black\" points=\"447.648,-155.582 455.248,-148.201 444.703,-149.232 447.648,-155.582\"/>\n",
       "<text text-anchor=\"middle\" x=\"395.5\" y=\"-164.838\" font-family=\"Times,serif\" font-size=\"14.00\">x2:UH1/0.0073</text>\n",
       "</g>\n",
       "<!-- 2&#45;&gt;3 -->\n",
       "<g id=\"edge23\" class=\"edge\"><title>2&#45;&gt;3</title>\n",
       "<path fill=\"none\" stroke=\"black\" d=\"M337.919,-137.154C342.781,-136.694 348.095,-136.268 353,-136.038 390.737,-134.273 400.263,-134.273 438,-136.038 439.533,-136.11 441.106,-136.201 442.692,-136.306\"/>\n",
       "<polygon fill=\"black\" stroke=\"black\" points=\"442.83,-139.829 453.081,-137.154 443.399,-132.852 442.83,-139.829\"/>\n",
       "<text text-anchor=\"middle\" x=\"395.5\" y=\"-139.838\" font-family=\"Times,serif\" font-size=\"14.00\">x2:UH2/0.0156</text>\n",
       "</g>\n",
       "<!-- 2&#45;&gt;3 -->\n",
       "<g id=\"edge24\" class=\"edge\"><title>2&#45;&gt;3</title>\n",
       "<path fill=\"none\" stroke=\"black\" d=\"M333.281,-126.881C338.826,-122.225 345.753,-117.454 353,-115.038 388.839,-103.092 402.161,-103.092 438,-115.038 441.963,-116.359 445.831,-118.385 449.429,-120.711\"/>\n",
       "<polygon fill=\"black\" stroke=\"black\" points=\"447.607,-123.718 457.719,-126.881 451.786,-118.102 447.607,-123.718\"/>\n",
       "<text text-anchor=\"middle\" x=\"395.5\" y=\"-118.838\" font-family=\"Times,serif\" font-size=\"14.00\">x2:UH3/0.0037</text>\n",
       "</g>\n",
       "<!-- 2&#45;&gt;3 -->\n",
       "<g id=\"edge25\" class=\"edge\"><title>2&#45;&gt;3</title>\n",
       "<path fill=\"none\" stroke=\"black\" d=\"M326.364,-122.164C331.216,-110.007 339.675,-94.4843 353,-87.0383 385.978,-68.6102 405.022,-68.6102 438,-87.0383 448.098,-92.681 455.402,-102.962 460.458,-112.901\"/>\n",
       "<polygon fill=\"black\" stroke=\"black\" points=\"457.334,-114.487 464.636,-122.164 463.715,-111.609 457.334,-114.487\"/>\n",
       "<text text-anchor=\"middle\" x=\"395.5\" y=\"-90.8383\" font-family=\"Times,serif\" font-size=\"14.00\">x2:D1/0.0013</text>\n",
       "</g>\n",
       "<!-- 2&#45;&gt;3 -->\n",
       "<g id=\"edge26\" class=\"edge\"><title>2&#45;&gt;3</title>\n",
       "<path fill=\"none\" stroke=\"black\" d=\"M322.062,-120.795C324.327,-100.63 331.347,-69.0233 353,-54.0383 384.064,-32.5403 406.936,-32.5403 438,-54.0383 456.354,-66.7404 464.195,-91.3853 467.537,-110.881\"/>\n",
       "<polygon fill=\"black\" stroke=\"black\" points=\"464.073,-111.383 468.938,-120.795 471.004,-110.403 464.073,-111.383\"/>\n",
       "<text text-anchor=\"middle\" x=\"395.5\" y=\"-57.8383\" font-family=\"Times,serif\" font-size=\"14.00\">x2:D2/0.0154</text>\n",
       "</g>\n",
       "<!-- 2&#45;&gt;3 -->\n",
       "<g id=\"edge27\" class=\"edge\"><title>2&#45;&gt;3</title>\n",
       "<path fill=\"none\" stroke=\"black\" d=\"M323.085,-121.086C327.042,-90.5475 336.73,-30.5652 353,-18.0383 382.934,5.00809 408.066,5.00809 438,-18.0383 452.618,-29.2929 461.923,-78.8531 466.531,-110.951\"/>\n",
       "<polygon fill=\"black\" stroke=\"black\" points=\"463.094,-111.652 467.915,-121.086 470.03,-110.705 463.094,-111.652\"/>\n",
       "<text text-anchor=\"middle\" x=\"395.5\" y=\"-21.8383\" font-family=\"Times,serif\" font-size=\"14.00\">x2:D3/0.0076</text>\n",
       "</g>\n",
       "<!-- 4 -->\n",
       "<g id=\"node5\" class=\"node\"><title>4</title>\n",
       "<ellipse fill=\"none\" stroke=\"black\" cx=\"622\" cy=\"-139.038\" rx=\"18\" ry=\"18\"/>\n",
       "<text text-anchor=\"middle\" x=\"622\" y=\"-135.338\" font-family=\"Times,serif\" font-size=\"14.00\">4</text>\n",
       "</g>\n",
       "<!-- 3&#45;&gt;4 -->\n",
       "<g id=\"edge28\" class=\"edge\"><title>3&#45;&gt;4</title>\n",
       "<path fill=\"none\" stroke=\"black\" d=\"M473.735,-157.023C477.267,-189.376 486.483,-255.31 504,-269.038 533.734,-292.341 559.266,-292.341 589,-269.038 604.806,-256.651 613.854,-201.756 618.066,-167.382\"/>\n",
       "<polygon fill=\"black\" stroke=\"black\" points=\"621.592,-167.359 619.265,-157.023 614.638,-166.554 621.592,-167.359\"/>\n",
       "<text text-anchor=\"middle\" x=\"546.5\" y=\"-289.838\" font-family=\"Times,serif\" font-size=\"14.00\">x3:G1/0.0131</text>\n",
       "</g>\n",
       "<!-- 3&#45;&gt;4 -->\n",
       "<g id=\"edge29\" class=\"edge\"><title>3&#45;&gt;4</title>\n",
       "<path fill=\"none\" stroke=\"black\" d=\"M472.446,-157.189C474.071,-178.863 480.432,-214.283 504,-231.038 534.79,-252.928 558.21,-252.928 589,-231.038 609.162,-216.704 616.731,-188.711 619.515,-167.35\"/>\n",
       "<polygon fill=\"black\" stroke=\"black\" points=\"623.018,-167.493 620.554,-157.189 616.055,-166.781 623.018,-167.493\"/>\n",
       "<text text-anchor=\"middle\" x=\"546.5\" y=\"-250.838\" font-family=\"Times,serif\" font-size=\"14.00\">x3:G2/0.0107</text>\n",
       "</g>\n",
       "<!-- 3&#45;&gt;4 -->\n",
       "<g id=\"edge30\" class=\"edge\"><title>3&#45;&gt;4</title>\n",
       "<path fill=\"none\" stroke=\"black\" d=\"M476.99,-156.018C481.712,-168.705 490.176,-185.162 504,-193.038 536.823,-211.741 556.177,-211.741 589,-193.038 599.584,-187.008 607.026,-175.948 612.052,-165.401\"/>\n",
       "<polygon fill=\"black\" stroke=\"black\" points=\"615.348,-166.592 616.01,-156.018 608.898,-163.871 615.348,-166.592\"/>\n",
       "<text text-anchor=\"middle\" x=\"546.5\" y=\"-210.838\" font-family=\"Times,serif\" font-size=\"14.00\">x3:G3/0.0079</text>\n",
       "</g>\n",
       "<!-- 3&#45;&gt;4 -->\n",
       "<g id=\"edge31\" class=\"edge\"><title>3&#45;&gt;4</title>\n",
       "<path fill=\"none\" stroke=\"black\" d=\"M486.752,-148.201C491.998,-150.967 498.076,-153.64 504,-155.038 540.767,-163.718 552.233,-163.718 589,-155.038 591.684,-154.405 594.4,-153.509 597.056,-152.462\"/>\n",
       "<polygon fill=\"black\" stroke=\"black\" points=\"598.648,-155.582 606.248,-148.201 595.703,-149.232 598.648,-155.582\"/>\n",
       "<text text-anchor=\"middle\" x=\"546.5\" y=\"-164.838\" font-family=\"Times,serif\" font-size=\"14.00\">x3:UH1/0.0045</text>\n",
       "</g>\n",
       "<!-- 3&#45;&gt;4 -->\n",
       "<g id=\"edge32\" class=\"edge\"><title>3&#45;&gt;4</title>\n",
       "<path fill=\"none\" stroke=\"black\" d=\"M488.919,-137.154C493.781,-136.694 499.095,-136.268 504,-136.038 541.737,-134.273 551.263,-134.273 589,-136.038 590.533,-136.11 592.106,-136.201 593.692,-136.306\"/>\n",
       "<polygon fill=\"black\" stroke=\"black\" points=\"593.83,-139.829 604.081,-137.154 594.399,-132.852 593.83,-139.829\"/>\n",
       "<text text-anchor=\"middle\" x=\"546.5\" y=\"-139.838\" font-family=\"Times,serif\" font-size=\"14.00\">x3:UH2/0.007</text>\n",
       "</g>\n",
       "<!-- 3&#45;&gt;4 -->\n",
       "<g id=\"edge33\" class=\"edge\"><title>3&#45;&gt;4</title>\n",
       "<path fill=\"none\" stroke=\"black\" d=\"M484.281,-126.881C489.826,-122.225 496.753,-117.454 504,-115.038 539.839,-103.092 553.161,-103.092 589,-115.038 592.963,-116.359 596.831,-118.385 600.429,-120.711\"/>\n",
       "<polygon fill=\"black\" stroke=\"black\" points=\"598.607,-123.718 608.719,-126.881 602.786,-118.102 598.607,-123.718\"/>\n",
       "<text text-anchor=\"middle\" x=\"546.5\" y=\"-118.838\" font-family=\"Times,serif\" font-size=\"14.00\">x3:UH3/0.0125</text>\n",
       "</g>\n",
       "<!-- 3&#45;&gt;4 -->\n",
       "<g id=\"edge34\" class=\"edge\"><title>3&#45;&gt;4</title>\n",
       "<path fill=\"none\" stroke=\"black\" d=\"M477.364,-122.164C482.216,-110.007 490.675,-94.4843 504,-87.0383 536.978,-68.6102 556.022,-68.6102 589,-87.0383 599.098,-92.681 606.402,-102.962 611.458,-112.901\"/>\n",
       "<polygon fill=\"black\" stroke=\"black\" points=\"608.334,-114.487 615.636,-122.164 614.715,-111.609 608.334,-114.487\"/>\n",
       "<text text-anchor=\"middle\" x=\"546.5\" y=\"-90.8383\" font-family=\"Times,serif\" font-size=\"14.00\">x3:D1/0.0132</text>\n",
       "</g>\n",
       "<!-- 3&#45;&gt;4 -->\n",
       "<g id=\"edge35\" class=\"edge\"><title>3&#45;&gt;4</title>\n",
       "<path fill=\"none\" stroke=\"black\" d=\"M473.062,-120.795C475.327,-100.63 482.347,-69.0233 504,-54.0383 535.064,-32.5403 557.936,-32.5403 589,-54.0383 607.354,-66.7404 615.195,-91.3853 618.537,-110.881\"/>\n",
       "<polygon fill=\"black\" stroke=\"black\" points=\"615.073,-111.383 619.938,-120.795 622.004,-110.403 615.073,-111.383\"/>\n",
       "<text text-anchor=\"middle\" x=\"546.5\" y=\"-57.8383\" font-family=\"Times,serif\" font-size=\"14.00\">x3:D2/0.0124</text>\n",
       "</g>\n",
       "<!-- 3&#45;&gt;4 -->\n",
       "<g id=\"edge36\" class=\"edge\"><title>3&#45;&gt;4</title>\n",
       "<path fill=\"none\" stroke=\"black\" d=\"M474.085,-121.086C478.042,-90.5475 487.73,-30.5652 504,-18.0383 533.934,5.00809 559.066,5.00809 589,-18.0383 603.618,-29.2929 612.923,-78.8531 617.531,-110.951\"/>\n",
       "<polygon fill=\"black\" stroke=\"black\" points=\"614.094,-111.652 618.915,-121.086 621.03,-110.705 614.094,-111.652\"/>\n",
       "<text text-anchor=\"middle\" x=\"546.5\" y=\"-21.8383\" font-family=\"Times,serif\" font-size=\"14.00\">x3:D3/0.0024</text>\n",
       "</g>\n",
       "<!-- 5 -->\n",
       "<g id=\"node6\" class=\"node\"><title>5</title>\n",
       "<ellipse fill=\"none\" stroke=\"black\" cx=\"773\" cy=\"-139.038\" rx=\"18\" ry=\"18\"/>\n",
       "<text text-anchor=\"middle\" x=\"773\" y=\"-135.338\" font-family=\"Times,serif\" font-size=\"14.00\">5</text>\n",
       "</g>\n",
       "<!-- 4&#45;&gt;5 -->\n",
       "<g id=\"edge37\" class=\"edge\"><title>4&#45;&gt;5</title>\n",
       "<path fill=\"none\" stroke=\"black\" d=\"M624.735,-157.023C628.267,-189.376 637.483,-255.31 655,-269.038 684.734,-292.341 710.266,-292.341 740,-269.038 755.806,-256.651 764.854,-201.756 769.066,-167.382\"/>\n",
       "<polygon fill=\"black\" stroke=\"black\" points=\"772.592,-167.359 770.265,-157.023 765.638,-166.554 772.592,-167.359\"/>\n",
       "<text text-anchor=\"middle\" x=\"697.5\" y=\"-289.838\" font-family=\"Times,serif\" font-size=\"14.00\">x4:G1/0.0073</text>\n",
       "</g>\n",
       "<!-- 4&#45;&gt;5 -->\n",
       "<g id=\"edge38\" class=\"edge\"><title>4&#45;&gt;5</title>\n",
       "<path fill=\"none\" stroke=\"black\" d=\"M623.446,-157.189C625.071,-178.863 631.432,-214.283 655,-231.038 685.79,-252.928 709.21,-252.928 740,-231.038 760.162,-216.704 767.731,-188.711 770.515,-167.35\"/>\n",
       "<polygon fill=\"black\" stroke=\"black\" points=\"774.018,-167.493 771.554,-157.189 767.055,-166.781 774.018,-167.493\"/>\n",
       "<text text-anchor=\"middle\" x=\"697.5\" y=\"-250.838\" font-family=\"Times,serif\" font-size=\"14.00\">x4:G2/0.0061</text>\n",
       "</g>\n",
       "<!-- 4&#45;&gt;5 -->\n",
       "<g id=\"edge39\" class=\"edge\"><title>4&#45;&gt;5</title>\n",
       "<path fill=\"none\" stroke=\"black\" d=\"M627.99,-156.018C632.712,-168.705 641.176,-185.162 655,-193.038 687.823,-211.741 707.177,-211.741 740,-193.038 750.584,-187.008 758.026,-175.948 763.052,-165.401\"/>\n",
       "<polygon fill=\"black\" stroke=\"black\" points=\"766.348,-166.592 767.01,-156.018 759.898,-163.871 766.348,-166.592\"/>\n",
       "<text text-anchor=\"middle\" x=\"697.5\" y=\"-210.838\" font-family=\"Times,serif\" font-size=\"14.00\">x4:G3/0.0087</text>\n",
       "</g>\n",
       "<!-- 4&#45;&gt;5 -->\n",
       "<g id=\"edge40\" class=\"edge\"><title>4&#45;&gt;5</title>\n",
       "<path fill=\"none\" stroke=\"black\" d=\"M637.752,-148.201C642.998,-150.967 649.076,-153.64 655,-155.038 691.767,-163.718 703.233,-163.718 740,-155.038 742.684,-154.405 745.4,-153.509 748.056,-152.462\"/>\n",
       "<polygon fill=\"black\" stroke=\"black\" points=\"749.648,-155.582 757.248,-148.201 746.703,-149.232 749.648,-155.582\"/>\n",
       "<text text-anchor=\"middle\" x=\"697.5\" y=\"-164.838\" font-family=\"Times,serif\" font-size=\"14.00\">x4:UH1/0.0122</text>\n",
       "</g>\n",
       "<!-- 4&#45;&gt;5 -->\n",
       "<g id=\"edge41\" class=\"edge\"><title>4&#45;&gt;5</title>\n",
       "<path fill=\"none\" stroke=\"black\" d=\"M639.919,-137.154C644.781,-136.694 650.095,-136.268 655,-136.038 692.737,-134.273 702.263,-134.273 740,-136.038 741.533,-136.11 743.106,-136.201 744.692,-136.306\"/>\n",
       "<polygon fill=\"black\" stroke=\"black\" points=\"744.83,-139.829 755.081,-137.154 745.399,-132.852 744.83,-139.829\"/>\n",
       "<text text-anchor=\"middle\" x=\"697.5\" y=\"-139.838\" font-family=\"Times,serif\" font-size=\"14.00\">x4:UH2/0.0062</text>\n",
       "</g>\n",
       "<!-- 4&#45;&gt;5 -->\n",
       "<g id=\"edge42\" class=\"edge\"><title>4&#45;&gt;5</title>\n",
       "<path fill=\"none\" stroke=\"black\" d=\"M635.281,-126.881C640.826,-122.225 647.753,-117.454 655,-115.038 690.839,-103.092 704.161,-103.092 740,-115.038 743.963,-116.359 747.831,-118.385 751.429,-120.711\"/>\n",
       "<polygon fill=\"black\" stroke=\"black\" points=\"749.607,-123.718 759.719,-126.881 753.786,-118.102 749.607,-123.718\"/>\n",
       "<text text-anchor=\"middle\" x=\"697.5\" y=\"-118.838\" font-family=\"Times,serif\" font-size=\"14.00\">x4:UH3/0.0034</text>\n",
       "</g>\n",
       "<!-- 4&#45;&gt;5 -->\n",
       "<g id=\"edge43\" class=\"edge\"><title>4&#45;&gt;5</title>\n",
       "<path fill=\"none\" stroke=\"black\" d=\"M628.364,-122.164C633.216,-110.007 641.675,-94.4843 655,-87.0383 687.978,-68.6102 707.022,-68.6102 740,-87.0383 750.098,-92.681 757.402,-102.962 762.458,-112.901\"/>\n",
       "<polygon fill=\"black\" stroke=\"black\" points=\"759.334,-114.487 766.636,-122.164 765.715,-111.609 759.334,-114.487\"/>\n",
       "<text text-anchor=\"middle\" x=\"697.5\" y=\"-90.8383\" font-family=\"Times,serif\" font-size=\"14.00\">x4:D1/0.0018</text>\n",
       "</g>\n",
       "<!-- 4&#45;&gt;5 -->\n",
       "<g id=\"edge44\" class=\"edge\"><title>4&#45;&gt;5</title>\n",
       "<path fill=\"none\" stroke=\"black\" d=\"M624.062,-120.795C626.327,-100.63 633.347,-69.0233 655,-54.0383 686.064,-32.5403 708.936,-32.5403 740,-54.0383 758.354,-66.7404 766.195,-91.3853 769.537,-110.881\"/>\n",
       "<polygon fill=\"black\" stroke=\"black\" points=\"766.073,-111.383 770.938,-120.795 773.004,-110.403 766.073,-111.383\"/>\n",
       "<text text-anchor=\"middle\" x=\"697.5\" y=\"-57.8383\" font-family=\"Times,serif\" font-size=\"14.00\">x4:D2/0.0038</text>\n",
       "</g>\n",
       "<!-- 4&#45;&gt;5 -->\n",
       "<g id=\"edge45\" class=\"edge\"><title>4&#45;&gt;5</title>\n",
       "<path fill=\"none\" stroke=\"black\" d=\"M625.085,-121.086C629.042,-90.5475 638.73,-30.5652 655,-18.0383 684.934,5.00809 710.066,5.00809 740,-18.0383 754.618,-29.2929 763.923,-78.8531 768.531,-110.951\"/>\n",
       "<polygon fill=\"black\" stroke=\"black\" points=\"765.094,-111.652 769.915,-121.086 772.03,-110.705 765.094,-111.652\"/>\n",
       "<text text-anchor=\"middle\" x=\"697.5\" y=\"-21.8383\" font-family=\"Times,serif\" font-size=\"14.00\">x4:D3/0.0106</text>\n",
       "</g>\n",
       "<!-- 6 -->\n",
       "<g id=\"node7\" class=\"node\"><title>6</title>\n",
       "<ellipse fill=\"none\" stroke=\"black\" cx=\"924\" cy=\"-139.038\" rx=\"18\" ry=\"18\"/>\n",
       "<text text-anchor=\"middle\" x=\"924\" y=\"-135.338\" font-family=\"Times,serif\" font-size=\"14.00\">6</text>\n",
       "</g>\n",
       "<!-- 5&#45;&gt;6 -->\n",
       "<g id=\"edge46\" class=\"edge\"><title>5&#45;&gt;6</title>\n",
       "<path fill=\"none\" stroke=\"black\" d=\"M775.735,-157.023C779.267,-189.376 788.483,-255.31 806,-269.038 835.734,-292.341 861.266,-292.341 891,-269.038 906.806,-256.651 915.854,-201.756 920.066,-167.382\"/>\n",
       "<polygon fill=\"black\" stroke=\"black\" points=\"923.592,-167.359 921.265,-157.023 916.638,-166.554 923.592,-167.359\"/>\n",
       "<text text-anchor=\"middle\" x=\"848.5\" y=\"-289.838\" font-family=\"Times,serif\" font-size=\"14.00\">x5:G1/0.0135</text>\n",
       "</g>\n",
       "<!-- 5&#45;&gt;6 -->\n",
       "<g id=\"edge47\" class=\"edge\"><title>5&#45;&gt;6</title>\n",
       "<path fill=\"none\" stroke=\"black\" d=\"M774.446,-157.189C776.071,-178.863 782.432,-214.283 806,-231.038 836.79,-252.928 860.21,-252.928 891,-231.038 911.162,-216.704 918.731,-188.711 921.515,-167.35\"/>\n",
       "<polygon fill=\"black\" stroke=\"black\" points=\"925.018,-167.493 922.554,-157.189 918.055,-166.781 925.018,-167.493\"/>\n",
       "<text text-anchor=\"middle\" x=\"848.5\" y=\"-250.838\" font-family=\"Times,serif\" font-size=\"14.00\">x5:G2/0.0145</text>\n",
       "</g>\n",
       "<!-- 5&#45;&gt;6 -->\n",
       "<g id=\"edge48\" class=\"edge\"><title>5&#45;&gt;6</title>\n",
       "<path fill=\"none\" stroke=\"black\" d=\"M778.99,-156.018C783.712,-168.705 792.176,-185.162 806,-193.038 838.823,-211.741 858.177,-211.741 891,-193.038 901.584,-187.008 909.026,-175.948 914.052,-165.401\"/>\n",
       "<polygon fill=\"black\" stroke=\"black\" points=\"917.348,-166.592 918.01,-156.018 910.898,-163.871 917.348,-166.592\"/>\n",
       "<text text-anchor=\"middle\" x=\"848.5\" y=\"-210.838\" font-family=\"Times,serif\" font-size=\"14.00\">x5:G3/0.0111</text>\n",
       "</g>\n",
       "<!-- 5&#45;&gt;6 -->\n",
       "<g id=\"edge49\" class=\"edge\"><title>5&#45;&gt;6</title>\n",
       "<path fill=\"none\" stroke=\"black\" d=\"M788.752,-148.201C793.998,-150.967 800.076,-153.64 806,-155.038 842.767,-163.718 854.233,-163.718 891,-155.038 893.684,-154.405 896.4,-153.509 899.056,-152.462\"/>\n",
       "<polygon fill=\"black\" stroke=\"black\" points=\"900.648,-155.582 908.248,-148.201 897.703,-149.232 900.648,-155.582\"/>\n",
       "<text text-anchor=\"middle\" x=\"848.5\" y=\"-164.838\" font-family=\"Times,serif\" font-size=\"14.00\">x5:UH1/0.0131</text>\n",
       "</g>\n",
       "<!-- 5&#45;&gt;6 -->\n",
       "<g id=\"edge50\" class=\"edge\"><title>5&#45;&gt;6</title>\n",
       "<path fill=\"none\" stroke=\"black\" d=\"M790.919,-137.154C795.781,-136.694 801.095,-136.268 806,-136.038 843.737,-134.273 853.263,-134.273 891,-136.038 892.533,-136.11 894.106,-136.201 895.692,-136.306\"/>\n",
       "<polygon fill=\"black\" stroke=\"black\" points=\"895.83,-139.829 906.081,-137.154 896.399,-132.852 895.83,-139.829\"/>\n",
       "<text text-anchor=\"middle\" x=\"848.5\" y=\"-139.838\" font-family=\"Times,serif\" font-size=\"14.00\">x5:UH2/0.0054</text>\n",
       "</g>\n",
       "<!-- 5&#45;&gt;6 -->\n",
       "<g id=\"edge51\" class=\"edge\"><title>5&#45;&gt;6</title>\n",
       "<path fill=\"none\" stroke=\"black\" d=\"M786.281,-126.881C791.826,-122.225 798.753,-117.454 806,-115.038 841.839,-103.092 855.161,-103.092 891,-115.038 894.963,-116.359 898.831,-118.385 902.429,-120.711\"/>\n",
       "<polygon fill=\"black\" stroke=\"black\" points=\"900.607,-123.718 910.719,-126.881 904.786,-118.102 900.607,-123.718\"/>\n",
       "<text text-anchor=\"middle\" x=\"848.5\" y=\"-118.838\" font-family=\"Times,serif\" font-size=\"14.00\">x5:UH3/0.0094</text>\n",
       "</g>\n",
       "<!-- 5&#45;&gt;6 -->\n",
       "<g id=\"edge52\" class=\"edge\"><title>5&#45;&gt;6</title>\n",
       "<path fill=\"none\" stroke=\"black\" d=\"M779.364,-122.164C784.216,-110.007 792.675,-94.4843 806,-87.0383 838.978,-68.6102 858.022,-68.6102 891,-87.0383 901.098,-92.681 908.402,-102.962 913.458,-112.901\"/>\n",
       "<polygon fill=\"black\" stroke=\"black\" points=\"910.334,-114.487 917.636,-122.164 916.715,-111.609 910.334,-114.487\"/>\n",
       "<text text-anchor=\"middle\" x=\"848.5\" y=\"-90.8383\" font-family=\"Times,serif\" font-size=\"14.00\">x5:D1/0.0029</text>\n",
       "</g>\n",
       "<!-- 5&#45;&gt;6 -->\n",
       "<g id=\"edge53\" class=\"edge\"><title>5&#45;&gt;6</title>\n",
       "<path fill=\"none\" stroke=\"black\" d=\"M775.062,-120.795C777.327,-100.63 784.347,-69.0233 806,-54.0383 837.064,-32.5403 859.936,-32.5403 891,-54.0383 909.354,-66.7404 917.195,-91.3853 920.537,-110.881\"/>\n",
       "<polygon fill=\"black\" stroke=\"black\" points=\"917.073,-111.383 921.938,-120.795 924.004,-110.403 917.073,-111.383\"/>\n",
       "<text text-anchor=\"middle\" x=\"848.5\" y=\"-57.8383\" font-family=\"Times,serif\" font-size=\"14.00\">x5:D2/0.0092</text>\n",
       "</g>\n",
       "<!-- 5&#45;&gt;6 -->\n",
       "<g id=\"edge54\" class=\"edge\"><title>5&#45;&gt;6</title>\n",
       "<path fill=\"none\" stroke=\"black\" d=\"M776.085,-121.086C780.042,-90.5475 789.73,-30.5652 806,-18.0383 835.934,5.00809 861.066,5.00809 891,-18.0383 905.618,-29.2929 914.923,-78.8531 919.531,-110.951\"/>\n",
       "<polygon fill=\"black\" stroke=\"black\" points=\"916.094,-111.652 920.915,-121.086 923.03,-110.705 916.094,-111.652\"/>\n",
       "<text text-anchor=\"middle\" x=\"848.5\" y=\"-21.8383\" font-family=\"Times,serif\" font-size=\"14.00\">x5:D3/0.0113</text>\n",
       "</g>\n",
       "<!-- 7 -->\n",
       "<g id=\"node8\" class=\"node\"><title>7</title>\n",
       "<ellipse fill=\"none\" stroke=\"black\" cx=\"1075\" cy=\"-139.038\" rx=\"18\" ry=\"18\"/>\n",
       "<text text-anchor=\"middle\" x=\"1075\" y=\"-135.338\" font-family=\"Times,serif\" font-size=\"14.00\">7</text>\n",
       "</g>\n",
       "<!-- 6&#45;&gt;7 -->\n",
       "<g id=\"edge55\" class=\"edge\"><title>6&#45;&gt;7</title>\n",
       "<path fill=\"none\" stroke=\"black\" d=\"M926.735,-157.023C930.267,-189.376 939.483,-255.31 957,-269.038 986.734,-292.341 1012.27,-292.341 1042,-269.038 1057.81,-256.651 1066.85,-201.756 1071.07,-167.382\"/>\n",
       "<polygon fill=\"black\" stroke=\"black\" points=\"1074.59,-167.359 1072.27,-157.023 1067.64,-166.554 1074.59,-167.359\"/>\n",
       "<text text-anchor=\"middle\" x=\"999.5\" y=\"-289.838\" font-family=\"Times,serif\" font-size=\"14.00\">x6:G1/0.0115</text>\n",
       "</g>\n",
       "<!-- 6&#45;&gt;7 -->\n",
       "<g id=\"edge56\" class=\"edge\"><title>6&#45;&gt;7</title>\n",
       "<path fill=\"none\" stroke=\"black\" d=\"M925.446,-157.189C927.071,-178.863 933.432,-214.283 957,-231.038 987.79,-252.928 1011.21,-252.928 1042,-231.038 1062.16,-216.704 1069.73,-188.711 1072.51,-167.35\"/>\n",
       "<polygon fill=\"black\" stroke=\"black\" points=\"1076.02,-167.493 1073.55,-157.189 1069.05,-166.781 1076.02,-167.493\"/>\n",
       "<text text-anchor=\"middle\" x=\"999.5\" y=\"-250.838\" font-family=\"Times,serif\" font-size=\"14.00\">x6:G2/0.0064</text>\n",
       "</g>\n",
       "<!-- 6&#45;&gt;7 -->\n",
       "<g id=\"edge57\" class=\"edge\"><title>6&#45;&gt;7</title>\n",
       "<path fill=\"none\" stroke=\"black\" d=\"M929.99,-156.018C934.712,-168.705 943.176,-185.162 957,-193.038 989.823,-211.741 1009.18,-211.741 1042,-193.038 1052.58,-187.008 1060.03,-175.948 1065.05,-165.401\"/>\n",
       "<polygon fill=\"black\" stroke=\"black\" points=\"1068.35,-166.592 1069.01,-156.018 1061.9,-163.871 1068.35,-166.592\"/>\n",
       "<text text-anchor=\"middle\" x=\"999.5\" y=\"-210.838\" font-family=\"Times,serif\" font-size=\"14.00\">x6:G3/0.0133</text>\n",
       "</g>\n",
       "<!-- 6&#45;&gt;7 -->\n",
       "<g id=\"edge58\" class=\"edge\"><title>6&#45;&gt;7</title>\n",
       "<path fill=\"none\" stroke=\"black\" d=\"M939.752,-148.201C944.998,-150.967 951.076,-153.64 957,-155.038 993.767,-163.718 1005.23,-163.718 1042,-155.038 1044.68,-154.405 1047.4,-153.509 1050.06,-152.462\"/>\n",
       "<polygon fill=\"black\" stroke=\"black\" points=\"1051.65,-155.582 1059.25,-148.201 1048.7,-149.232 1051.65,-155.582\"/>\n",
       "<text text-anchor=\"middle\" x=\"999.5\" y=\"-164.838\" font-family=\"Times,serif\" font-size=\"14.00\">x6:UH1/0.0129</text>\n",
       "</g>\n",
       "<!-- 6&#45;&gt;7 -->\n",
       "<g id=\"edge59\" class=\"edge\"><title>6&#45;&gt;7</title>\n",
       "<path fill=\"none\" stroke=\"black\" d=\"M941.919,-137.154C946.781,-136.694 952.095,-136.268 957,-136.038 994.737,-134.273 1004.26,-134.273 1042,-136.038 1043.53,-136.11 1045.11,-136.201 1046.69,-136.306\"/>\n",
       "<polygon fill=\"black\" stroke=\"black\" points=\"1046.83,-139.829 1057.08,-137.154 1047.4,-132.852 1046.83,-139.829\"/>\n",
       "<text text-anchor=\"middle\" x=\"999.5\" y=\"-139.838\" font-family=\"Times,serif\" font-size=\"14.00\">x6:UH2/0.0079</text>\n",
       "</g>\n",
       "<!-- 6&#45;&gt;7 -->\n",
       "<g id=\"edge60\" class=\"edge\"><title>6&#45;&gt;7</title>\n",
       "<path fill=\"none\" stroke=\"black\" d=\"M937.281,-126.881C942.826,-122.225 949.753,-117.454 957,-115.038 992.839,-103.092 1006.16,-103.092 1042,-115.038 1045.96,-116.359 1049.83,-118.385 1053.43,-120.711\"/>\n",
       "<polygon fill=\"black\" stroke=\"black\" points=\"1051.61,-123.718 1061.72,-126.881 1055.79,-118.102 1051.61,-123.718\"/>\n",
       "<text text-anchor=\"middle\" x=\"999.5\" y=\"-118.838\" font-family=\"Times,serif\" font-size=\"14.00\">x6:UH3/0.0119</text>\n",
       "</g>\n",
       "<!-- 6&#45;&gt;7 -->\n",
       "<g id=\"edge61\" class=\"edge\"><title>6&#45;&gt;7</title>\n",
       "<path fill=\"none\" stroke=\"black\" d=\"M930.364,-122.164C935.216,-110.007 943.675,-94.4843 957,-87.0383 989.978,-68.6102 1009.02,-68.6102 1042,-87.0383 1052.1,-92.681 1059.4,-102.962 1064.46,-112.901\"/>\n",
       "<polygon fill=\"black\" stroke=\"black\" points=\"1061.33,-114.487 1068.64,-122.164 1067.71,-111.609 1061.33,-114.487\"/>\n",
       "<text text-anchor=\"middle\" x=\"999.5\" y=\"-90.8383\" font-family=\"Times,serif\" font-size=\"14.00\">x6:D1/0.0068</text>\n",
       "</g>\n",
       "<!-- 6&#45;&gt;7 -->\n",
       "<g id=\"edge62\" class=\"edge\"><title>6&#45;&gt;7</title>\n",
       "<path fill=\"none\" stroke=\"black\" d=\"M926.062,-120.795C928.327,-100.63 935.347,-69.0233 957,-54.0383 988.064,-32.5403 1010.94,-32.5403 1042,-54.0383 1060.35,-66.7404 1068.19,-91.3853 1071.54,-110.881\"/>\n",
       "<polygon fill=\"black\" stroke=\"black\" points=\"1068.07,-111.383 1072.94,-120.795 1075,-110.403 1068.07,-111.383\"/>\n",
       "<text text-anchor=\"middle\" x=\"999.5\" y=\"-57.8383\" font-family=\"Times,serif\" font-size=\"14.00\">x6:D2/0.0086</text>\n",
       "</g>\n",
       "<!-- 6&#45;&gt;7 -->\n",
       "<g id=\"edge63\" class=\"edge\"><title>6&#45;&gt;7</title>\n",
       "<path fill=\"none\" stroke=\"black\" d=\"M927.085,-121.086C931.042,-90.5475 940.73,-30.5652 957,-18.0383 986.934,5.00809 1012.07,5.00809 1042,-18.0383 1056.62,-29.2929 1065.92,-78.8531 1070.53,-110.951\"/>\n",
       "<polygon fill=\"black\" stroke=\"black\" points=\"1067.09,-111.652 1071.92,-121.086 1074.03,-110.705 1067.09,-111.652\"/>\n",
       "<text text-anchor=\"middle\" x=\"999.5\" y=\"-21.8383\" font-family=\"Times,serif\" font-size=\"14.00\">x6:D3/0.0111</text>\n",
       "</g>\n",
       "<!-- 8 -->\n",
       "<g id=\"node9\" class=\"node\"><title>8</title>\n",
       "<ellipse fill=\"none\" stroke=\"black\" cx=\"1226\" cy=\"-139.038\" rx=\"18\" ry=\"18\"/>\n",
       "<text text-anchor=\"middle\" x=\"1226\" y=\"-135.338\" font-family=\"Times,serif\" font-size=\"14.00\">8</text>\n",
       "</g>\n",
       "<!-- 7&#45;&gt;8 -->\n",
       "<g id=\"edge64\" class=\"edge\"><title>7&#45;&gt;8</title>\n",
       "<path fill=\"none\" stroke=\"black\" d=\"M1077.73,-157.023C1081.27,-189.376 1090.48,-255.31 1108,-269.038 1137.73,-292.341 1163.27,-292.341 1193,-269.038 1208.81,-256.651 1217.85,-201.756 1222.07,-167.382\"/>\n",
       "<polygon fill=\"black\" stroke=\"black\" points=\"1225.59,-167.359 1223.27,-157.023 1218.64,-166.554 1225.59,-167.359\"/>\n",
       "<text text-anchor=\"middle\" x=\"1150.5\" y=\"-289.838\" font-family=\"Times,serif\" font-size=\"14.00\">x7:G1/0.0093</text>\n",
       "</g>\n",
       "<!-- 7&#45;&gt;8 -->\n",
       "<g id=\"edge65\" class=\"edge\"><title>7&#45;&gt;8</title>\n",
       "<path fill=\"none\" stroke=\"black\" d=\"M1076.45,-157.189C1078.07,-178.863 1084.43,-214.283 1108,-231.038 1138.79,-252.928 1162.21,-252.928 1193,-231.038 1213.16,-216.704 1220.73,-188.711 1223.51,-167.35\"/>\n",
       "<polygon fill=\"black\" stroke=\"black\" points=\"1227.02,-167.493 1224.55,-157.189 1220.05,-166.781 1227.02,-167.493\"/>\n",
       "<text text-anchor=\"middle\" x=\"1150.5\" y=\"-250.838\" font-family=\"Times,serif\" font-size=\"14.00\">x7:G2/0.0006</text>\n",
       "</g>\n",
       "<!-- 7&#45;&gt;8 -->\n",
       "<g id=\"edge66\" class=\"edge\"><title>7&#45;&gt;8</title>\n",
       "<path fill=\"none\" stroke=\"black\" d=\"M1080.99,-156.018C1085.71,-168.705 1094.18,-185.162 1108,-193.038 1140.82,-211.741 1160.18,-211.741 1193,-193.038 1203.58,-187.008 1211.03,-175.948 1216.05,-165.401\"/>\n",
       "<polygon fill=\"black\" stroke=\"black\" points=\"1219.35,-166.592 1220.01,-156.018 1212.9,-163.871 1219.35,-166.592\"/>\n",
       "<text text-anchor=\"middle\" x=\"1150.5\" y=\"-210.838\" font-family=\"Times,serif\" font-size=\"14.00\">x7:G3/0.0011</text>\n",
       "</g>\n",
       "<!-- 7&#45;&gt;8 -->\n",
       "<g id=\"edge67\" class=\"edge\"><title>7&#45;&gt;8</title>\n",
       "<path fill=\"none\" stroke=\"black\" d=\"M1090.75,-148.201C1096,-150.967 1102.08,-153.64 1108,-155.038 1144.77,-163.718 1156.23,-163.718 1193,-155.038 1195.68,-154.405 1198.4,-153.509 1201.06,-152.462\"/>\n",
       "<polygon fill=\"black\" stroke=\"black\" points=\"1202.65,-155.582 1210.25,-148.201 1199.7,-149.232 1202.65,-155.582\"/>\n",
       "<text text-anchor=\"middle\" x=\"1150.5\" y=\"-164.838\" font-family=\"Times,serif\" font-size=\"14.00\">x7:UH1/0.0071</text>\n",
       "</g>\n",
       "<!-- 7&#45;&gt;8 -->\n",
       "<g id=\"edge68\" class=\"edge\"><title>7&#45;&gt;8</title>\n",
       "<path fill=\"none\" stroke=\"black\" d=\"M1092.92,-137.154C1097.78,-136.694 1103.1,-136.268 1108,-136.038 1145.74,-134.273 1155.26,-134.273 1193,-136.038 1194.53,-136.11 1196.11,-136.201 1197.69,-136.306\"/>\n",
       "<polygon fill=\"black\" stroke=\"black\" points=\"1197.83,-139.829 1208.08,-137.154 1198.4,-132.852 1197.83,-139.829\"/>\n",
       "<text text-anchor=\"middle\" x=\"1150.5\" y=\"-139.838\" font-family=\"Times,serif\" font-size=\"14.00\">x7:UH2/0.0107</text>\n",
       "</g>\n",
       "<!-- 7&#45;&gt;8 -->\n",
       "<g id=\"edge69\" class=\"edge\"><title>7&#45;&gt;8</title>\n",
       "<path fill=\"none\" stroke=\"black\" d=\"M1088.28,-126.881C1093.83,-122.225 1100.75,-117.454 1108,-115.038 1143.84,-103.092 1157.16,-103.092 1193,-115.038 1196.96,-116.359 1200.83,-118.385 1204.43,-120.711\"/>\n",
       "<polygon fill=\"black\" stroke=\"black\" points=\"1202.61,-123.718 1212.72,-126.881 1206.79,-118.102 1202.61,-123.718\"/>\n",
       "<text text-anchor=\"middle\" x=\"1150.5\" y=\"-118.838\" font-family=\"Times,serif\" font-size=\"14.00\">x7:UH3/0.0121</text>\n",
       "</g>\n",
       "<!-- 7&#45;&gt;8 -->\n",
       "<g id=\"edge70\" class=\"edge\"><title>7&#45;&gt;8</title>\n",
       "<path fill=\"none\" stroke=\"black\" d=\"M1081.36,-122.164C1086.22,-110.007 1094.67,-94.4843 1108,-87.0383 1140.98,-68.6102 1160.02,-68.6102 1193,-87.0383 1203.1,-92.681 1210.4,-102.962 1215.46,-112.901\"/>\n",
       "<polygon fill=\"black\" stroke=\"black\" points=\"1212.33,-114.487 1219.64,-122.164 1218.71,-111.609 1212.33,-114.487\"/>\n",
       "<text text-anchor=\"middle\" x=\"1150.5\" y=\"-90.8383\" font-family=\"Times,serif\" font-size=\"14.00\">x7:D1/0.0033</text>\n",
       "</g>\n",
       "<!-- 7&#45;&gt;8 -->\n",
       "<g id=\"edge71\" class=\"edge\"><title>7&#45;&gt;8</title>\n",
       "<path fill=\"none\" stroke=\"black\" d=\"M1077.06,-120.795C1079.33,-100.63 1086.35,-69.0233 1108,-54.0383 1139.06,-32.5403 1161.94,-32.5403 1193,-54.0383 1211.35,-66.7404 1219.19,-91.3853 1222.54,-110.881\"/>\n",
       "<polygon fill=\"black\" stroke=\"black\" points=\"1219.07,-111.383 1223.94,-120.795 1226,-110.403 1219.07,-111.383\"/>\n",
       "<text text-anchor=\"middle\" x=\"1150.5\" y=\"-57.8383\" font-family=\"Times,serif\" font-size=\"14.00\">x7:D2/0.0051</text>\n",
       "</g>\n",
       "<!-- 7&#45;&gt;8 -->\n",
       "<g id=\"edge72\" class=\"edge\"><title>7&#45;&gt;8</title>\n",
       "<path fill=\"none\" stroke=\"black\" d=\"M1078.08,-121.086C1082.04,-90.5475 1091.73,-30.5652 1108,-18.0383 1137.93,5.00809 1163.07,5.00809 1193,-18.0383 1207.62,-29.2929 1216.92,-78.8531 1221.53,-110.951\"/>\n",
       "<polygon fill=\"black\" stroke=\"black\" points=\"1218.09,-111.652 1222.92,-121.086 1225.03,-110.705 1218.09,-111.652\"/>\n",
       "<text text-anchor=\"middle\" x=\"1150.5\" y=\"-21.8383\" font-family=\"Times,serif\" font-size=\"14.00\">x7:D3/0.013</text>\n",
       "</g>\n",
       "<!-- 9 -->\n",
       "<g id=\"node10\" class=\"node\"><title>9</title>\n",
       "<ellipse fill=\"none\" stroke=\"black\" cx=\"1377\" cy=\"-139.038\" rx=\"18\" ry=\"18\"/>\n",
       "<text text-anchor=\"middle\" x=\"1377\" y=\"-135.338\" font-family=\"Times,serif\" font-size=\"14.00\">9</text>\n",
       "</g>\n",
       "<!-- 8&#45;&gt;9 -->\n",
       "<g id=\"edge73\" class=\"edge\"><title>8&#45;&gt;9</title>\n",
       "<path fill=\"none\" stroke=\"black\" d=\"M1228.73,-157.023C1232.27,-189.376 1241.48,-255.31 1259,-269.038 1288.73,-292.341 1314.27,-292.341 1344,-269.038 1359.81,-256.651 1368.85,-201.756 1373.07,-167.382\"/>\n",
       "<polygon fill=\"black\" stroke=\"black\" points=\"1376.59,-167.359 1374.27,-157.023 1369.64,-166.554 1376.59,-167.359\"/>\n",
       "<text text-anchor=\"middle\" x=\"1301.5\" y=\"-289.838\" font-family=\"Times,serif\" font-size=\"14.00\">x8:G1/0.0099</text>\n",
       "</g>\n",
       "<!-- 8&#45;&gt;9 -->\n",
       "<g id=\"edge74\" class=\"edge\"><title>8&#45;&gt;9</title>\n",
       "<path fill=\"none\" stroke=\"black\" d=\"M1227.45,-157.189C1229.07,-178.863 1235.43,-214.283 1259,-231.038 1289.79,-252.928 1313.21,-252.928 1344,-231.038 1364.16,-216.704 1371.73,-188.711 1374.51,-167.35\"/>\n",
       "<polygon fill=\"black\" stroke=\"black\" points=\"1378.02,-167.493 1375.55,-157.189 1371.05,-166.781 1378.02,-167.493\"/>\n",
       "<text text-anchor=\"middle\" x=\"1301.5\" y=\"-250.838\" font-family=\"Times,serif\" font-size=\"14.00\">x8:G2/0.0041</text>\n",
       "</g>\n",
       "<!-- 8&#45;&gt;9 -->\n",
       "<g id=\"edge75\" class=\"edge\"><title>8&#45;&gt;9</title>\n",
       "<path fill=\"none\" stroke=\"black\" d=\"M1231.99,-156.018C1236.71,-168.705 1245.18,-185.162 1259,-193.038 1291.82,-211.741 1311.18,-211.741 1344,-193.038 1354.58,-187.008 1362.03,-175.948 1367.05,-165.401\"/>\n",
       "<polygon fill=\"black\" stroke=\"black\" points=\"1370.35,-166.592 1371.01,-156.018 1363.9,-163.871 1370.35,-166.592\"/>\n",
       "<text text-anchor=\"middle\" x=\"1301.5\" y=\"-210.838\" font-family=\"Times,serif\" font-size=\"14.00\">x8:G3/0.0031</text>\n",
       "</g>\n",
       "<!-- 8&#45;&gt;9 -->\n",
       "<g id=\"edge76\" class=\"edge\"><title>8&#45;&gt;9</title>\n",
       "<path fill=\"none\" stroke=\"black\" d=\"M1241.75,-148.201C1247,-150.967 1253.08,-153.64 1259,-155.038 1295.77,-163.718 1307.23,-163.718 1344,-155.038 1346.68,-154.405 1349.4,-153.509 1352.06,-152.462\"/>\n",
       "<polygon fill=\"black\" stroke=\"black\" points=\"1353.65,-155.582 1361.25,-148.201 1350.7,-149.232 1353.65,-155.582\"/>\n",
       "<text text-anchor=\"middle\" x=\"1301.5\" y=\"-164.838\" font-family=\"Times,serif\" font-size=\"14.00\">x8:UH1/0.0069</text>\n",
       "</g>\n",
       "<!-- 8&#45;&gt;9 -->\n",
       "<g id=\"edge77\" class=\"edge\"><title>8&#45;&gt;9</title>\n",
       "<path fill=\"none\" stroke=\"black\" d=\"M1243.92,-137.154C1248.78,-136.694 1254.1,-136.268 1259,-136.038 1296.74,-134.273 1306.26,-134.273 1344,-136.038 1345.53,-136.11 1347.11,-136.201 1348.69,-136.306\"/>\n",
       "<polygon fill=\"black\" stroke=\"black\" points=\"1348.83,-139.829 1359.08,-137.154 1349.4,-132.852 1348.83,-139.829\"/>\n",
       "<text text-anchor=\"middle\" x=\"1301.5\" y=\"-139.838\" font-family=\"Times,serif\" font-size=\"14.00\">x8:UH2/0.0014</text>\n",
       "</g>\n",
       "<!-- 8&#45;&gt;9 -->\n",
       "<g id=\"edge78\" class=\"edge\"><title>8&#45;&gt;9</title>\n",
       "<path fill=\"none\" stroke=\"black\" d=\"M1239.28,-126.881C1244.83,-122.225 1251.75,-117.454 1259,-115.038 1294.84,-103.092 1308.16,-103.092 1344,-115.038 1347.96,-116.359 1351.83,-118.385 1355.43,-120.711\"/>\n",
       "<polygon fill=\"black\" stroke=\"black\" points=\"1353.61,-123.718 1363.72,-126.881 1357.79,-118.102 1353.61,-123.718\"/>\n",
       "<text text-anchor=\"middle\" x=\"1301.5\" y=\"-118.838\" font-family=\"Times,serif\" font-size=\"14.00\">x8:UH3/0.0077</text>\n",
       "</g>\n",
       "<!-- 8&#45;&gt;9 -->\n",
       "<g id=\"edge79\" class=\"edge\"><title>8&#45;&gt;9</title>\n",
       "<path fill=\"none\" stroke=\"black\" d=\"M1232.36,-122.164C1237.22,-110.007 1245.67,-94.4843 1259,-87.0383 1291.98,-68.6102 1311.02,-68.6102 1344,-87.0383 1354.1,-92.681 1361.4,-102.962 1366.46,-112.901\"/>\n",
       "<polygon fill=\"black\" stroke=\"black\" points=\"1363.33,-114.487 1370.64,-122.164 1369.71,-111.609 1363.33,-114.487\"/>\n",
       "<text text-anchor=\"middle\" x=\"1301.5\" y=\"-90.8383\" font-family=\"Times,serif\" font-size=\"14.00\">x8:D1/0.0132</text>\n",
       "</g>\n",
       "<!-- 8&#45;&gt;9 -->\n",
       "<g id=\"edge80\" class=\"edge\"><title>8&#45;&gt;9</title>\n",
       "<path fill=\"none\" stroke=\"black\" d=\"M1228.06,-120.795C1230.33,-100.63 1237.35,-69.0233 1259,-54.0383 1290.06,-32.5403 1312.94,-32.5403 1344,-54.0383 1362.35,-66.7404 1370.19,-91.3853 1373.54,-110.881\"/>\n",
       "<polygon fill=\"black\" stroke=\"black\" points=\"1370.07,-111.383 1374.94,-120.795 1377,-110.403 1370.07,-111.383\"/>\n",
       "<text text-anchor=\"middle\" x=\"1301.5\" y=\"-57.8383\" font-family=\"Times,serif\" font-size=\"14.00\">x8:D2/0.0013</text>\n",
       "</g>\n",
       "<!-- 8&#45;&gt;9 -->\n",
       "<g id=\"edge81\" class=\"edge\"><title>8&#45;&gt;9</title>\n",
       "<path fill=\"none\" stroke=\"black\" d=\"M1229.08,-121.086C1233.04,-90.5475 1242.73,-30.5652 1259,-18.0383 1288.93,5.00809 1314.07,5.00809 1344,-18.0383 1358.62,-29.2929 1367.92,-78.8531 1372.53,-110.951\"/>\n",
       "<polygon fill=\"black\" stroke=\"black\" points=\"1369.09,-111.652 1373.92,-121.086 1376.03,-110.705 1369.09,-111.652\"/>\n",
       "<text text-anchor=\"middle\" x=\"1301.5\" y=\"-21.8383\" font-family=\"Times,serif\" font-size=\"14.00\">x8:D3/0.0005</text>\n",
       "</g>\n",
       "<!-- 10 -->\n",
       "<g id=\"node11\" class=\"node\"><title>10</title>\n",
       "<ellipse fill=\"none\" stroke=\"black\" cx=\"1529.5\" cy=\"-139.038\" rx=\"19.4965\" ry=\"19.4965\"/>\n",
       "<text text-anchor=\"middle\" x=\"1529.5\" y=\"-135.338\" font-family=\"Times,serif\" font-size=\"14.00\">10</text>\n",
       "</g>\n",
       "<!-- 9&#45;&gt;10 -->\n",
       "<g id=\"edge82\" class=\"edge\"><title>9&#45;&gt;10</title>\n",
       "<path fill=\"none\" stroke=\"black\" d=\"M1379.73,-157.023C1383.27,-189.376 1392.48,-255.31 1410,-269.038 1439.73,-292.341 1465.14,-292.18 1495,-269.038 1510.78,-256.812 1520.44,-202.751 1525.1,-168.31\"/>\n",
       "<polygon fill=\"black\" stroke=\"black\" points=\"1528.58,-168.684 1526.39,-158.319 1521.64,-167.789 1528.58,-168.684\"/>\n",
       "<text text-anchor=\"middle\" x=\"1452.5\" y=\"-289.838\" font-family=\"Times,serif\" font-size=\"14.00\">x9:G1/0.0007</text>\n",
       "</g>\n",
       "<!-- 9&#45;&gt;10 -->\n",
       "<g id=\"edge83\" class=\"edge\"><title>9&#45;&gt;10</title>\n",
       "<path fill=\"none\" stroke=\"black\" d=\"M1378.45,-157.189C1380.07,-178.863 1386.43,-214.283 1410,-231.038 1440.79,-252.928 1464.05,-252.705 1495,-231.038 1514.89,-217.111 1523.02,-190.076 1526.31,-168.902\"/>\n",
       "<polygon fill=\"black\" stroke=\"black\" points=\"1529.81,-169.124 1527.6,-158.762 1522.87,-168.241 1529.81,-169.124\"/>\n",
       "<text text-anchor=\"middle\" x=\"1452.5\" y=\"-250.838\" font-family=\"Times,serif\" font-size=\"14.00\">x9:G2/0.0063</text>\n",
       "</g>\n",
       "<!-- 9&#45;&gt;10 -->\n",
       "<g id=\"edge84\" class=\"edge\"><title>9&#45;&gt;10</title>\n",
       "<path fill=\"none\" stroke=\"black\" d=\"M1382.99,-156.018C1387.71,-168.705 1396.18,-185.162 1410,-193.038 1442.82,-211.741 1461.99,-211.407 1495,-193.038 1505.41,-187.247 1512.99,-176.738 1518.29,-166.519\"/>\n",
       "<polygon fill=\"black\" stroke=\"black\" points=\"1521.5,-167.906 1522.52,-157.36 1515.15,-164.969 1521.5,-167.906\"/>\n",
       "<text text-anchor=\"middle\" x=\"1452.5\" y=\"-209.838\" font-family=\"Times,serif\" font-size=\"14.00\">x9:G3/0.0002</text>\n",
       "</g>\n",
       "<!-- 9&#45;&gt;10 -->\n",
       "<g id=\"edge85\" class=\"edge\"><title>9&#45;&gt;10</title>\n",
       "<path fill=\"none\" stroke=\"black\" d=\"M1392.75,-148.201C1398,-150.967 1404.08,-153.64 1410,-155.038 1446.77,-163.718 1458.16,-163.386 1495,-155.038 1497.68,-154.432 1500.39,-153.584 1503.05,-152.592\"/>\n",
       "<polygon fill=\"black\" stroke=\"black\" points=\"1504.57,-155.751 1512.33,-148.543 1501.77,-149.336 1504.57,-155.751\"/>\n",
       "<text text-anchor=\"middle\" x=\"1452.5\" y=\"-164.838\" font-family=\"Times,serif\" font-size=\"14.00\">x9:UH1/0.0061</text>\n",
       "</g>\n",
       "<!-- 9&#45;&gt;10 -->\n",
       "<g id=\"edge86\" class=\"edge\"><title>9&#45;&gt;10</title>\n",
       "<path fill=\"none\" stroke=\"black\" d=\"M1394.92,-137.154C1399.78,-136.694 1405.1,-136.268 1410,-136.038 1447.74,-134.273 1457.26,-134.352 1495,-136.038 1496.53,-136.107 1498.1,-136.193 1499.68,-136.292\"/>\n",
       "<polygon fill=\"black\" stroke=\"black\" points=\"1499.85,-139.815 1510.09,-137.092 1500.39,-132.835 1499.85,-139.815\"/>\n",
       "<text text-anchor=\"middle\" x=\"1452.5\" y=\"-139.838\" font-family=\"Times,serif\" font-size=\"14.00\">x9:UH2/0.0063</text>\n",
       "</g>\n",
       "<!-- 9&#45;&gt;10 -->\n",
       "<g id=\"edge87\" class=\"edge\"><title>9&#45;&gt;10</title>\n",
       "<path fill=\"none\" stroke=\"black\" d=\"M1390.28,-126.881C1395.83,-122.225 1402.75,-117.454 1410,-115.038 1445.84,-103.092 1459.03,-103.484 1495,-115.038 1498.87,-116.283 1502.68,-118.159 1506.26,-120.325\"/>\n",
       "<polygon fill=\"black\" stroke=\"black\" points=\"1504.38,-123.279 1514.59,-126.11 1508.37,-117.53 1504.38,-123.279\"/>\n",
       "<text text-anchor=\"middle\" x=\"1452.5\" y=\"-118.838\" font-family=\"Times,serif\" font-size=\"14.00\">x9:UH3/0.0136</text>\n",
       "</g>\n",
       "<!-- 9&#45;&gt;10 -->\n",
       "<g id=\"edge88\" class=\"edge\"><title>9&#45;&gt;10</title>\n",
       "<path fill=\"none\" stroke=\"black\" d=\"M1383.36,-122.164C1388.22,-110.007 1396.67,-94.4843 1410,-87.0383 1442.98,-68.6102 1461.83,-68.9514 1495,-87.0383 1504.93,-92.4541 1512.36,-102.217 1517.67,-111.833\"/>\n",
       "<polygon fill=\"black\" stroke=\"black\" points=\"1514.56,-113.437 1522.11,-120.86 1520.83,-110.343 1514.56,-113.437\"/>\n",
       "<text text-anchor=\"middle\" x=\"1452.5\" y=\"-90.8383\" font-family=\"Times,serif\" font-size=\"14.00\">x9:D1/0.0134</text>\n",
       "</g>\n",
       "<!-- 9&#45;&gt;10 -->\n",
       "<g id=\"edge89\" class=\"edge\"><title>9&#45;&gt;10</title>\n",
       "<path fill=\"none\" stroke=\"black\" d=\"M1379.06,-120.795C1381.33,-100.63 1388.35,-69.0233 1410,-54.0383 1441.06,-32.5403 1463.77,-32.7793 1495,-54.0383 1513.23,-66.4467 1521.54,-90.4438 1525.32,-109.785\"/>\n",
       "<polygon fill=\"black\" stroke=\"black\" points=\"1521.87,-110.373 1526.96,-119.667 1528.78,-109.23 1521.87,-110.373\"/>\n",
       "<text text-anchor=\"middle\" x=\"1452.5\" y=\"-57.8383\" font-family=\"Times,serif\" font-size=\"14.00\">x9:D2/0.0044</text>\n",
       "</g>\n",
       "<!-- 9&#45;&gt;10 -->\n",
       "<g id=\"edge90\" class=\"edge\"><title>9&#45;&gt;10</title>\n",
       "<path fill=\"none\" stroke=\"black\" d=\"M1380.08,-121.086C1384.04,-90.5475 1393.73,-30.5652 1410,-18.0383 1439.93,5.00809 1464.93,4.83503 1495,-18.0383 1509.49,-29.0655 1519.34,-77.2555 1524.43,-109.392\"/>\n",
       "<polygon fill=\"black\" stroke=\"black\" points=\"1521.02,-110.234 1525.97,-119.598 1527.94,-109.187 1521.02,-110.234\"/>\n",
       "<text text-anchor=\"middle\" x=\"1452.5\" y=\"-21.8383\" font-family=\"Times,serif\" font-size=\"14.00\">x9:D3/0.0124</text>\n",
       "</g>\n",
       "<!-- 11 -->\n",
       "<g id=\"node12\" class=\"node\"><title>11</title>\n",
       "<ellipse fill=\"none\" stroke=\"black\" cx=\"1704.24\" cy=\"-139.038\" rx=\"29.4667\" ry=\"29.4667\"/>\n",
       "<ellipse fill=\"none\" stroke=\"black\" cx=\"1704.24\" cy=\"-139.038\" rx=\"33.4967\" ry=\"33.4967\"/>\n",
       "<text text-anchor=\"middle\" x=\"1704.24\" y=\"-135.338\" font-family=\"Times,serif\" font-size=\"14.00\">11/&#45;1</text>\n",
       "</g>\n",
       "<!-- 10&#45;&gt;11 -->\n",
       "<g id=\"edge91\" class=\"edge\"><title>10&#45;&gt;11</title>\n",
       "<path fill=\"none\" stroke=\"black\" d=\"M1532.6,-158.319C1536.63,-191.119 1546.59,-255.547 1564,-269.038 1596.32,-294.085 1622.51,-292.499 1656,-269.038 1683.71,-249.626 1695.23,-212.206 1699.98,-182.479\"/>\n",
       "<polygon fill=\"black\" stroke=\"black\" points=\"1703.48,-182.715 1701.4,-172.327 1696.55,-181.748 1703.48,-182.715\"/>\n",
       "<text text-anchor=\"middle\" x=\"1610\" y=\"-290.838\" font-family=\"Times,serif\" font-size=\"14.00\">x10:G1/0.0079</text>\n",
       "</g>\n",
       "<!-- 10&#45;&gt;11 -->\n",
       "<g id=\"edge92\" class=\"edge\"><title>10&#45;&gt;11</title>\n",
       "<path fill=\"none\" stroke=\"black\" d=\"M1531.4,-158.762C1533.57,-180.567 1540.74,-214.758 1564,-231.038 1597.49,-254.489 1621.1,-252.347 1656,-231.038 1674.01,-220.042 1685.44,-199.755 1692.53,-181.024\"/>\n",
       "<polygon fill=\"black\" stroke=\"black\" points=\"1695.89,-182.023 1695.86,-171.428 1689.28,-179.729 1695.89,-182.023\"/>\n",
       "<text text-anchor=\"middle\" x=\"1610\" y=\"-250.838\" font-family=\"Times,serif\" font-size=\"14.00\">x10:G2/0.0049</text>\n",
       "</g>\n",
       "<!-- 10&#45;&gt;11 -->\n",
       "<g id=\"edge93\" class=\"edge\"><title>10&#45;&gt;11</title>\n",
       "<path fill=\"none\" stroke=\"black\" d=\"M1536.48,-157.36C1541.62,-169.861 1550.4,-185.475 1564,-193.038 1599.73,-212.92 1618.76,-209.935 1656,-193.038 1664.91,-188.993 1672.8,-182.344 1679.46,-175.07\"/>\n",
       "<polygon fill=\"black\" stroke=\"black\" points=\"1682.46,-176.941 1686.19,-167.026 1677.09,-172.449 1682.46,-176.941\"/>\n",
       "<text text-anchor=\"middle\" x=\"1610\" y=\"-209.838\" font-family=\"Times,serif\" font-size=\"14.00\">x10:G3/0.0011</text>\n",
       "</g>\n",
       "<!-- 10&#45;&gt;11 -->\n",
       "<g id=\"edge94\" class=\"edge\"><title>10&#45;&gt;11</title>\n",
       "<path fill=\"none\" stroke=\"black\" d=\"M1546.67,-148.543C1552,-151.187 1558.09,-153.7 1564,-155.038 1603.87,-164.073 1615.65,-161.684 1656,-155.038 1658.38,-154.646 1660.8,-154.15 1663.22,-153.578\"/>\n",
       "<polygon fill=\"black\" stroke=\"black\" points=\"1664.4,-156.883 1673.12,-150.861 1662.55,-150.133 1664.4,-156.883\"/>\n",
       "<text text-anchor=\"middle\" x=\"1610\" y=\"-163.838\" font-family=\"Times,serif\" font-size=\"14.00\">x10:UH1/0.0071</text>\n",
       "</g>\n",
       "<!-- 10&#45;&gt;11 -->\n",
       "<g id=\"edge95\" class=\"edge\"><title>10&#45;&gt;11</title>\n",
       "<path fill=\"none\" stroke=\"black\" d=\"M1548.91,-137.092C1553.81,-136.656 1559.1,-136.257 1564,-136.038 1604.84,-134.213 1615.13,-134.742 1656,-136.038 1657.51,-136.086 1659.05,-136.143 1660.61,-136.207\"/>\n",
       "<polygon fill=\"black\" stroke=\"black\" points=\"1660.82,-139.721 1670.98,-136.716 1661.16,-132.73 1660.82,-139.721\"/>\n",
       "<text text-anchor=\"middle\" x=\"1610\" y=\"-139.838\" font-family=\"Times,serif\" font-size=\"14.00\">x10:UH2/0.0076</text>\n",
       "</g>\n",
       "<!-- 10&#45;&gt;11 -->\n",
       "<g id=\"edge96\" class=\"edge\"><title>10&#45;&gt;11</title>\n",
       "<path fill=\"none\" stroke=\"black\" d=\"M1544.41,-126.11C1550.06,-121.702 1556.91,-117.314 1564,-115.038 1602.93,-102.532 1616.23,-105.518 1656,-115.038 1659.36,-115.845 1662.76,-116.933 1666.11,-118.202\"/>\n",
       "<polygon fill=\"black\" stroke=\"black\" points=\"1664.78,-121.438 1675.34,-122.177 1667.54,-115.008 1664.78,-121.438\"/>\n",
       "<text text-anchor=\"middle\" x=\"1610\" y=\"-118.838\" font-family=\"Times,serif\" font-size=\"14.00\">x10:UH3/0.0105</text>\n",
       "</g>\n",
       "<!-- 10&#45;&gt;11 -->\n",
       "<g id=\"edge97\" class=\"edge\"><title>10&#45;&gt;11</title>\n",
       "<path fill=\"none\" stroke=\"black\" d=\"M1536.88,-120.86C1542.14,-108.901 1550.89,-94.1849 1564,-87.0383 1599.89,-67.4619 1618.61,-70.4916 1656,-87.0383 1664.6,-90.8445 1672.3,-97.0756 1678.87,-103.925\"/>\n",
       "<polygon fill=\"black\" stroke=\"black\" points=\"1676.31,-106.316 1685.55,-111.516 1681.57,-101.694 1676.31,-106.316\"/>\n",
       "<text text-anchor=\"middle\" x=\"1610\" y=\"-90.8383\" font-family=\"Times,serif\" font-size=\"14.00\">x10:D1/0.0061</text>\n",
       "</g>\n",
       "<!-- 10&#45;&gt;11 -->\n",
       "<g id=\"edge98\" class=\"edge\"><title>10&#45;&gt;11</title>\n",
       "<path fill=\"none\" stroke=\"black\" d=\"M1532.04,-119.667C1534.79,-99.4438 1542.49,-68.6768 1564,-54.0383 1597.8,-31.0286 1620.75,-33.3064 1656,-54.0383 1672.18,-63.5558 1683.21,-80.8385 1690.52,-97.3466\"/>\n",
       "<polygon fill=\"black\" stroke=\"black\" points=\"1687.4,-98.9637 1694.41,-106.912 1693.89,-96.3301 1687.4,-98.9637\"/>\n",
       "<text text-anchor=\"middle\" x=\"1610\" y=\"-57.8383\" font-family=\"Times,serif\" font-size=\"14.00\">x10:D2/0.0047</text>\n",
       "</g>\n",
       "<!-- 10&#45;&gt;11 -->\n",
       "<g id=\"edge99\" class=\"edge\"><title>10&#45;&gt;11</title>\n",
       "<path fill=\"none\" stroke=\"black\" d=\"M1533.02,-119.598C1537.49,-88.6256 1547.86,-30.312 1564,-18.0383 1596.54,6.71872 1622.23,5.02445 1656,-18.0383 1681.34,-35.3516 1693.09,-68.4598 1698.54,-95.6728\"/>\n",
       "<polygon fill=\"black\" stroke=\"black\" points=\"1695.14,-96.5352 1700.33,-105.769 1702.03,-95.3105 1695.14,-96.5352\"/>\n",
       "<text text-anchor=\"middle\" x=\"1610\" y=\"-21.8383\" font-family=\"Times,serif\" font-size=\"14.00\">x10:D3/0.0065</text>\n",
       "</g>\n",
       "</g>\n",
       "</svg>\n"
      ],
      "text/plain": [
       "<StdVectorFst with 12 states>"
      ]
     },
     "execution_count": 3,
     "metadata": {},
     "output_type": "execute_result"
    }
   ],
   "source": [
    "import fst\n",
    "import random\n",
    "t = fst.Transducer()\n",
    "sym=fst.SymbolTable()\n",
    "#10 timesteps\n",
    "#138 labels \n",
    "#for i in range(138):\n",
    "x=0\n",
    "for j in range(11):\n",
    "    label_prob = ran_lab_prob()\n",
    "    labels = ['x','x','x','x','x','x','x','x','x']\n",
    "    symbols = ['G1','G2','G3','UH1','UH2','UH3','D1','D2','D3']\n",
    "    #labels=[i for i in range(138)]\n",
    "    for i in range(9):\n",
    "        prob = \"%.4f\" % label_prob[i]\n",
    "        t.add_arc(0+x, 1+x,str(labels[i]+str(j)),symbols[i],prob)\n",
    "    x+=1\n",
    "t[11].final = -1\n",
    "t"
   ]
  },
  {
   "cell_type": "markdown",
   "metadata": {},
   "source": [
    "GOOD: /G/x3 /UH/x3 /D/x3  for ci"
   ]
  },
  {
   "cell_type": "code",
   "execution_count": 4,
   "metadata": {
    "scrolled": true
   },
   "outputs": [
    {
     "data": {
      "image/svg+xml": [
       "<?xml version=\"1.0\" encoding=\"UTF-8\" standalone=\"no\"?>\n",
       "<!DOCTYPE svg PUBLIC \"-//W3C//DTD SVG 1.1//EN\"\n",
       " \"http://www.w3.org/Graphics/SVG/1.1/DTD/svg11.dtd\">\n",
       "<!-- Generated by graphviz version 2.38.0 (20140413.2041)\n",
       " -->\n",
       "<!-- Title: FST Pages: 1 -->\n",
       "<svg width=\"612pt\" height=\"43pt\"\n",
       " viewBox=\"0.00 0.00 612.00 42.96\" xmlns=\"http://www.w3.org/2000/svg\" xmlns:xlink=\"http://www.w3.org/1999/xlink\">\n",
       "<g id=\"graph0\" class=\"graph\" transform=\"scale(0.505367 0.505367) rotate(0) translate(4 81)\">\n",
       "<title>FST</title>\n",
       "<polygon fill=\"white\" stroke=\"none\" points=\"-4,4 -4,-81 1207,-81 1207,4 -4,4\"/>\n",
       "<!-- 0 -->\n",
       "<g id=\"node1\" class=\"node\"><title>0</title>\n",
       "<ellipse fill=\"none\" stroke=\"black\" stroke-width=\"2\" cx=\"18\" cy=\"-22\" rx=\"18\" ry=\"18\"/>\n",
       "<text text-anchor=\"middle\" x=\"18\" y=\"-18.3\" font-family=\"Times,serif\" font-size=\"14.00\">0</text>\n",
       "</g>\n",
       "<!-- 1 -->\n",
       "<g id=\"node2\" class=\"node\"><title>1</title>\n",
       "<ellipse fill=\"none\" stroke=\"black\" cx=\"144\" cy=\"-22\" rx=\"18\" ry=\"18\"/>\n",
       "<text text-anchor=\"middle\" x=\"144\" y=\"-18.3\" font-family=\"Times,serif\" font-size=\"14.00\">1</text>\n",
       "</g>\n",
       "<!-- 0&#45;&gt;1 -->\n",
       "<g id=\"edge1\" class=\"edge\"><title>0&#45;&gt;1</title>\n",
       "<path fill=\"none\" stroke=\"black\" d=\"M36.2417,-22C56.7858,-22 91.3691,-22 115.592,-22\"/>\n",
       "<polygon fill=\"black\" stroke=\"black\" points=\"115.905,-25.5001 125.905,-22 115.905,-18.5001 115.905,-25.5001\"/>\n",
       "<text text-anchor=\"middle\" x=\"81\" y=\"-25.8\" font-family=\"Times,serif\" font-size=\"14.00\">G1:G/(G1)</text>\n",
       "</g>\n",
       "<!-- 1&#45;&gt;1 -->\n",
       "<g id=\"edge2\" class=\"edge\"><title>1&#45;&gt;1</title>\n",
       "<path fill=\"none\" stroke=\"black\" d=\"M134.187,-37.1666C131.213,-47.6641 134.484,-58 144,-58 150.245,-58 153.8,-53.5487 154.666,-47.5216\"/>\n",
       "<polygon fill=\"black\" stroke=\"black\" points=\"158.122,-46.8455 153.813,-37.1666 151.146,-47.4202 158.122,-46.8455\"/>\n",
       "<text text-anchor=\"middle\" x=\"144\" y=\"-61.8\" font-family=\"Times,serif\" font-size=\"14.00\">G1:ε(G1)</text>\n",
       "</g>\n",
       "<!-- 2 -->\n",
       "<g id=\"node3\" class=\"node\"><title>2</title>\n",
       "<ellipse fill=\"none\" stroke=\"black\" cx=\"262\" cy=\"-22\" rx=\"18\" ry=\"18\"/>\n",
       "<text text-anchor=\"middle\" x=\"262\" y=\"-18.3\" font-family=\"Times,serif\" font-size=\"14.00\">2</text>\n",
       "</g>\n",
       "<!-- 1&#45;&gt;2 -->\n",
       "<g id=\"edge3\" class=\"edge\"><title>1&#45;&gt;2</title>\n",
       "<path fill=\"none\" stroke=\"black\" d=\"M162.116,-22C180.964,-22 211.531,-22 233.696,-22\"/>\n",
       "<polygon fill=\"black\" stroke=\"black\" points=\"233.814,-25.5001 243.814,-22 233.814,-18.5001 233.814,-25.5001\"/>\n",
       "<text text-anchor=\"middle\" x=\"203\" y=\"-25.8\" font-family=\"Times,serif\" font-size=\"14.00\">G2:ε(G2)</text>\n",
       "</g>\n",
       "<!-- 2&#45;&gt;2 -->\n",
       "<g id=\"edge4\" class=\"edge\"><title>2&#45;&gt;2</title>\n",
       "<path fill=\"none\" stroke=\"black\" d=\"M252.187,-37.1666C249.213,-47.6641 252.484,-58 262,-58 268.245,-58 271.8,-53.5487 272.666,-47.5216\"/>\n",
       "<polygon fill=\"black\" stroke=\"black\" points=\"276.122,-46.8455 271.813,-37.1666 269.146,-47.4202 276.122,-46.8455\"/>\n",
       "<text text-anchor=\"middle\" x=\"262\" y=\"-61.8\" font-family=\"Times,serif\" font-size=\"14.00\">G2:ε(G2)</text>\n",
       "</g>\n",
       "<!-- 3 -->\n",
       "<g id=\"node4\" class=\"node\"><title>3</title>\n",
       "<ellipse fill=\"none\" stroke=\"black\" cx=\"380\" cy=\"-22\" rx=\"18\" ry=\"18\"/>\n",
       "<text text-anchor=\"middle\" x=\"380\" y=\"-18.3\" font-family=\"Times,serif\" font-size=\"14.00\">3</text>\n",
       "</g>\n",
       "<!-- 2&#45;&gt;3 -->\n",
       "<g id=\"edge5\" class=\"edge\"><title>2&#45;&gt;3</title>\n",
       "<path fill=\"none\" stroke=\"black\" d=\"M280.116,-22C298.964,-22 329.531,-22 351.696,-22\"/>\n",
       "<polygon fill=\"black\" stroke=\"black\" points=\"351.814,-25.5001 361.814,-22 351.814,-18.5001 351.814,-25.5001\"/>\n",
       "<text text-anchor=\"middle\" x=\"321\" y=\"-25.8\" font-family=\"Times,serif\" font-size=\"14.00\">G3:ε(G3)</text>\n",
       "</g>\n",
       "<!-- 3&#45;&gt;3 -->\n",
       "<g id=\"edge6\" class=\"edge\"><title>3&#45;&gt;3</title>\n",
       "<path fill=\"none\" stroke=\"black\" d=\"M370.187,-37.1666C367.213,-47.6641 370.484,-58 380,-58 386.245,-58 389.8,-53.5487 390.666,-47.5216\"/>\n",
       "<polygon fill=\"black\" stroke=\"black\" points=\"394.122,-46.8455 389.813,-37.1666 387.146,-47.4202 394.122,-46.8455\"/>\n",
       "<text text-anchor=\"middle\" x=\"380\" y=\"-61.8\" font-family=\"Times,serif\" font-size=\"14.00\">G3:ε(G3)</text>\n",
       "</g>\n",
       "<!-- 4 -->\n",
       "<g id=\"node5\" class=\"node\"><title>4</title>\n",
       "<ellipse fill=\"none\" stroke=\"black\" cx=\"535\" cy=\"-22\" rx=\"18\" ry=\"18\"/>\n",
       "<text text-anchor=\"middle\" x=\"535\" y=\"-18.3\" font-family=\"Times,serif\" font-size=\"14.00\">4</text>\n",
       "</g>\n",
       "<!-- 3&#45;&gt;4 -->\n",
       "<g id=\"edge7\" class=\"edge\"><title>3&#45;&gt;4</title>\n",
       "<path fill=\"none\" stroke=\"black\" d=\"M398.254,-22C424.539,-22 474.87,-22 506.312,-22\"/>\n",
       "<polygon fill=\"black\" stroke=\"black\" points=\"506.575,-25.5001 516.575,-22 506.575,-18.5001 506.575,-25.5001\"/>\n",
       "<text text-anchor=\"middle\" x=\"457.5\" y=\"-25.8\" font-family=\"Times,serif\" font-size=\"14.00\">UH1:UH/(UH1)</text>\n",
       "</g>\n",
       "<!-- 4&#45;&gt;4 -->\n",
       "<g id=\"edge8\" class=\"edge\"><title>4&#45;&gt;4</title>\n",
       "<path fill=\"none\" stroke=\"black\" d=\"M523.757,-36.4167C519.83,-47.166 523.578,-58 535,-58 542.674,-58 546.884,-53.1094 547.63,-46.6397\"/>\n",
       "<polygon fill=\"black\" stroke=\"black\" points=\"551.055,-45.8557 546.243,-36.4167 544.119,-46.7963 551.055,-45.8557\"/>\n",
       "<text text-anchor=\"middle\" x=\"535\" y=\"-61.8\" font-family=\"Times,serif\" font-size=\"14.00\">UH1:ε(UH1)</text>\n",
       "</g>\n",
       "<!-- 5 -->\n",
       "<g id=\"node6\" class=\"node\"><title>5</title>\n",
       "<ellipse fill=\"none\" stroke=\"black\" cx=\"673\" cy=\"-22\" rx=\"18\" ry=\"18\"/>\n",
       "<text text-anchor=\"middle\" x=\"673\" y=\"-18.3\" font-family=\"Times,serif\" font-size=\"14.00\">5</text>\n",
       "</g>\n",
       "<!-- 4&#45;&gt;5 -->\n",
       "<g id=\"edge9\" class=\"edge\"><title>4&#45;&gt;5</title>\n",
       "<path fill=\"none\" stroke=\"black\" d=\"M553.224,-22C576.319,-22 617.568,-22 644.86,-22\"/>\n",
       "<polygon fill=\"black\" stroke=\"black\" points=\"644.915,-25.5001 654.915,-22 644.915,-18.5001 644.915,-25.5001\"/>\n",
       "<text text-anchor=\"middle\" x=\"604\" y=\"-25.8\" font-family=\"Times,serif\" font-size=\"14.00\">UH2:ε(UH2)</text>\n",
       "</g>\n",
       "<!-- 5&#45;&gt;5 -->\n",
       "<g id=\"edge10\" class=\"edge\"><title>5&#45;&gt;5</title>\n",
       "<path fill=\"none\" stroke=\"black\" d=\"M661.757,-36.4167C657.83,-47.166 661.578,-58 673,-58 680.674,-58 684.884,-53.1094 685.63,-46.6397\"/>\n",
       "<polygon fill=\"black\" stroke=\"black\" points=\"689.055,-45.8557 684.243,-36.4167 682.119,-46.7963 689.055,-45.8557\"/>\n",
       "<text text-anchor=\"middle\" x=\"673\" y=\"-61.8\" font-family=\"Times,serif\" font-size=\"14.00\">UH2:ε(UH2)</text>\n",
       "</g>\n",
       "<!-- 6 -->\n",
       "<g id=\"node7\" class=\"node\"><title>6</title>\n",
       "<ellipse fill=\"none\" stroke=\"black\" cx=\"811\" cy=\"-22\" rx=\"18\" ry=\"18\"/>\n",
       "<text text-anchor=\"middle\" x=\"811\" y=\"-18.3\" font-family=\"Times,serif\" font-size=\"14.00\">6</text>\n",
       "</g>\n",
       "<!-- 5&#45;&gt;6 -->\n",
       "<g id=\"edge11\" class=\"edge\"><title>5&#45;&gt;6</title>\n",
       "<path fill=\"none\" stroke=\"black\" d=\"M691.224,-22C714.319,-22 755.568,-22 782.86,-22\"/>\n",
       "<polygon fill=\"black\" stroke=\"black\" points=\"782.915,-25.5001 792.915,-22 782.915,-18.5001 782.915,-25.5001\"/>\n",
       "<text text-anchor=\"middle\" x=\"742\" y=\"-25.8\" font-family=\"Times,serif\" font-size=\"14.00\">UH3:ε(UH3)</text>\n",
       "</g>\n",
       "<!-- 6&#45;&gt;6 -->\n",
       "<g id=\"edge12\" class=\"edge\"><title>6&#45;&gt;6</title>\n",
       "<path fill=\"none\" stroke=\"black\" d=\"M800.627,-36.7917C797.249,-47.4165 800.707,-58 811,-58 817.916,-58 821.746,-53.2224 822.49,-46.8647\"/>\n",
       "<polygon fill=\"black\" stroke=\"black\" points=\"825.954,-46.345 821.373,-36.7917 818.997,-47.1165 825.954,-46.345\"/>\n",
       "<text text-anchor=\"middle\" x=\"811\" y=\"-61.8\" font-family=\"Times,serif\" font-size=\"14.00\">UH3:ε(UH3)</text>\n",
       "</g>\n",
       "<!-- 7 -->\n",
       "<g id=\"node8\" class=\"node\"><title>7</title>\n",
       "<ellipse fill=\"none\" stroke=\"black\" cx=\"937\" cy=\"-22\" rx=\"18\" ry=\"18\"/>\n",
       "<text text-anchor=\"middle\" x=\"937\" y=\"-18.3\" font-family=\"Times,serif\" font-size=\"14.00\">7</text>\n",
       "</g>\n",
       "<!-- 6&#45;&gt;7 -->\n",
       "<g id=\"edge13\" class=\"edge\"><title>6&#45;&gt;7</title>\n",
       "<path fill=\"none\" stroke=\"black\" d=\"M829.242,-22C849.786,-22 884.369,-22 908.592,-22\"/>\n",
       "<polygon fill=\"black\" stroke=\"black\" points=\"908.905,-25.5001 918.905,-22 908.905,-18.5001 908.905,-25.5001\"/>\n",
       "<text text-anchor=\"middle\" x=\"874\" y=\"-25.8\" font-family=\"Times,serif\" font-size=\"14.00\">D1:D/(D1)</text>\n",
       "</g>\n",
       "<!-- 7&#45;&gt;7 -->\n",
       "<g id=\"edge14\" class=\"edge\"><title>7&#45;&gt;7</title>\n",
       "<path fill=\"none\" stroke=\"black\" d=\"M927.187,-37.1666C924.213,-47.6641 927.484,-58 937,-58 943.245,-58 946.8,-53.5487 947.666,-47.5216\"/>\n",
       "<polygon fill=\"black\" stroke=\"black\" points=\"951.122,-46.8455 946.813,-37.1666 944.146,-47.4202 951.122,-46.8455\"/>\n",
       "<text text-anchor=\"middle\" x=\"937\" y=\"-61.8\" font-family=\"Times,serif\" font-size=\"14.00\">D1:ε(D1)</text>\n",
       "</g>\n",
       "<!-- 8 -->\n",
       "<g id=\"node9\" class=\"node\"><title>8</title>\n",
       "<ellipse fill=\"none\" stroke=\"black\" cx=\"1055\" cy=\"-22\" rx=\"18\" ry=\"18\"/>\n",
       "<text text-anchor=\"middle\" x=\"1055\" y=\"-18.3\" font-family=\"Times,serif\" font-size=\"14.00\">8</text>\n",
       "</g>\n",
       "<!-- 7&#45;&gt;8 -->\n",
       "<g id=\"edge15\" class=\"edge\"><title>7&#45;&gt;8</title>\n",
       "<path fill=\"none\" stroke=\"black\" d=\"M955.116,-22C973.964,-22 1004.53,-22 1026.7,-22\"/>\n",
       "<polygon fill=\"black\" stroke=\"black\" points=\"1026.81,-25.5001 1036.81,-22 1026.81,-18.5001 1026.81,-25.5001\"/>\n",
       "<text text-anchor=\"middle\" x=\"996\" y=\"-25.8\" font-family=\"Times,serif\" font-size=\"14.00\">D2:ε(D2)</text>\n",
       "</g>\n",
       "<!-- 8&#45;&gt;8 -->\n",
       "<g id=\"edge16\" class=\"edge\"><title>8&#45;&gt;8</title>\n",
       "<path fill=\"none\" stroke=\"black\" d=\"M1045.19,-37.1666C1042.21,-47.6641 1045.48,-58 1055,-58 1061.24,-58 1064.8,-53.5487 1065.67,-47.5216\"/>\n",
       "<polygon fill=\"black\" stroke=\"black\" points=\"1069.12,-46.8455 1064.81,-37.1666 1062.15,-47.4202 1069.12,-46.8455\"/>\n",
       "<text text-anchor=\"middle\" x=\"1055\" y=\"-61.8\" font-family=\"Times,serif\" font-size=\"14.00\">D2:ε(D2)</text>\n",
       "</g>\n",
       "<!-- 9 -->\n",
       "<g id=\"node10\" class=\"node\"><title>9</title>\n",
       "<ellipse fill=\"none\" stroke=\"black\" cx=\"1177\" cy=\"-22\" rx=\"18\" ry=\"18\"/>\n",
       "<ellipse fill=\"none\" stroke=\"black\" cx=\"1177\" cy=\"-22\" rx=\"22\" ry=\"22\"/>\n",
       "<text text-anchor=\"middle\" x=\"1177\" y=\"-18.3\" font-family=\"Times,serif\" font-size=\"14.00\">9</text>\n",
       "</g>\n",
       "<!-- 8&#45;&gt;9 -->\n",
       "<g id=\"edge17\" class=\"edge\"><title>8&#45;&gt;9</title>\n",
       "<path fill=\"none\" stroke=\"black\" d=\"M1073.19,-22C1091.77,-22 1121.76,-22 1144.57,-22\"/>\n",
       "<polygon fill=\"black\" stroke=\"black\" points=\"1144.79,-25.5001 1154.79,-22 1144.79,-18.5001 1144.79,-25.5001\"/>\n",
       "<text text-anchor=\"middle\" x=\"1114\" y=\"-25.8\" font-family=\"Times,serif\" font-size=\"14.00\">D3:ε(D3)</text>\n",
       "</g>\n",
       "<!-- 9&#45;&gt;9 -->\n",
       "<g id=\"edge18\" class=\"edge\"><title>9&#45;&gt;9</title>\n",
       "<path fill=\"none\" stroke=\"black\" d=\"M1165.93,-41.3443C1163.87,-52.0977 1167.55,-62 1177,-62 1183.2,-62 1186.92,-57.7354 1188.16,-51.7644\"/>\n",
       "<polygon fill=\"black\" stroke=\"black\" points=\"1191.66,-51.3136 1188.07,-41.3443 1184.66,-51.3743 1191.66,-51.3136\"/>\n",
       "<text text-anchor=\"middle\" x=\"1177\" y=\"-65.8\" font-family=\"Times,serif\" font-size=\"14.00\">D3:ε(D3)</text>\n",
       "</g>\n",
       "</g>\n",
       "</svg>\n"
      ],
      "text/plain": [
       "<StdVectorFst with 10 states>"
      ]
     },
     "execution_count": 4,
     "metadata": {},
     "output_type": "execute_result"
    }
   ],
   "source": [
    "t2=fst.Transducer()\n",
    "#3x3 states for this example\n",
    "\n",
    "\n",
    "symbols = ['G1','G2','G3','UH1','UH2','UH3','D1','D2','D3']\n",
    "labels  = ['G','UH','D']\n",
    "x=0\n",
    "count=0\n",
    "for i in range(1,10):\n",
    "    if i%3==1:\n",
    "        t2.add_arc(0+x,1+x,symbols[x],str(labels[count]+\"/\"+\"(\"+symbols[x]+\")\"))\n",
    "    else:\n",
    "        t2.add_arc(0+x,1+x,symbols[x],str(sym.find(0)+\"(\"+symbols[x]+\")\"))\n",
    "    t2.add_arc(1+x,1+x,symbols[x],str(sym.find(0)+\"(\"+symbols[x]+\")\"))\n",
    "    print \"i\",i\n",
    "    if i%3==0:\n",
    "        count+=1\n",
    "    x+=1\n",
    "    \n",
    "t2[9].final=True\n",
    "t2\n"
   ]
  },
  {
   "cell_type": "code",
   "execution_count": 5,
   "metadata": {},
   "outputs": [
    {
     "data": {
      "image/svg+xml": [
       "<?xml version=\"1.0\" encoding=\"UTF-8\" standalone=\"no\"?>\n",
       "<!DOCTYPE svg PUBLIC \"-//W3C//DTD SVG 1.1//EN\"\n",
       " \"http://www.w3.org/Graphics/SVG/1.1/DTD/svg11.dtd\">\n",
       "<!-- Generated by graphviz version 2.38.0 (20140413.2041)\n",
       " -->\n",
       "<!-- Title: FST Pages: 1 -->\n",
       "<svg width=\"612pt\" height=\"90pt\"\n",
       " viewBox=\"0.00 0.00 612.00 89.82\" xmlns=\"http://www.w3.org/2000/svg\" xmlns:xlink=\"http://www.w3.org/1999/xlink\">\n",
       "<g id=\"graph0\" class=\"graph\" transform=\"scale(0.315712 0.315712) rotate(0) translate(4 280.498)\">\n",
       "<title>FST</title>\n",
       "<polygon fill=\"white\" stroke=\"none\" points=\"-4,4 -4,-280.498 1934.47,-280.498 1934.47,4 -4,4\"/>\n",
       "<!-- 0 -->\n",
       "<g id=\"node1\" class=\"node\"><title>0</title>\n",
       "<ellipse fill=\"none\" stroke=\"black\" stroke-width=\"2\" cx=\"18\" cy=\"-203.498\" rx=\"18\" ry=\"18\"/>\n",
       "<text text-anchor=\"middle\" x=\"18\" y=\"-199.798\" font-family=\"Times,serif\" font-size=\"14.00\">0</text>\n",
       "</g>\n",
       "<!-- 1 -->\n",
       "<g id=\"node2\" class=\"node\"><title>1</title>\n",
       "<ellipse fill=\"none\" stroke=\"black\" cx=\"182\" cy=\"-203.498\" rx=\"18\" ry=\"18\"/>\n",
       "<text text-anchor=\"middle\" x=\"182\" y=\"-199.798\" font-family=\"Times,serif\" font-size=\"14.00\">1</text>\n",
       "</g>\n",
       "<!-- 0&#45;&gt;1 -->\n",
       "<g id=\"edge1\" class=\"edge\"><title>0&#45;&gt;1</title>\n",
       "<path fill=\"none\" stroke=\"black\" d=\"M36.0306,-203.498C64.0323,-203.498 120.037,-203.498 153.648,-203.498\"/>\n",
       "<polygon fill=\"black\" stroke=\"black\" points=\"153.71,-206.998 163.71,-203.498 153.71,-199.998 153.71,-206.998\"/>\n",
       "<text text-anchor=\"middle\" x=\"100\" y=\"-207.298\" font-family=\"Times,serif\" font-size=\"14.00\">x0:G/(G1)/0.0022</text>\n",
       "</g>\n",
       "<!-- 2 -->\n",
       "<g id=\"node3\" class=\"node\"><title>2</title>\n",
       "<ellipse fill=\"none\" stroke=\"black\" cx=\"339\" cy=\"-228.498\" rx=\"18\" ry=\"18\"/>\n",
       "<text text-anchor=\"middle\" x=\"339\" y=\"-224.798\" font-family=\"Times,serif\" font-size=\"14.00\">2</text>\n",
       "</g>\n",
       "<!-- 1&#45;&gt;2 -->\n",
       "<g id=\"edge2\" class=\"edge\"><title>1&#45;&gt;2</title>\n",
       "<path fill=\"none\" stroke=\"black\" d=\"M199.883,-206.221C226.67,-210.542 279.145,-219.006 311.14,-224.166\"/>\n",
       "<polygon fill=\"black\" stroke=\"black\" points=\"310.708,-227.642 321.138,-225.779 311.823,-220.731 310.708,-227.642\"/>\n",
       "<text text-anchor=\"middle\" x=\"260.5\" y=\"-227.298\" font-family=\"Times,serif\" font-size=\"14.00\">x1:ε(G1)/0.0118</text>\n",
       "</g>\n",
       "<!-- 3 -->\n",
       "<g id=\"node4\" class=\"node\"><title>3</title>\n",
       "<ellipse fill=\"none\" stroke=\"black\" cx=\"339\" cy=\"-174.498\" rx=\"18\" ry=\"18\"/>\n",
       "<text text-anchor=\"middle\" x=\"339\" y=\"-170.798\" font-family=\"Times,serif\" font-size=\"14.00\">3</text>\n",
       "</g>\n",
       "<!-- 1&#45;&gt;3 -->\n",
       "<g id=\"edge3\" class=\"edge\"><title>1&#45;&gt;3</title>\n",
       "<path fill=\"none\" stroke=\"black\" d=\"M198.677,-196.195C203.787,-194.069 209.549,-191.934 215,-190.498 247.106,-182.039 285.156,-177.966 310.343,-176.064\"/>\n",
       "<polygon fill=\"black\" stroke=\"black\" points=\"310.884,-179.535 320.619,-175.355 310.402,-172.551 310.884,-179.535\"/>\n",
       "<text text-anchor=\"middle\" x=\"260.5\" y=\"-194.298\" font-family=\"Times,serif\" font-size=\"14.00\">x1:ε(G2)/0.008</text>\n",
       "</g>\n",
       "<!-- 4 -->\n",
       "<g id=\"node5\" class=\"node\"><title>4</title>\n",
       "<ellipse fill=\"none\" stroke=\"black\" cx=\"496\" cy=\"-258.498\" rx=\"18\" ry=\"18\"/>\n",
       "<text text-anchor=\"middle\" x=\"496\" y=\"-254.798\" font-family=\"Times,serif\" font-size=\"14.00\">4</text>\n",
       "</g>\n",
       "<!-- 2&#45;&gt;4 -->\n",
       "<g id=\"edge4\" class=\"edge\"><title>2&#45;&gt;4</title>\n",
       "<path fill=\"none\" stroke=\"black\" d=\"M356.559,-232.866C361.509,-234.11 366.96,-235.419 372,-236.498 404.705,-243.503 442.632,-250.05 467.628,-254.15\"/>\n",
       "<polygon fill=\"black\" stroke=\"black\" points=\"467.384,-257.657 477.816,-255.803 468.505,-250.747 467.384,-257.657\"/>\n",
       "<text text-anchor=\"middle\" x=\"417.5\" y=\"-257.298\" font-family=\"Times,serif\" font-size=\"14.00\">x2:ε(G1)/0.0026</text>\n",
       "</g>\n",
       "<!-- 5 -->\n",
       "<g id=\"node6\" class=\"node\"><title>5</title>\n",
       "<ellipse fill=\"none\" stroke=\"black\" cx=\"496\" cy=\"-201.498\" rx=\"18\" ry=\"18\"/>\n",
       "<text text-anchor=\"middle\" x=\"496\" y=\"-197.798\" font-family=\"Times,serif\" font-size=\"14.00\">5</text>\n",
       "</g>\n",
       "<!-- 2&#45;&gt;5 -->\n",
       "<g id=\"edge5\" class=\"edge\"><title>2&#45;&gt;5</title>\n",
       "<path fill=\"none\" stroke=\"black\" d=\"M356.904,-224.621C361.766,-223.555 367.084,-222.435 372,-221.498 404.768,-215.255 442.682,-209.277 467.657,-205.51\"/>\n",
       "<polygon fill=\"black\" stroke=\"black\" points=\"468.463,-208.928 477.836,-203.989 467.429,-202.005 468.463,-208.928\"/>\n",
       "<text text-anchor=\"middle\" x=\"417.5\" y=\"-225.298\" font-family=\"Times,serif\" font-size=\"14.00\">x2:ε(G2)/0.0023</text>\n",
       "</g>\n",
       "<!-- 3&#45;&gt;5 -->\n",
       "<g id=\"edge6\" class=\"edge\"><title>3&#45;&gt;5</title>\n",
       "<path fill=\"none\" stroke=\"black\" d=\"M357.007,-174.659C381.019,-175.251 426.051,-177.714 463,-187.498 465.462,-188.15 467.978,-188.965 470.463,-189.872\"/>\n",
       "<polygon fill=\"black\" stroke=\"black\" points=\"469.14,-193.112 479.72,-193.674 471.799,-186.637 469.14,-193.112\"/>\n",
       "<text text-anchor=\"middle\" x=\"417.5\" y=\"-191.298\" font-family=\"Times,serif\" font-size=\"14.00\">x2:ε(G2)/0.0023</text>\n",
       "</g>\n",
       "<!-- 6 -->\n",
       "<g id=\"node7\" class=\"node\"><title>6</title>\n",
       "<ellipse fill=\"none\" stroke=\"black\" cx=\"496\" cy=\"-144.498\" rx=\"18\" ry=\"18\"/>\n",
       "<text text-anchor=\"middle\" x=\"496\" y=\"-140.798\" font-family=\"Times,serif\" font-size=\"14.00\">6</text>\n",
       "</g>\n",
       "<!-- 3&#45;&gt;6 -->\n",
       "<g id=\"edge7\" class=\"edge\"><title>3&#45;&gt;6</title>\n",
       "<path fill=\"none\" stroke=\"black\" d=\"M354.393,-164.723C359.707,-161.576 365.92,-158.411 372,-156.498 403.734,-146.514 442.149,-144.222 467.511,-143.967\"/>\n",
       "<polygon fill=\"black\" stroke=\"black\" points=\"467.847,-147.467 477.848,-143.969 467.849,-140.467 467.847,-147.467\"/>\n",
       "<text text-anchor=\"middle\" x=\"417.5\" y=\"-160.298\" font-family=\"Times,serif\" font-size=\"14.00\">x2:ε(G3)/0.0089</text>\n",
       "</g>\n",
       "<!-- 7 -->\n",
       "<g id=\"node8\" class=\"node\"><title>7</title>\n",
       "<ellipse fill=\"none\" stroke=\"black\" cx=\"680\" cy=\"-247.498\" rx=\"18\" ry=\"18\"/>\n",
       "<text text-anchor=\"middle\" x=\"680\" y=\"-243.798\" font-family=\"Times,serif\" font-size=\"14.00\">7</text>\n",
       "</g>\n",
       "<!-- 4&#45;&gt;7 -->\n",
       "<g id=\"edge8\" class=\"edge\"><title>4&#45;&gt;7</title>\n",
       "<path fill=\"none\" stroke=\"black\" d=\"M514.122,-257.463C545.693,-255.555 613.327,-251.468 651.432,-249.164\"/>\n",
       "<polygon fill=\"black\" stroke=\"black\" points=\"652.02,-252.635 661.791,-248.538 651.598,-245.648 652.02,-252.635\"/>\n",
       "<text text-anchor=\"middle\" x=\"588\" y=\"-260.298\" font-family=\"Times,serif\" font-size=\"14.00\">x3:ε(G2)/0.0107</text>\n",
       "</g>\n",
       "<!-- 5&#45;&gt;7 -->\n",
       "<g id=\"edge9\" class=\"edge\"><title>5&#45;&gt;7</title>\n",
       "<path fill=\"none\" stroke=\"black\" d=\"M514.032,-203.405C542.264,-206.895 600.277,-215.467 647,-231.498 649.609,-232.393 652.276,-233.459 654.901,-234.61\"/>\n",
       "<polygon fill=\"black\" stroke=\"black\" points=\"653.527,-237.832 664.058,-238.995 656.55,-231.519 653.527,-237.832\"/>\n",
       "<text text-anchor=\"middle\" x=\"588\" y=\"-235.298\" font-family=\"Times,serif\" font-size=\"14.00\">x3:ε(G2)/0.0107</text>\n",
       "</g>\n",
       "<!-- 8 -->\n",
       "<g id=\"node9\" class=\"node\"><title>8</title>\n",
       "<ellipse fill=\"none\" stroke=\"black\" cx=\"680\" cy=\"-176.498\" rx=\"18\" ry=\"18\"/>\n",
       "<text text-anchor=\"middle\" x=\"680\" y=\"-172.798\" font-family=\"Times,serif\" font-size=\"14.00\">8</text>\n",
       "</g>\n",
       "<!-- 5&#45;&gt;8 -->\n",
       "<g id=\"edge10\" class=\"edge\"><title>5&#45;&gt;8</title>\n",
       "<path fill=\"none\" stroke=\"black\" d=\"M511.341,-191.551C516.65,-188.388 522.873,-185.257 529,-183.498 570.511,-171.584 621.108,-172.158 651.651,-174.047\"/>\n",
       "<polygon fill=\"black\" stroke=\"black\" points=\"651.718,-177.56 661.942,-174.781 652.217,-170.578 651.718,-177.56\"/>\n",
       "<text text-anchor=\"middle\" x=\"588\" y=\"-187.298\" font-family=\"Times,serif\" font-size=\"14.00\">x3:ε(G3)/0.0079</text>\n",
       "</g>\n",
       "<!-- 6&#45;&gt;8 -->\n",
       "<g id=\"edge11\" class=\"edge\"><title>6&#45;&gt;8</title>\n",
       "<path fill=\"none\" stroke=\"black\" d=\"M514.227,-142.758C542.739,-140.506 601.144,-138.564 647,-154.498 650.586,-155.744 654.143,-157.507 657.51,-159.498\"/>\n",
       "<polygon fill=\"black\" stroke=\"black\" points=\"655.614,-162.441 665.868,-165.106 659.514,-156.628 655.614,-162.441\"/>\n",
       "<text text-anchor=\"middle\" x=\"588\" y=\"-158.298\" font-family=\"Times,serif\" font-size=\"14.00\">x3:ε(G3)/0.0079</text>\n",
       "</g>\n",
       "<!-- 9 -->\n",
       "<g id=\"node10\" class=\"node\"><title>9</title>\n",
       "<ellipse fill=\"none\" stroke=\"black\" cx=\"680\" cy=\"-106.498\" rx=\"18\" ry=\"18\"/>\n",
       "<text text-anchor=\"middle\" x=\"680\" y=\"-102.798\" font-family=\"Times,serif\" font-size=\"14.00\">9</text>\n",
       "</g>\n",
       "<!-- 6&#45;&gt;9 -->\n",
       "<g id=\"edge12\" class=\"edge\"><title>6&#45;&gt;9</title>\n",
       "<path fill=\"none\" stroke=\"black\" d=\"M510.181,-133.244C515.659,-129.175 522.297,-124.977 529,-122.498 569.69,-107.448 620.529,-105.176 651.344,-105.447\"/>\n",
       "<polygon fill=\"black\" stroke=\"black\" points=\"651.671,-108.953 661.736,-105.642 651.803,-101.954 651.671,-108.953\"/>\n",
       "<text text-anchor=\"middle\" x=\"588\" y=\"-126.298\" font-family=\"Times,serif\" font-size=\"14.00\">x3:UH/(UH1)/0.0045</text>\n",
       "</g>\n",
       "<!-- 10 -->\n",
       "<g id=\"node11\" class=\"node\"><title>10</title>\n",
       "<ellipse fill=\"none\" stroke=\"black\" cx=\"865.498\" cy=\"-228.498\" rx=\"19.4965\" ry=\"19.4965\"/>\n",
       "<text text-anchor=\"middle\" x=\"865.498\" y=\"-224.798\" font-family=\"Times,serif\" font-size=\"14.00\">10</text>\n",
       "</g>\n",
       "<!-- 7&#45;&gt;10 -->\n",
       "<g id=\"edge13\" class=\"edge\"><title>7&#45;&gt;10</title>\n",
       "<path fill=\"none\" stroke=\"black\" d=\"M697.934,-245.745C729.401,-242.487 797.194,-235.467 835.89,-231.46\"/>\n",
       "<polygon fill=\"black\" stroke=\"black\" points=\"836.392,-234.927 845.979,-230.416 835.671,-227.964 836.392,-234.927\"/>\n",
       "<text text-anchor=\"middle\" x=\"772\" y=\"-248.298\" font-family=\"Times,serif\" font-size=\"14.00\">x4:ε(G3)/0.0087</text>\n",
       "</g>\n",
       "<!-- 8&#45;&gt;10 -->\n",
       "<g id=\"edge14\" class=\"edge\"><title>8&#45;&gt;10</title>\n",
       "<path fill=\"none\" stroke=\"black\" d=\"M697.166,-182.457C702.201,-184.204 707.797,-186.036 713,-187.498 764.699,-202.029 780.006,-196.659 831,-213.498 833.435,-214.302 835.933,-215.225 838.413,-216.208\"/>\n",
       "<polygon fill=\"black\" stroke=\"black\" points=\"837.152,-219.475 847.723,-220.181 839.899,-213.036 837.152,-219.475\"/>\n",
       "<text text-anchor=\"middle\" x=\"772\" y=\"-217.298\" font-family=\"Times,serif\" font-size=\"14.00\">x4:ε(G3)/0.0087</text>\n",
       "</g>\n",
       "<!-- 11 -->\n",
       "<g id=\"node12\" class=\"node\"><title>11</title>\n",
       "<ellipse fill=\"none\" stroke=\"black\" cx=\"865.498\" cy=\"-161.498\" rx=\"19.4965\" ry=\"19.4965\"/>\n",
       "<text text-anchor=\"middle\" x=\"865.498\" y=\"-157.798\" font-family=\"Times,serif\" font-size=\"14.00\">11</text>\n",
       "</g>\n",
       "<!-- 8&#45;&gt;11 -->\n",
       "<g id=\"edge15\" class=\"edge\"><title>8&#45;&gt;11</title>\n",
       "<path fill=\"none\" stroke=\"black\" d=\"M697.921,-174.217C702.783,-173.606 708.097,-172.982 713,-172.498 755.539,-168.298 804.946,-165.007 835.47,-163.157\"/>\n",
       "<polygon fill=\"black\" stroke=\"black\" points=\"836.039,-166.63 845.813,-162.542 835.623,-159.642 836.039,-166.63\"/>\n",
       "<text text-anchor=\"middle\" x=\"772\" y=\"-176.298\" font-family=\"Times,serif\" font-size=\"14.00\">x4:UH/(UH1)/0.0122</text>\n",
       "</g>\n",
       "<!-- 9&#45;&gt;11 -->\n",
       "<g id=\"edge16\" class=\"edge\"><title>9&#45;&gt;11</title>\n",
       "<path fill=\"none\" stroke=\"black\" d=\"M698.018,-109.532C726.231,-114.841 784.216,-126.949 831,-144.498 833.601,-145.474 836.264,-146.595 838.896,-147.787\"/>\n",
       "<polygon fill=\"black\" stroke=\"black\" points=\"837.605,-151.051 848.128,-152.278 840.666,-144.757 837.605,-151.051\"/>\n",
       "<text text-anchor=\"middle\" x=\"772\" y=\"-148.298\" font-family=\"Times,serif\" font-size=\"14.00\">x4:ε(UH1)/0.0122</text>\n",
       "</g>\n",
       "<!-- 12 -->\n",
       "<g id=\"node13\" class=\"node\"><title>12</title>\n",
       "<ellipse fill=\"none\" stroke=\"black\" cx=\"865.498\" cy=\"-95.4983\" rx=\"19.4965\" ry=\"19.4965\"/>\n",
       "<text text-anchor=\"middle\" x=\"865.498\" y=\"-91.7983\" font-family=\"Times,serif\" font-size=\"14.00\">12</text>\n",
       "</g>\n",
       "<!-- 9&#45;&gt;12 -->\n",
       "<g id=\"edge17\" class=\"edge\"><title>9&#45;&gt;12</title>\n",
       "<path fill=\"none\" stroke=\"black\" d=\"M697.058,-100.461C702.088,-98.8472 707.709,-97.3236 713,-96.4983 755.31,-89.8984 805.077,-91.2885 835.705,-93.1753\"/>\n",
       "<polygon fill=\"black\" stroke=\"black\" points=\"835.483,-96.6682 845.697,-93.8512 835.956,-89.6842 835.483,-96.6682\"/>\n",
       "<text text-anchor=\"middle\" x=\"772\" y=\"-100.298\" font-family=\"Times,serif\" font-size=\"14.00\">x4:ε(UH2)/0.0062</text>\n",
       "</g>\n",
       "<!-- 13 -->\n",
       "<g id=\"node14\" class=\"node\"><title>13</title>\n",
       "<ellipse fill=\"none\" stroke=\"black\" cx=\"1052.49\" cy=\"-209.498\" rx=\"19.4965\" ry=\"19.4965\"/>\n",
       "<text text-anchor=\"middle\" x=\"1052.49\" y=\"-205.798\" font-family=\"Times,serif\" font-size=\"14.00\">13</text>\n",
       "</g>\n",
       "<!-- 10&#45;&gt;13 -->\n",
       "<g id=\"edge18\" class=\"edge\"><title>10&#45;&gt;13</title>\n",
       "<path fill=\"none\" stroke=\"black\" d=\"M884.913,-226.607C917.242,-223.287 984.416,-216.388 1022.85,-212.44\"/>\n",
       "<polygon fill=\"black\" stroke=\"black\" points=\"1023.29,-215.914 1032.88,-211.41 1022.57,-208.95 1023.29,-215.914\"/>\n",
       "<text text-anchor=\"middle\" x=\"958.997\" y=\"-229.298\" font-family=\"Times,serif\" font-size=\"14.00\">x5:UH/(UH1)/0.0131</text>\n",
       "</g>\n",
       "<!-- 11&#45;&gt;13 -->\n",
       "<g id=\"edge19\" class=\"edge\"><title>11&#45;&gt;13</title>\n",
       "<path fill=\"none\" stroke=\"black\" d=\"M884.74,-165.367C923.619,-173.626 1011.64,-192.406 1018,-194.498 1020.43,-195.3 1022.93,-196.22 1025.41,-197.201\"/>\n",
       "<polygon fill=\"black\" stroke=\"black\" points=\"1024.15,-200.469 1034.72,-201.173 1026.9,-194.03 1024.15,-200.469\"/>\n",
       "<text text-anchor=\"middle\" x=\"958.997\" y=\"-198.298\" font-family=\"Times,serif\" font-size=\"14.00\">x5:ε(UH1)/0.0131</text>\n",
       "</g>\n",
       "<!-- 14 -->\n",
       "<g id=\"node15\" class=\"node\"><title>14</title>\n",
       "<ellipse fill=\"none\" stroke=\"black\" cx=\"1052.49\" cy=\"-142.498\" rx=\"19.4965\" ry=\"19.4965\"/>\n",
       "<text text-anchor=\"middle\" x=\"1052.49\" y=\"-138.798\" font-family=\"Times,serif\" font-size=\"14.00\">14</text>\n",
       "</g>\n",
       "<!-- 11&#45;&gt;14 -->\n",
       "<g id=\"edge20\" class=\"edge\"><title>11&#45;&gt;14</title>\n",
       "<path fill=\"none\" stroke=\"black\" d=\"M884.472,-156.64C889.467,-155.445 894.915,-154.284 899.997,-153.498 942.24,-146.964 991.726,-144.295 1022.35,-143.215\"/>\n",
       "<polygon fill=\"black\" stroke=\"black\" points=\"1022.84,-146.701 1032.73,-142.885 1022.62,-139.705 1022.84,-146.701\"/>\n",
       "<text text-anchor=\"middle\" x=\"958.997\" y=\"-157.298\" font-family=\"Times,serif\" font-size=\"14.00\">x5:ε(UH2)/0.0054</text>\n",
       "</g>\n",
       "<!-- 12&#45;&gt;14 -->\n",
       "<g id=\"edge21\" class=\"edge\"><title>12&#45;&gt;14</title>\n",
       "<path fill=\"none\" stroke=\"black\" d=\"M885.164,-97.2286C914.242,-100.33 971.814,-108.104 1018,-124.498 1020.8,-125.492 1023.65,-126.693 1026.44,-127.997\"/>\n",
       "<polygon fill=\"black\" stroke=\"black\" points=\"1025.1,-131.24 1035.6,-132.678 1028.29,-125.008 1025.1,-131.24\"/>\n",
       "<text text-anchor=\"middle\" x=\"958.997\" y=\"-128.298\" font-family=\"Times,serif\" font-size=\"14.00\">x5:ε(UH2)/0.0054</text>\n",
       "</g>\n",
       "<!-- 15 -->\n",
       "<g id=\"node16\" class=\"node\"><title>15</title>\n",
       "<ellipse fill=\"none\" stroke=\"black\" cx=\"1052.49\" cy=\"-76.4983\" rx=\"19.4965\" ry=\"19.4965\"/>\n",
       "<text text-anchor=\"middle\" x=\"1052.49\" y=\"-72.7983\" font-family=\"Times,serif\" font-size=\"14.00\">15</text>\n",
       "</g>\n",
       "<!-- 12&#45;&gt;15 -->\n",
       "<g id=\"edge22\" class=\"edge\"><title>12&#45;&gt;15</title>\n",
       "<path fill=\"none\" stroke=\"black\" d=\"M882.201,-85.03C887.609,-81.9883 893.855,-79.0653 899.997,-77.4983 941.717,-66.8527 992.028,-69.4128 1022.88,-72.6429\"/>\n",
       "<polygon fill=\"black\" stroke=\"black\" points=\"1022.61,-76.134 1032.94,-73.7927 1023.4,-69.1793 1022.61,-76.134\"/>\n",
       "<text text-anchor=\"middle\" x=\"958.997\" y=\"-81.2983\" font-family=\"Times,serif\" font-size=\"14.00\">x5:ε(UH3)/0.0094</text>\n",
       "</g>\n",
       "<!-- 16 -->\n",
       "<g id=\"node17\" class=\"node\"><title>16</title>\n",
       "<ellipse fill=\"none\" stroke=\"black\" cx=\"1221.49\" cy=\"-190.498\" rx=\"19.4965\" ry=\"19.4965\"/>\n",
       "<text text-anchor=\"middle\" x=\"1221.49\" y=\"-186.798\" font-family=\"Times,serif\" font-size=\"14.00\">16</text>\n",
       "</g>\n",
       "<!-- 13&#45;&gt;16 -->\n",
       "<g id=\"edge23\" class=\"edge\"><title>13&#45;&gt;16</title>\n",
       "<path fill=\"none\" stroke=\"black\" d=\"M1072,-207.392C1100.97,-204.097 1157.24,-197.695 1191.58,-193.787\"/>\n",
       "<polygon fill=\"black\" stroke=\"black\" points=\"1192.36,-197.222 1201.9,-192.614 1191.57,-190.267 1192.36,-197.222\"/>\n",
       "<text text-anchor=\"middle\" x=\"1136.99\" y=\"-209.298\" font-family=\"Times,serif\" font-size=\"14.00\">x6:ε(UH2)/0.0079</text>\n",
       "</g>\n",
       "<!-- 14&#45;&gt;16 -->\n",
       "<g id=\"edge24\" class=\"edge\"><title>14&#45;&gt;16</title>\n",
       "<path fill=\"none\" stroke=\"black\" d=\"M1071.88,-146.285C1097.85,-151.835 1146.62,-163.001 1186.99,-176.498 1189.26,-177.257 1191.6,-178.099 1193.92,-178.982\"/>\n",
       "<polygon fill=\"black\" stroke=\"black\" points=\"1192.71,-182.264 1203.29,-182.741 1195.31,-175.768 1192.71,-182.264\"/>\n",
       "<text text-anchor=\"middle\" x=\"1136.99\" y=\"-180.298\" font-family=\"Times,serif\" font-size=\"14.00\">x6:ε(UH2)/0.0079</text>\n",
       "</g>\n",
       "<!-- 17 -->\n",
       "<g id=\"node18\" class=\"node\"><title>17</title>\n",
       "<ellipse fill=\"none\" stroke=\"black\" cx=\"1221.49\" cy=\"-123.498\" rx=\"19.4965\" ry=\"19.4965\"/>\n",
       "<text text-anchor=\"middle\" x=\"1221.49\" y=\"-119.798\" font-family=\"Times,serif\" font-size=\"14.00\">17</text>\n",
       "</g>\n",
       "<!-- 14&#45;&gt;17 -->\n",
       "<g id=\"edge25\" class=\"edge\"><title>14&#45;&gt;17</title>\n",
       "<path fill=\"none\" stroke=\"black\" d=\"M1071.47,-137.673C1076.47,-136.478 1081.92,-135.309 1086.99,-134.498 1122.72,-128.795 1164.32,-125.961 1191.47,-124.615\"/>\n",
       "<polygon fill=\"black\" stroke=\"black\" points=\"1191.98,-128.096 1201.81,-124.14 1191.66,-121.103 1191.98,-128.096\"/>\n",
       "<text text-anchor=\"middle\" x=\"1136.99\" y=\"-138.298\" font-family=\"Times,serif\" font-size=\"14.00\">x6:ε(UH3)/0.0119</text>\n",
       "</g>\n",
       "<!-- 15&#45;&gt;17 -->\n",
       "<g id=\"edge26\" class=\"edge\"><title>15&#45;&gt;17</title>\n",
       "<path fill=\"none\" stroke=\"black\" d=\"M1072.04,-79.1699C1098.21,-83.2722 1147.21,-92.1848 1186.99,-106.498 1189.61,-107.439 1192.28,-108.537 1194.92,-109.714\"/>\n",
       "<polygon fill=\"black\" stroke=\"black\" points=\"1193.63,-112.98 1204.16,-114.184 1196.68,-106.678 1193.63,-112.98\"/>\n",
       "<text text-anchor=\"middle\" x=\"1136.99\" y=\"-110.298\" font-family=\"Times,serif\" font-size=\"14.00\">x6:ε(UH3)/0.0119</text>\n",
       "</g>\n",
       "<!-- 18 -->\n",
       "<g id=\"node19\" class=\"node\"><title>18</title>\n",
       "<ellipse fill=\"none\" stroke=\"black\" cx=\"1221.49\" cy=\"-57.4983\" rx=\"19.4965\" ry=\"19.4965\"/>\n",
       "<text text-anchor=\"middle\" x=\"1221.49\" y=\"-53.7983\" font-family=\"Times,serif\" font-size=\"14.00\">18</text>\n",
       "</g>\n",
       "<!-- 15&#45;&gt;18 -->\n",
       "<g id=\"edge27\" class=\"edge\"><title>15&#45;&gt;18</title>\n",
       "<path fill=\"none\" stroke=\"black\" d=\"M1069.2,-66.0332C1074.61,-62.9917 1080.85,-60.068 1086.99,-58.4983 1122.28,-49.4776 1164.55,-51.1545 1191.93,-53.7948\"/>\n",
       "<polygon fill=\"black\" stroke=\"black\" points=\"1191.68,-57.288 1202,-54.8744 1192.43,-50.3279 1191.68,-57.288\"/>\n",
       "<text text-anchor=\"middle\" x=\"1136.99\" y=\"-62.2983\" font-family=\"Times,serif\" font-size=\"14.00\">x6:D/(D1)/0.0068</text>\n",
       "</g>\n",
       "<!-- 19 -->\n",
       "<g id=\"node20\" class=\"node\"><title>19</title>\n",
       "<ellipse fill=\"none\" stroke=\"black\" cx=\"1390.49\" cy=\"-171.498\" rx=\"19.4965\" ry=\"19.4965\"/>\n",
       "<text text-anchor=\"middle\" x=\"1390.49\" y=\"-167.798\" font-family=\"Times,serif\" font-size=\"14.00\">19</text>\n",
       "</g>\n",
       "<!-- 16&#45;&gt;19 -->\n",
       "<g id=\"edge28\" class=\"edge\"><title>16&#45;&gt;19</title>\n",
       "<path fill=\"none\" stroke=\"black\" d=\"M1241,-188.392C1269.97,-185.097 1326.24,-178.695 1360.58,-174.787\"/>\n",
       "<polygon fill=\"black\" stroke=\"black\" points=\"1361.36,-178.222 1370.9,-173.614 1360.56,-171.267 1361.36,-178.222\"/>\n",
       "<text text-anchor=\"middle\" x=\"1305.99\" y=\"-190.298\" font-family=\"Times,serif\" font-size=\"14.00\">x7:ε(UH3)/0.0121</text>\n",
       "</g>\n",
       "<!-- 17&#45;&gt;19 -->\n",
       "<g id=\"edge29\" class=\"edge\"><title>17&#45;&gt;19</title>\n",
       "<path fill=\"none\" stroke=\"black\" d=\"M1240.87,-127.285C1266.84,-132.835 1315.61,-144.001 1355.99,-157.498 1358.26,-158.257 1360.59,-159.099 1362.92,-159.982\"/>\n",
       "<polygon fill=\"black\" stroke=\"black\" points=\"1361.7,-163.264 1372.29,-163.741 1364.31,-156.768 1361.7,-163.264\"/>\n",
       "<text text-anchor=\"middle\" x=\"1305.99\" y=\"-161.298\" font-family=\"Times,serif\" font-size=\"14.00\">x7:ε(UH3)/0.0121</text>\n",
       "</g>\n",
       "<!-- 20 -->\n",
       "<g id=\"node21\" class=\"node\"><title>20</title>\n",
       "<ellipse fill=\"none\" stroke=\"black\" cx=\"1390.49\" cy=\"-104.498\" rx=\"19.4965\" ry=\"19.4965\"/>\n",
       "<text text-anchor=\"middle\" x=\"1390.49\" y=\"-100.798\" font-family=\"Times,serif\" font-size=\"14.00\">20</text>\n",
       "</g>\n",
       "<!-- 17&#45;&gt;20 -->\n",
       "<g id=\"edge30\" class=\"edge\"><title>17&#45;&gt;20</title>\n",
       "<path fill=\"none\" stroke=\"black\" d=\"M1240.47,-118.673C1245.47,-117.478 1250.91,-116.309 1255.99,-115.498 1291.71,-109.795 1333.32,-106.961 1360.46,-105.615\"/>\n",
       "<polygon fill=\"black\" stroke=\"black\" points=\"1360.98,-109.096 1370.81,-105.14 1360.66,-102.103 1360.98,-109.096\"/>\n",
       "<text text-anchor=\"middle\" x=\"1305.99\" y=\"-119.298\" font-family=\"Times,serif\" font-size=\"14.00\">x7:D/(D1)/0.0033</text>\n",
       "</g>\n",
       "<!-- 18&#45;&gt;20 -->\n",
       "<g id=\"edge31\" class=\"edge\"><title>18&#45;&gt;20</title>\n",
       "<path fill=\"none\" stroke=\"black\" d=\"M1241.04,-60.1699C1267.2,-64.2722 1316.2,-73.1848 1355.99,-87.4983 1358.6,-88.4386 1361.27,-89.5366 1363.91,-90.7139\"/>\n",
       "<polygon fill=\"black\" stroke=\"black\" points=\"1362.63,-93.9797 1373.15,-95.1843 1365.67,-87.6784 1362.63,-93.9797\"/>\n",
       "<text text-anchor=\"middle\" x=\"1305.99\" y=\"-91.2983\" font-family=\"Times,serif\" font-size=\"14.00\">x7:ε(D1)/0.0033</text>\n",
       "</g>\n",
       "<!-- 21 -->\n",
       "<g id=\"node22\" class=\"node\"><title>21</title>\n",
       "<ellipse fill=\"none\" stroke=\"black\" cx=\"1390.49\" cy=\"-38.4983\" rx=\"19.4965\" ry=\"19.4965\"/>\n",
       "<text text-anchor=\"middle\" x=\"1390.49\" y=\"-34.7983\" font-family=\"Times,serif\" font-size=\"14.00\">21</text>\n",
       "</g>\n",
       "<!-- 18&#45;&gt;21 -->\n",
       "<g id=\"edge32\" class=\"edge\"><title>18&#45;&gt;21</title>\n",
       "<path fill=\"none\" stroke=\"black\" d=\"M1238.19,-47.0332C1243.6,-43.9917 1249.85,-41.068 1255.99,-39.4983 1291.28,-30.4776 1333.54,-32.1545 1360.93,-34.7948\"/>\n",
       "<polygon fill=\"black\" stroke=\"black\" points=\"1360.68,-38.288 1370.99,-35.8744 1361.42,-31.3279 1360.68,-38.288\"/>\n",
       "<text text-anchor=\"middle\" x=\"1305.99\" y=\"-43.2983\" font-family=\"Times,serif\" font-size=\"14.00\">x7:ε(D2)/0.0051</text>\n",
       "</g>\n",
       "<!-- 22 -->\n",
       "<g id=\"node23\" class=\"node\"><title>22</title>\n",
       "<ellipse fill=\"none\" stroke=\"black\" cx=\"1557.48\" cy=\"-133.498\" rx=\"19.4965\" ry=\"19.4965\"/>\n",
       "<text text-anchor=\"middle\" x=\"1557.48\" y=\"-129.798\" font-family=\"Times,serif\" font-size=\"14.00\">22</text>\n",
       "</g>\n",
       "<!-- 19&#45;&gt;22 -->\n",
       "<g id=\"edge33\" class=\"edge\"><title>19&#45;&gt;22</title>\n",
       "<path fill=\"none\" stroke=\"black\" d=\"M1410.08,-169.388C1435.82,-166.177 1483.6,-159.173 1522.99,-147.498 1525.28,-146.818 1527.63,-146.032 1529.97,-145.186\"/>\n",
       "<polygon fill=\"black\" stroke=\"black\" points=\"1531.33,-148.411 1539.36,-141.49 1528.77,-141.897 1531.33,-148.411\"/>\n",
       "<text text-anchor=\"middle\" x=\"1473.99\" y=\"-171.298\" font-family=\"Times,serif\" font-size=\"14.00\">x8:D/(D1)/0.0132</text>\n",
       "</g>\n",
       "<!-- 20&#45;&gt;22 -->\n",
       "<g id=\"edge34\" class=\"edge\"><title>20&#45;&gt;22</title>\n",
       "<path fill=\"none\" stroke=\"black\" d=\"M1409.89,-108.483C1414.79,-109.505 1420.08,-110.576 1424.99,-111.498 1460.37,-118.153 1501.31,-124.844 1527.99,-129.07\"/>\n",
       "<polygon fill=\"black\" stroke=\"black\" points=\"1527.73,-132.572 1538.15,-130.669 1528.81,-125.657 1527.73,-132.572\"/>\n",
       "<text text-anchor=\"middle\" x=\"1473.99\" y=\"-132.298\" font-family=\"Times,serif\" font-size=\"14.00\">x8:ε(D1)/0.0132</text>\n",
       "</g>\n",
       "<!-- 23 -->\n",
       "<g id=\"node24\" class=\"node\"><title>23</title>\n",
       "<ellipse fill=\"none\" stroke=\"black\" cx=\"1557.48\" cy=\"-76.4983\" rx=\"19.4965\" ry=\"19.4965\"/>\n",
       "<text text-anchor=\"middle\" x=\"1557.48\" y=\"-72.7983\" font-family=\"Times,serif\" font-size=\"14.00\">23</text>\n",
       "</g>\n",
       "<!-- 20&#45;&gt;23 -->\n",
       "<g id=\"edge35\" class=\"edge\"><title>20&#45;&gt;23</title>\n",
       "<path fill=\"none\" stroke=\"black\" d=\"M1409.51,-99.9028C1414.5,-98.7089 1419.94,-97.4829 1424.99,-96.4983 1460.24,-89.6192 1501.21,-83.7152 1527.93,-80.1414\"/>\n",
       "<polygon fill=\"black\" stroke=\"black\" points=\"1528.65,-83.5766 1538.11,-78.8005 1527.73,-76.6366 1528.65,-83.5766\"/>\n",
       "<text text-anchor=\"middle\" x=\"1473.99\" y=\"-100.298\" font-family=\"Times,serif\" font-size=\"14.00\">x8:ε(D2)/0.0013</text>\n",
       "</g>\n",
       "<!-- 21&#45;&gt;23 -->\n",
       "<g id=\"edge36\" class=\"edge\"><title>21&#45;&gt;23</title>\n",
       "<path fill=\"none\" stroke=\"black\" d=\"M1410.08,-40.6089C1435.82,-43.8197 1483.6,-50.8235 1522.99,-62.4983 1525.28,-63.1785 1527.63,-63.9649 1529.97,-64.811\"/>\n",
       "<polygon fill=\"black\" stroke=\"black\" points=\"1528.77,-68.0993 1539.36,-68.5065 1531.33,-61.586 1528.77,-68.0993\"/>\n",
       "<text text-anchor=\"middle\" x=\"1473.99\" y=\"-66.2983\" font-family=\"Times,serif\" font-size=\"14.00\">x8:ε(D2)/0.0013</text>\n",
       "</g>\n",
       "<!-- 24 -->\n",
       "<g id=\"node25\" class=\"node\"><title>24</title>\n",
       "<ellipse fill=\"none\" stroke=\"black\" cx=\"1557.48\" cy=\"-19.4983\" rx=\"19.4965\" ry=\"19.4965\"/>\n",
       "<text text-anchor=\"middle\" x=\"1557.48\" y=\"-15.7983\" font-family=\"Times,serif\" font-size=\"14.00\">24</text>\n",
       "</g>\n",
       "<!-- 21&#45;&gt;24 -->\n",
       "<g id=\"edge37\" class=\"edge\"><title>21&#45;&gt;24</title>\n",
       "<path fill=\"none\" stroke=\"black\" d=\"M1407.19,-28.0336C1412.6,-24.9922 1418.85,-22.0684 1424.99,-20.4983 1459.4,-11.6998 1500.54,-13.2254 1527.53,-15.7766\"/>\n",
       "<polygon fill=\"black\" stroke=\"black\" points=\"1527.52,-19.2942 1537.83,-16.8652 1528.25,-12.333 1527.52,-19.2942\"/>\n",
       "<text text-anchor=\"middle\" x=\"1473.99\" y=\"-24.2983\" font-family=\"Times,serif\" font-size=\"14.00\">x8:ε(D3)/0.0005</text>\n",
       "</g>\n",
       "<!-- 25 -->\n",
       "<g id=\"node26\" class=\"node\"><title>25</title>\n",
       "<ellipse fill=\"none\" stroke=\"black\" cx=\"1717.48\" cy=\"-104.498\" rx=\"19.4965\" ry=\"19.4965\"/>\n",
       "<text text-anchor=\"middle\" x=\"1717.48\" y=\"-100.798\" font-family=\"Times,serif\" font-size=\"14.00\">25</text>\n",
       "</g>\n",
       "<!-- 22&#45;&gt;25 -->\n",
       "<g id=\"edge38\" class=\"edge\"><title>22&#45;&gt;25</title>\n",
       "<path fill=\"none\" stroke=\"black\" d=\"M1577.08,-130.398C1601.44,-126.293 1645.48,-118.728 1682.98,-111.498 1684.67,-111.174 1686.4,-110.833 1688.14,-110.484\"/>\n",
       "<polygon fill=\"black\" stroke=\"black\" points=\"1688.98,-113.886 1698.07,-108.452 1687.57,-107.028 1688.98,-113.886\"/>\n",
       "<text text-anchor=\"middle\" x=\"1637.48\" y=\"-131.298\" font-family=\"Times,serif\" font-size=\"14.00\">x9:ε(D2)/0.0044</text>\n",
       "</g>\n",
       "<!-- 23&#45;&gt;25 -->\n",
       "<g id=\"edge39\" class=\"edge\"><title>23&#45;&gt;25</title>\n",
       "<path fill=\"none\" stroke=\"black\" d=\"M1577.12,-79.0466C1601.54,-82.486 1645.63,-89.0482 1682.98,-96.4983 1684.72,-96.844 1686.5,-97.2165 1688.29,-97.6051\"/>\n",
       "<polygon fill=\"black\" stroke=\"black\" points=\"1687.93,-101.113 1698.46,-99.9307 1689.49,-94.289 1687.93,-101.113\"/>\n",
       "<text text-anchor=\"middle\" x=\"1637.48\" y=\"-100.298\" font-family=\"Times,serif\" font-size=\"14.00\">x9:ε(D2)/0.0044</text>\n",
       "</g>\n",
       "<!-- 26 -->\n",
       "<g id=\"node27\" class=\"node\"><title>26</title>\n",
       "<ellipse fill=\"none\" stroke=\"black\" cx=\"1717.48\" cy=\"-47.4983\" rx=\"19.4965\" ry=\"19.4965\"/>\n",
       "<text text-anchor=\"middle\" x=\"1717.48\" y=\"-43.7983\" font-family=\"Times,serif\" font-size=\"14.00\">26</text>\n",
       "</g>\n",
       "<!-- 23&#45;&gt;26 -->\n",
       "<g id=\"edge40\" class=\"edge\"><title>23&#45;&gt;26</title>\n",
       "<path fill=\"none\" stroke=\"black\" d=\"M1575.61,-68.9341C1580.79,-66.8994 1586.54,-64.8819 1591.98,-63.4983 1624.14,-55.3219 1662.08,-51.2117 1687.55,-49.2232\"/>\n",
       "<polygon fill=\"black\" stroke=\"black\" points=\"1687.93,-52.7051 1697.65,-48.4952 1687.43,-45.7233 1687.93,-52.7051\"/>\n",
       "<text text-anchor=\"middle\" x=\"1637.48\" y=\"-67.2983\" font-family=\"Times,serif\" font-size=\"14.00\">x9:ε(D3)/0.0124</text>\n",
       "</g>\n",
       "<!-- 24&#45;&gt;26 -->\n",
       "<g id=\"edge41\" class=\"edge\"><title>24&#45;&gt;26</title>\n",
       "<path fill=\"none\" stroke=\"black\" d=\"M1576.86,-15.9797C1601.75,-12.0245 1647.16,-7.69643 1682.98,-20.4983 1687.37,-22.0677 1691.62,-24.4777 1695.52,-27.2249\"/>\n",
       "<polygon fill=\"black\" stroke=\"black\" points=\"1693.46,-30.0606 1703.46,-33.582 1697.84,-24.5978 1693.46,-30.0606\"/>\n",
       "<text text-anchor=\"middle\" x=\"1637.48\" y=\"-24.2983\" font-family=\"Times,serif\" font-size=\"14.00\">x9:ε(D3)/0.0124</text>\n",
       "</g>\n",
       "<!-- 27 -->\n",
       "<g id=\"node28\" class=\"node\"><title>27</title>\n",
       "<ellipse fill=\"none\" stroke=\"black\" cx=\"1897.23\" cy=\"-77.4983\" rx=\"29.4667\" ry=\"29.4667\"/>\n",
       "<ellipse fill=\"none\" stroke=\"black\" cx=\"1897.23\" cy=\"-77.4983\" rx=\"33.4967\" ry=\"33.4967\"/>\n",
       "<text text-anchor=\"middle\" x=\"1897.23\" y=\"-73.7983\" font-family=\"Times,serif\" font-size=\"14.00\">27/&#45;1</text>\n",
       "</g>\n",
       "<!-- 25&#45;&gt;27 -->\n",
       "<g id=\"edge42\" class=\"edge\"><title>25&#45;&gt;27</title>\n",
       "<path fill=\"none\" stroke=\"black\" d=\"M1736.83,-101.71C1764.32,-97.5355 1816.92,-89.5456 1854.16,-83.8876\"/>\n",
       "<polygon fill=\"black\" stroke=\"black\" points=\"1854.87,-87.3209 1864.23,-82.3587 1853.82,-80.4003 1854.87,-87.3209\"/>\n",
       "<text text-anchor=\"middle\" x=\"1800.48\" y=\"-103.298\" font-family=\"Times,serif\" font-size=\"14.00\">x10:ε(D3)/0.0065</text>\n",
       "</g>\n",
       "<!-- 26&#45;&gt;27 -->\n",
       "<g id=\"edge43\" class=\"edge\"><title>26&#45;&gt;27</title>\n",
       "<path fill=\"none\" stroke=\"black\" d=\"M1737.15,-49.7142C1762.55,-52.8441 1809.38,-59.0204 1848.98,-66.4983 1850.9,-66.8617 1852.87,-67.2498 1854.85,-67.6551\"/>\n",
       "<polygon fill=\"black\" stroke=\"black\" points=\"1854.28,-71.1123 1864.79,-69.7908 1855.75,-64.2685 1854.28,-71.1123\"/>\n",
       "<text text-anchor=\"middle\" x=\"1800.48\" y=\"-70.2983\" font-family=\"Times,serif\" font-size=\"14.00\">x10:ε(D3)/0.0065</text>\n",
       "</g>\n",
       "</g>\n",
       "</svg>\n"
      ],
      "text/plain": [
       "<StdVectorFst with 28 states>"
      ]
     },
     "execution_count": 5,
     "metadata": {},
     "output_type": "execute_result"
    }
   ],
   "source": [
    "t3 = t>>t2\n",
    "t3.write(\"fst.bin\")\n",
    "t3.isyms.write(\"fst.isysm.bin\")\n",
    "t3.osyms.write(\"fst.osysm.bin\")\n",
    "\n",
    "t3"
   ]
  },
  {
   "cell_type": "markdown",
   "metadata": {},
   "source": [
    "sentence = \"tis a good day\""
   ]
  },
  {
   "cell_type": "code",
   "execution_count": 6,
   "metadata": {
    "collapsed": true
   },
   "outputs": [],
   "source": [
    "import fst\n",
    "t3 = fst.read(\"fst.bin\")\n",
    "t3.isyms=fst.read_symbols(\"fst.isysm.bin\")\n",
    "t3.osyms=fst.read_symbols(\"fst.osysm.bin\")"
   ]
  },
  {
   "cell_type": "code",
   "execution_count": 7,
   "metadata": {},
   "outputs": [
    {
     "data": {
      "image/svg+xml": [
       "<?xml version=\"1.0\" encoding=\"UTF-8\" standalone=\"no\"?>\n",
       "<!DOCTYPE svg PUBLIC \"-//W3C//DTD SVG 1.1//EN\"\n",
       " \"http://www.w3.org/Graphics/SVG/1.1/DTD/svg11.dtd\">\n",
       "<!-- Generated by graphviz version 2.38.0 (20140413.2041)\n",
       " -->\n",
       "<!-- Title: FST Pages: 1 -->\n",
       "<svg width=\"612pt\" height=\"22pt\"\n",
       " viewBox=\"0.00 0.00 612.00 21.56\" xmlns=\"http://www.w3.org/2000/svg\" xmlns:xlink=\"http://www.w3.org/1999/xlink\">\n",
       "<g id=\"graph0\" class=\"graph\" transform=\"scale(0.329672 0.329672) rotate(0) translate(4 61.3956)\">\n",
       "<title>FST</title>\n",
       "<polygon fill=\"white\" stroke=\"none\" points=\"-4,4 -4,-61.3956 1852.39,-61.3956 1852.39,4 -4,4\"/>\n",
       "<!-- 11 -->\n",
       "<g id=\"node1\" class=\"node\"><title>11</title>\n",
       "<ellipse fill=\"none\" stroke=\"black\" stroke-width=\"2\" cx=\"19.4983\" cy=\"-28.6978\" rx=\"19.4965\" ry=\"19.4965\"/>\n",
       "<text text-anchor=\"middle\" x=\"19.4983\" y=\"-24.9978\" font-family=\"Times,serif\" font-size=\"14.00\">11</text>\n",
       "</g>\n",
       "<!-- 10 -->\n",
       "<g id=\"node2\" class=\"node\"><title>10</title>\n",
       "<ellipse fill=\"none\" stroke=\"black\" cx=\"186.495\" cy=\"-28.6978\" rx=\"19.4965\" ry=\"19.4965\"/>\n",
       "<text text-anchor=\"middle\" x=\"186.495\" y=\"-24.9978\" font-family=\"Times,serif\" font-size=\"14.00\">10</text>\n",
       "</g>\n",
       "<!-- 11&#45;&gt;10 -->\n",
       "<g id=\"edge1\" class=\"edge\"><title>11&#45;&gt;10</title>\n",
       "<path fill=\"none\" stroke=\"black\" d=\"M39.1047,-28.6978C67.699,-28.6978 122.679,-28.6978 156.519,-28.6978\"/>\n",
       "<polygon fill=\"black\" stroke=\"black\" points=\"156.703,-32.1979 166.703,-28.6978 156.703,-25.1979 156.703,-32.1979\"/>\n",
       "<text text-anchor=\"middle\" x=\"102.997\" y=\"-32.4978\" font-family=\"Times,serif\" font-size=\"14.00\">x0:G/(G1)/0.0022</text>\n",
       "</g>\n",
       "<!-- 9 -->\n",
       "<g id=\"node12\" class=\"node\"><title>9</title>\n",
       "<ellipse fill=\"none\" stroke=\"black\" cx=\"337.993\" cy=\"-28.6978\" rx=\"18\" ry=\"18\"/>\n",
       "<text text-anchor=\"middle\" x=\"337.993\" y=\"-24.9978\" font-family=\"Times,serif\" font-size=\"14.00\">9</text>\n",
       "</g>\n",
       "<!-- 10&#45;&gt;9 -->\n",
       "<g id=\"edge11\" class=\"edge\"><title>10&#45;&gt;9</title>\n",
       "<path fill=\"none\" stroke=\"black\" d=\"M206.127,-28.6978C232.199,-28.6978 279.736,-28.6978 309.774,-28.6978\"/>\n",
       "<polygon fill=\"black\" stroke=\"black\" points=\"309.977,-32.1979 319.977,-28.6978 309.977,-25.1979 309.977,-32.1979\"/>\n",
       "<text text-anchor=\"middle\" x=\"262.993\" y=\"-32.4978\" font-family=\"Times,serif\" font-size=\"14.00\">x1:ε(G2)/0.008</text>\n",
       "</g>\n",
       "<!-- 0 -->\n",
       "<g id=\"node3\" class=\"node\"><title>0</title>\n",
       "<ellipse fill=\"none\" stroke=\"black\" cx=\"1819.69\" cy=\"-28.6978\" rx=\"24.8692\" ry=\"24.8692\"/>\n",
       "<ellipse fill=\"none\" stroke=\"black\" cx=\"1819.69\" cy=\"-28.6978\" rx=\"28.897\" ry=\"28.897\"/>\n",
       "<text text-anchor=\"middle\" x=\"1819.69\" y=\"-24.9978\" font-family=\"Times,serif\" font-size=\"14.00\">0/&#45;1</text>\n",
       "</g>\n",
       "<!-- 1 -->\n",
       "<g id=\"node4\" class=\"node\"><title>1</title>\n",
       "<ellipse fill=\"none\" stroke=\"black\" cx=\"1645.99\" cy=\"-28.6978\" rx=\"18\" ry=\"18\"/>\n",
       "<text text-anchor=\"middle\" x=\"1645.99\" y=\"-24.9978\" font-family=\"Times,serif\" font-size=\"14.00\">1</text>\n",
       "</g>\n",
       "<!-- 1&#45;&gt;0 -->\n",
       "<g id=\"edge2\" class=\"edge\"><title>1&#45;&gt;0</title>\n",
       "<path fill=\"none\" stroke=\"black\" d=\"M1664.08,-28.6978C1691.1,-28.6978 1744.35,-28.6978 1780.73,-28.6978\"/>\n",
       "<polygon fill=\"black\" stroke=\"black\" points=\"1780.97,-32.1979 1790.97,-28.6978 1780.97,-25.1979 1780.97,-32.1979\"/>\n",
       "<text text-anchor=\"middle\" x=\"1727.49\" y=\"-32.4978\" font-family=\"Times,serif\" font-size=\"14.00\">x10:ε(D3)/0.0065</text>\n",
       "</g>\n",
       "<!-- 2 -->\n",
       "<g id=\"node5\" class=\"node\"><title>2</title>\n",
       "<ellipse fill=\"none\" stroke=\"black\" cx=\"1488.99\" cy=\"-28.6978\" rx=\"18\" ry=\"18\"/>\n",
       "<text text-anchor=\"middle\" x=\"1488.99\" y=\"-24.9978\" font-family=\"Times,serif\" font-size=\"14.00\">2</text>\n",
       "</g>\n",
       "<!-- 2&#45;&gt;1 -->\n",
       "<g id=\"edge3\" class=\"edge\"><title>2&#45;&gt;1</title>\n",
       "<path fill=\"none\" stroke=\"black\" d=\"M1507.17,-28.6978C1533.82,-28.6978 1585.38,-28.6978 1617.33,-28.6978\"/>\n",
       "<polygon fill=\"black\" stroke=\"black\" points=\"1617.74,-32.1979 1627.74,-28.6978 1617.74,-25.1979 1617.74,-32.1979\"/>\n",
       "<text text-anchor=\"middle\" x=\"1567.49\" y=\"-32.4978\" font-family=\"Times,serif\" font-size=\"14.00\">x9:ε(D2)/0.0044</text>\n",
       "</g>\n",
       "<!-- 3 -->\n",
       "<g id=\"node6\" class=\"node\"><title>3</title>\n",
       "<ellipse fill=\"none\" stroke=\"black\" cx=\"1331.99\" cy=\"-28.6978\" rx=\"18\" ry=\"18\"/>\n",
       "<text text-anchor=\"middle\" x=\"1331.99\" y=\"-24.9978\" font-family=\"Times,serif\" font-size=\"14.00\">3</text>\n",
       "</g>\n",
       "<!-- 3&#45;&gt;2 -->\n",
       "<g id=\"edge4\" class=\"edge\"><title>3&#45;&gt;2</title>\n",
       "<path fill=\"none\" stroke=\"black\" d=\"M1350.17,-28.6978C1376.82,-28.6978 1428.38,-28.6978 1460.33,-28.6978\"/>\n",
       "<polygon fill=\"black\" stroke=\"black\" points=\"1460.74,-32.1979 1470.74,-28.6978 1460.74,-25.1979 1460.74,-32.1979\"/>\n",
       "<text text-anchor=\"middle\" x=\"1410.49\" y=\"-32.4978\" font-family=\"Times,serif\" font-size=\"14.00\">x8:ε(D2)/0.0013</text>\n",
       "</g>\n",
       "<!-- 4 -->\n",
       "<g id=\"node7\" class=\"node\"><title>4</title>\n",
       "<ellipse fill=\"none\" stroke=\"black\" cx=\"1174.99\" cy=\"-28.6978\" rx=\"18\" ry=\"18\"/>\n",
       "<text text-anchor=\"middle\" x=\"1174.99\" y=\"-24.9978\" font-family=\"Times,serif\" font-size=\"14.00\">4</text>\n",
       "</g>\n",
       "<!-- 4&#45;&gt;3 -->\n",
       "<g id=\"edge5\" class=\"edge\"><title>4&#45;&gt;3</title>\n",
       "<path fill=\"none\" stroke=\"black\" d=\"M1193.17,-28.6978C1219.82,-28.6978 1271.38,-28.6978 1303.33,-28.6978\"/>\n",
       "<polygon fill=\"black\" stroke=\"black\" points=\"1303.74,-32.1979 1313.74,-28.6978 1303.74,-25.1979 1303.74,-32.1979\"/>\n",
       "<text text-anchor=\"middle\" x=\"1253.49\" y=\"-32.4978\" font-family=\"Times,serif\" font-size=\"14.00\">x7:ε(D1)/0.0033</text>\n",
       "</g>\n",
       "<!-- 5 -->\n",
       "<g id=\"node8\" class=\"node\"><title>5</title>\n",
       "<ellipse fill=\"none\" stroke=\"black\" cx=\"1010.99\" cy=\"-28.6978\" rx=\"18\" ry=\"18\"/>\n",
       "<text text-anchor=\"middle\" x=\"1010.99\" y=\"-24.9978\" font-family=\"Times,serif\" font-size=\"14.00\">5</text>\n",
       "</g>\n",
       "<!-- 5&#45;&gt;4 -->\n",
       "<g id=\"edge6\" class=\"edge\"><title>5&#45;&gt;4</title>\n",
       "<path fill=\"none\" stroke=\"black\" d=\"M1029.02,-28.6978C1057.03,-28.6978 1113.03,-28.6978 1146.64,-28.6978\"/>\n",
       "<polygon fill=\"black\" stroke=\"black\" points=\"1146.7,-32.1979 1156.7,-28.6978 1146.7,-25.1979 1146.7,-32.1979\"/>\n",
       "<text text-anchor=\"middle\" x=\"1092.99\" y=\"-32.4978\" font-family=\"Times,serif\" font-size=\"14.00\">x6:D/(D1)/0.0068</text>\n",
       "</g>\n",
       "<!-- 6 -->\n",
       "<g id=\"node9\" class=\"node\"><title>6</title>\n",
       "<ellipse fill=\"none\" stroke=\"black\" cx=\"844.993\" cy=\"-28.6978\" rx=\"18\" ry=\"18\"/>\n",
       "<text text-anchor=\"middle\" x=\"844.993\" y=\"-24.9978\" font-family=\"Times,serif\" font-size=\"14.00\">6</text>\n",
       "</g>\n",
       "<!-- 6&#45;&gt;5 -->\n",
       "<g id=\"edge7\" class=\"edge\"><title>6&#45;&gt;5</title>\n",
       "<path fill=\"none\" stroke=\"black\" d=\"M863.234,-28.6978C891.73,-28.6978 948.872,-28.6978 982.836,-28.6978\"/>\n",
       "<polygon fill=\"black\" stroke=\"black\" points=\"982.983,-32.1979 992.983,-28.6978 982.983,-25.1979 982.983,-32.1979\"/>\n",
       "<text text-anchor=\"middle\" x=\"927.993\" y=\"-32.4978\" font-family=\"Times,serif\" font-size=\"14.00\">x5:ε(UH3)/0.0094</text>\n",
       "</g>\n",
       "<!-- 7 -->\n",
       "<g id=\"node10\" class=\"node\"><title>7</title>\n",
       "<ellipse fill=\"none\" stroke=\"black\" cx=\"678.993\" cy=\"-28.6978\" rx=\"18\" ry=\"18\"/>\n",
       "<text text-anchor=\"middle\" x=\"678.993\" y=\"-24.9978\" font-family=\"Times,serif\" font-size=\"14.00\">7</text>\n",
       "</g>\n",
       "<!-- 7&#45;&gt;6 -->\n",
       "<g id=\"edge8\" class=\"edge\"><title>7&#45;&gt;6</title>\n",
       "<path fill=\"none\" stroke=\"black\" d=\"M697.234,-28.6978C725.73,-28.6978 782.872,-28.6978 816.836,-28.6978\"/>\n",
       "<polygon fill=\"black\" stroke=\"black\" points=\"816.983,-32.1979 826.983,-28.6978 816.983,-25.1979 816.983,-32.1979\"/>\n",
       "<text text-anchor=\"middle\" x=\"761.993\" y=\"-32.4978\" font-family=\"Times,serif\" font-size=\"14.00\">x4:ε(UH2)/0.0062</text>\n",
       "</g>\n",
       "<!-- 8 -->\n",
       "<g id=\"node11\" class=\"node\"><title>8</title>\n",
       "<ellipse fill=\"none\" stroke=\"black\" cx=\"494.993\" cy=\"-28.6978\" rx=\"18\" ry=\"18\"/>\n",
       "<text text-anchor=\"middle\" x=\"494.993\" y=\"-24.9978\" font-family=\"Times,serif\" font-size=\"14.00\">8</text>\n",
       "</g>\n",
       "<!-- 8&#45;&gt;7 -->\n",
       "<g id=\"edge9\" class=\"edge\"><title>8&#45;&gt;7</title>\n",
       "<path fill=\"none\" stroke=\"black\" d=\"M513.115,-28.6978C544.686,-28.6978 612.32,-28.6978 650.426,-28.6978\"/>\n",
       "<polygon fill=\"black\" stroke=\"black\" points=\"650.784,-32.1979 660.784,-28.6978 650.784,-25.1979 650.784,-32.1979\"/>\n",
       "<text text-anchor=\"middle\" x=\"586.993\" y=\"-32.4978\" font-family=\"Times,serif\" font-size=\"14.00\">x3:UH/(UH1)/0.0045</text>\n",
       "</g>\n",
       "<!-- 9&#45;&gt;8 -->\n",
       "<g id=\"edge10\" class=\"edge\"><title>9&#45;&gt;8</title>\n",
       "<path fill=\"none\" stroke=\"black\" d=\"M356.173,-28.6978C382.825,-28.6978 434.384,-28.6978 466.328,-28.6978\"/>\n",
       "<polygon fill=\"black\" stroke=\"black\" points=\"466.736,-32.1979 476.736,-28.6978 466.736,-25.1979 466.736,-32.1979\"/>\n",
       "<text text-anchor=\"middle\" x=\"416.493\" y=\"-32.4978\" font-family=\"Times,serif\" font-size=\"14.00\">x2:ε(G3)/0.0089</text>\n",
       "</g>\n",
       "</g>\n",
       "</svg>\n"
      ],
      "text/plain": [
       "<StdVectorFst with 12 states>"
      ]
     },
     "execution_count": 7,
     "metadata": {},
     "output_type": "execute_result"
    }
   ],
   "source": [
    "t= t3.shortest_path()\n",
    "t"
   ]
  },
  {
   "cell_type": "markdown",
   "metadata": {},
   "source": [
    "**july 31st**"
   ]
  },
  {
   "cell_type": "code",
   "execution_count": 8,
   "metadata": {
    "collapsed": true
   },
   "outputs": [],
   "source": [
    "#make parents dict\n",
    "parents={}\n",
    "for state in t3.states:\n",
    "    for arc in state.arcs:\n",
    "        if arc.nextstate in parents:\n",
    "            parents[arc.nextstate].append(state.stateid)\n",
    "        else:\n",
    "            parents[arc.nextstate]=[state.stateid]\n",
    "print parents"
   ]
  },
  {
   "cell_type": "markdown",
   "metadata": {},
   "source": [
    "#ignore\n",
    "t=t3\n",
    "for state in t.states:\n",
    "    for arc in state.arcs:\n",
    "        print state.stateid,arc.nextstate,\\\n",
    "        t.isyms.find(arc.ilabel),\\\n",
    "        t.osyms.find(arc.olabel),arc.weight"
   ]
  },
  {
   "cell_type": "code",
   "execution_count": 9,
   "metadata": {
    "collapsed": true
   },
   "outputs": [],
   "source": [
    "#forward pass\n",
    "import math\n",
    "graph=t3\n",
    "scores ={0:1}\n",
    "print \"zerroo\",scores[0]\n",
    "def get_key(value):\n",
    "    for i in range(len(scores)):\n",
    "        if scores[i]==value:\n",
    "            return i\n",
    "def get_max_par(parents):\n",
    "    if len(parents)!=1:\n",
    "        if scores[parents[0]] < scores[parents[1]]:\n",
    "            return parents[1]\n",
    "        else:\n",
    "            return parents[0]\n",
    "    else:\n",
    "        return parents[0]\n",
    "    \n",
    "bestparent={}\n",
    "bestparent_sym={}\n",
    "for state in graph.states:\n",
    "    if state.stateid==0:\n",
    "        #print \"zero\",state.stateid\n",
    "        continue\n",
    "    else:\n",
    "        curr_state  = state\n",
    "        Parents = parents[curr_state.stateid]\n",
    "        max_par = get_max_par(Parents)\n",
    "        t = graph[max_par]\n",
    "        weight=0\n",
    "        isym=0\n",
    "        osym=0\n",
    "        for arc in t.arcs:\n",
    "            if graph[arc.nextstate].stateid == curr_state.stateid:\n",
    "                weight=arc.weight\n",
    "                isym=graph.isyms.find(arc.ilabel)\n",
    "                osym=graph.osyms.find(arc.olabel)\n",
    "                print osym\n",
    "        #print \"curr_state\",curr_state.stateid\n",
    "        #print Parents\n",
    "        #print \"max_par\",max_par\n",
    "        #print \"weight\",weight\n",
    "        #print scores[max_par]\n",
    "        scores[curr_state.stateid]=scores[max_par]+math.log(weight)\n",
    "        bestparent[curr_state.stateid]=max_par\n",
    "        bestparent_sym[curr_state.stateid]=osym\n",
    "print scores\n",
    "print bestparent\n",
    "print bestparent_sym"
   ]
  },
  {
   "cell_type": "code",
   "execution_count": 10,
   "metadata": {
    "collapsed": true
   },
   "outputs": [],
   "source": [
    "state=0\n",
    "path=[27]\n",
    "alphas=[]\n",
    "i=27\n",
    "while i!=0:\n",
    "    state=bestparent[i]\n",
    "    i=state\n",
    "    path.append(state)\n",
    "print path\n",
    "alphas=[scores[p] for p in path]\n",
    "print alphas"
   ]
  },
  {
   "cell_type": "code",
   "execution_count": 11,
   "metadata": {
    "collapsed": true
   },
   "outputs": [],
   "source": [
    "#backward pass\n",
    "bestpath_symbol={}\n",
    "bestpath_score={}\n",
    "bestpath_symbol[27]=bestparent_sym[27].encode(\"utf-8\").replace(\"\\xce\\xb5\",\"EPS\")\n",
    "bestpath_score[27]=scores[27]\n",
    "#print bestpath_symbol\n",
    "for i in reversed(range(1,27)):\n",
    "    bestpath_symbol[i]=bestparent_sym[i].encode(\"utf-8\").replace(\"\\xce\\xb5\",\"EPS\")\n",
    "    bestpath_score[i]=scores[i]\n",
    "print bestpath_symbol\n",
    "print bestpath_score"
   ]
  },
  {
   "cell_type": "markdown",
   "metadata": {},
   "source": [
    "**August 1st**"
   ]
  },
  {
   "cell_type": "markdown",
   "metadata": {},
   "source": [
    "Adding the best path code to the NN training script. this will train the NN on labels predicted by the best path code after the 3rd epoch"
   ]
  },
  {
   "cell_type": "markdown",
   "metadata": {},
   "source": [
    "**August 3rd**"
   ]
  },
  {
   "cell_type": "markdown",
   "metadata": {},
   "source": [
    "wrote code for best path training.completing NN integration"
   ]
  },
  {
   "cell_type": "markdown",
   "metadata": {},
   "source": [
    "**August 9th**"
   ]
  },
  {
   "cell_type": "markdown",
   "metadata": {},
   "source": [
    "Fixing segmentation errors and finishing NN integration"
   ]
  },
  {
   "cell_type": "markdown",
   "metadata": {},
   "source": [
    "**August 13th**"
   ]
  },
  {
   "cell_type": "markdown",
   "metadata": {},
   "source": [
    "Fixed segmentaion faults"
   ]
  },
  {
   "cell_type": "markdown",
   "metadata": {},
   "source": [
    "**August 15th**"
   ]
  },
  {
   "cell_type": "markdown",
   "metadata": {},
   "source": [
    "pocketsphinx gives no output.scaling suggested. difference in number of frame produced by ps"
   ]
  },
  {
   "cell_type": "markdown",
   "metadata": {},
   "source": [
    "**August 17th**"
   ]
  },
  {
   "cell_type": "markdown",
   "metadata": {},
   "source": [
    "scores were scaled. but pocketsphinx gives no text prediction..this might be <br>\n",
    "because phoneme sequence isn't making sense according to lm. following advice to change beams and lm prob weight\n",
    "param<br>\n",
    "<br>\n",
    "(11_6_1/wsj0/si_dt_20/050/050a0501.wv1.flac -7906)<br>\n",
    "(11_6_1/wsj0/si_dt_20/050/050a0502.wv1.flac -11488)<br>\n",
    "(11_6_1/wsj0/si_dt_20/050/050a0503.wv1.flac -10273)"
   ]
  },
  {
   "cell_type": "markdown",
   "metadata": {},
   "source": [
    "**August 20th**"
   ]
  },
  {
   "cell_type": "markdown",
   "metadata": {},
   "source": [
    "Reading the pocketsphinx source code and fixing the no text prediction problem"
   ]
  },
  {
   "cell_type": "markdown",
   "metadata": {},
   "source": [
    "**August 22nd**"
   ]
  },
  {
   "cell_type": "markdown",
   "metadata": {},
   "source": [
    "Fixed the no text prediction problem. but output is still non sensical. needs scaling"
   ]
  },
  {
   "cell_type": "markdown",
   "metadata": {},
   "source": [
    "**August 23rd**"
   ]
  },
  {
   "cell_type": "markdown",
   "metadata": {},
   "source": [
    "Trained a new model, 3 layered DBLSTM with a small change in output sequence generation"
   ]
  },
  {
   "cell_type": "markdown",
   "metadata": {},
   "source": [
    "**August 24th**"
   ]
  },
  {
   "cell_type": "markdown",
   "metadata": {},
   "source": [
    "Looks like the new trained model is working, output needed scaling<br>\n",
    "<br>\n",
    ".hyp looks like this<br>\n",
    "\n",
    "**THE MAO PRODUCES A LETTER OF TWO CHIEFLY U. M. BYRNE DECEMBER (11_6_1/wsj0/si_dt_20/050/050a0501.wv1.flac -31532)<br>\n",
    "NUMEROUS WORKS OF OUR JOB ACE ON THIS STORY OF THIS AKRON OF ISAAC (11_6_1/wsj0/si_dt_20/050/050a0502.wv1.flac -33916)<br>\n",
    "THEIR SOLUTION REQUIRES DEVELOPMENT OF THE HUMAN CAPACITY FOR SOCIAL INTEREST (11_6_1/wsj0/si_dt_20/050/050a0503.wv1.flac -13529)<br>\n",
    "HIS MOST SIGNIFICANCE I TO TO PUBLICATIONS WERE STUDIES OF BIRDS IN ANIMALS (11_6_1/wsj0/si_dt_20/050/050a0504.wv1.flac -20610)<br>\n",
    "IN REA YEARS SHE HAS PRIMARILY APPEARED IN TELEVISION FILMS SUCH AS LOW TO LAURA (11_6_1/wsj0/si_dt_20/050/050a0505.wv1.flac -29449)<br>\n",
    "THE PROCESS BY WHICH THE LENS FOCUSES ON EXTERNAL OBJECTS IS CALLED ACCOMMODATION (11_6_1/wsj0/si_dt_20/050/050a0506.wv1.flac -13479)<br>\n",
    "TO NOW GAUGE RAILROADS FROM CHINA ENTER THE CITY FROM THAN THAN EAST AND NORTHWEST (11_6_1/wsj0/si_dt_20/050/050a0507.wv1.flac -31539)**<br>"
   ]
  },
  {
   "cell_type": "markdown",
   "metadata": {},
   "source": [
    ".log file looks like this<br>\n",
    "<br>\n",
    "the FEMALE produces a   LITTER of  two TO  FOUR YOUNG   IN  NOVEMBER AND   december  (11_6_1/wsj0/si_dt_20/050/050a0501.wv1.flac)<br>\n",
    "the MAO    produces a   LETTER of  two *** ***  CHIEFLY U   M        BYRNE december  (11_6_1/wsj0/si_dt_20/050/050a0501.wv1.flac)<br>\n",
    "Words: 14 Correct: 6 Errors: 8 Percent correct = 42.86% Error = 57.14% Accuracy = 42.86%<br>\n",
    "Insertions: 0 Deletions: 2 Substitutions: 6<br>\n",
    "numerous works of  ART ARE BASED on  THE  story of  THE  SACRIFICE of  isaac (11_6_1/wsj0/si_dt_20/050/050a0502.wv1.flac)\n",
    "numerous works of  OUR JOB ACE   on  THIS story of  THIS AKRON     of  isaac  (11_6_1/wsj0/si_dt_20/050/050a0502.wv1.flac)\n",
    "Words: 14 Correct: 8 Errors: 6 Percent correct = 57.14% Error = 42.86% Accuracy = 57.14%<br>\n",
    "Insertions: 0 Deletions: 0 Substitutions: 6<br>\n",
    "their solution requires development of  the human capacity for social interest  (11_6_1/wsj0/si_dt_20/050/050a0503.wv1.flac)<br>\n",
    "their solution requires development of  the human capacity for social interest  (11_6_1/wsj0/si_dt_20/050/050a0503.wv1.flac)<br>\n",
    "Words: 11 Correct: 11 Errors: 0 Percent correct = 100.00% Error = 0.00% Accuracy = 100.00%<br>\n",
    "Insertions: 0 Deletions: 0 Substitutions: 0<br>\n",
    "his most ***          *** SIGNIFICANT SCIENTIFIC publications were studies of  birds AND animals  (11_6_1/wsj0/si_dt_20/050/050a0504.wv1.flac)<br>\n",
    "his most SIGNIFICANCE I   TO          TO         publications were studies of  birds IN  animals  (11_6_1/wsj0/si_dt_20/050/050a0504.wv1.flac)<br>\n",
    "Words: 11 Correct: 8 Errors: 5 Percent correct = 72.73% Error = 45.45% Accuracy = 54.55%<br>\n",
    "Insertions: 2 Deletions: 0 Substitutions: 3<br>\n",
    "in  RECENT years she has primarily appeared in  television films such as  LITTLE GLORIA  (11_6_1/wsj0/si_dt_20/050/050a0505.wv1.flac)<br>\n",
    "in  REA    years she has primarily appeared in  television films such as  LOW TO     LAURA   (11_6_1/wsj0/si_dt_20/050/050a0505.wv1.flac)<br>\n",
    "Words: 14 Correct: 11 Errors: 4 Percent correct = 78.57% Error = 28.57% Accuracy = 71.43%<br>\n",
    "Insertions: 1 Deletions: 0 Substitutions: 3<br>\n",
    "the process by  which the lens focuses on  external objects is  called accommodation  (11_6_1/wsj0/si_dt_20/050/050a0506.wv1.flac)<br>\n",
    "the process by  which the lens focuses on  external objects is  called accommodation  (11_6_1/wsj0/si_dt_20/050/050a0506.wv1.flac)<br>\n",
    "Words: 13 Correct: 13 Errors: 0 Percent correct = 100.00% Error = 0.00% Accuracy = 100.00%<br>\n",
    "Insertions: 0 Deletions: 0 Substitutions: 0<br>"
   ]
  },
  {
   "cell_type": "markdown",
   "metadata": {},
   "source": [
    "**August 25th**"
   ]
  },
  {
   "cell_type": "markdown",
   "metadata": {},
   "source": [
    "Training the model with new data to increase accuracy and starting with the integration.\n"
   ]
  }
 ],
 "metadata": {
  "kernelspec": {
   "display_name": "Python 2",
   "language": "python",
   "name": "python2"
  },
  "language_info": {
   "codemirror_mode": {
    "name": "ipython",
    "version": 2
   },
   "file_extension": ".py",
   "mimetype": "text/x-python",
   "name": "python",
   "nbconvert_exporter": "python",
   "pygments_lexer": "ipython2",
   "version": "2.7.12"
  }
 },
 "nbformat": 4,
 "nbformat_minor": 2
}
