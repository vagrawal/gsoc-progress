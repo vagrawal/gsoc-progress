{
 "cells": [
  {
   "cell_type": "markdown",
   "metadata": {},
   "source": [
    "# 20/05/17"
   ]
  },
  {
   "cell_type": "markdown",
   "metadata": {},
   "source": [
    "Looked up papers on using using tied states vs phoneme states. (review here https://docs.google.com/document/d/17VhroitGucKZoqIEYZLYoK8y62Kw2L-h0o2uCZpG9gc/edit?usp=sharing)\n",
    "\n",
    "Dahl, George E., et al. \"Context-dependent pre-trained deep neural networks for large-vocabulary speech recognition.\" IEEE Transactions on Audio, Speech, and Language Processing 20.1 (2012): 30-42. used tied states"
   ]
  },
  {
   "cell_type": "markdown",
   "metadata": {},
   "source": [
    "# 27/05/17"
   ]
  },
  {
   "cell_type": "code",
   "execution_count": null,
   "metadata": {
    "collapsed": true
   },
   "outputs": [],
   "source": [
    "#feature extraction code\n",
    "from python_speech_features import fbank\n",
    "import numpy as np\n",
    "from scipy.io import wavfile\n",
    "from scipy.signal import hamming\n",
    "import os\n",
    "root = '/home/mshah1/wsj/wsj0/'\n",
    "fileList = root + 'wsj0.wavlist'\n",
    "with open(fileList,'r') as f:\n",
    "\tfiles = f.readlines()\n",
    "\tfiles = map(lambda x: x.strip(), files)\n",
    "\n",
    "for f in files:\n",
    "\tif not os.path.exists(root + f + '.mls'):\n",
    "\t\tprint f\n",
    "\t\t(rate,data) = wavfile.read(root + f)\n",
    "\t\t(feat,_) = fbank(data,samplerate=rate,winlen=0.025,\n",
    "\t\t\t\t\t\t\twinstep=0.015,nfilt=40,nfft=1024,\n",
    "\t\t\t\t\t\t\tlowfreq=250,winfunc=hamming)\n",
    "\t\tfeat = np.log(feat)\n",
    "\t\tnp.savetxt(root + f + '.mls',feat)"
   ]
  },
  {
   "cell_type": "code",
   "execution_count": null,
   "metadata": {
    "collapsed": true
   },
   "outputs": [],
   "source": [
    "#random label assignment code\n",
    "def fileToLabels(data, nPhones=30):\t\n",
    "\tnFrames = data.shape[0]\n",
    "\tnPhones = nPhones + np.random.randint(-5,high=5)\n",
    "\tsegLen = nFrames / nPhones\n",
    "\tlabels = []\n",
    "\tfor i in range(nPhones):\n",
    "\t\tcurrSegLen = segLen + np.random.randint(-10,high=10)\n",
    "\t\tlabels += [np.random.randint(0,high=3000)]*min(currSegLen,nFrames - len(labels))\n",
    "\treturn labels"
   ]
  },
  {
   "cell_type": "code",
   "execution_count": null,
   "metadata": {
    "collapsed": true
   },
   "outputs": [],
   "source": [
    "#MLP for classification\n",
    "#classification accuracy an abysmal 0.00033\n",
    "from keras.models import Sequential\n",
    "from keras.layers import Dense, Activation\n",
    "from keras.utils import to_categorical\n",
    "from keras.models import load_model\n",
    "import numpy as np\n",
    "\n",
    "data = np.load('wsj0_randlabels.npz')\n",
    "model = Sequential()\n",
    "model.add(Dense(1000, activation='sigmoid', input_dim=40))\n",
    "model.add(Dense(1000, activation='sigmoid'))\n",
    "model.add(Dense(3000, activation='softmax'))\n",
    "model.compile(optimizer='sgd',\n",
    "              loss='categorical_crossentropy',\n",
    "              metrics=['accuracy'])\n",
    "x_train = data['X_Train'][:1000000]\n",
    "y_train = data['Y_Train'][:1000000]\n",
    "y_train = to_categorical(y_train, num_classes = 3000)\n",
    "model.fit(x_train,y_train,epochs=10,batch_size=20000)\n",
    "model.save(\"mlp_randomAlign.h5\")"
   ]
  },
  {
   "cell_type": "markdown",
   "metadata": {},
   "source": [
    "Changed winstep to 0.01, accuracy went up to 0.00054"
   ]
  },
  {
   "cell_type": "markdown",
   "metadata": {},
   "source": [
    "Changed optimizer to rmsprop accuracy went down to 0.00031"
   ]
  },
  {
   "cell_type": "markdown",
   "metadata": {},
   "source": [
    "accuracy with 250000 testing samples with adagrad = 0.00035"
   ]
  },
  {
   "cell_type": "markdown",
   "metadata": {},
   "source": [
    "accuracy with relu activations = 0.00031 (training accuracy went up significantly to 0.014)"
   ]
  },
  {
   "cell_type": "code",
   "execution_count": null,
   "metadata": {
    "collapsed": true
   },
   "outputs": [],
   "source": [
    "# Deeper MLP model but accuracy is 0.00032\n",
    "def mlp3():\n",
    "\tmodel = Sequential()\n",
    "\tmodel.add(Dense(500, activation='relu', input_dim=40))\n",
    "\tmodel.add(Dropout(0.25))\n",
    "\tmodel.add(Dense(500, activation='relu'))\n",
    "\tmodel.add(Dropout(0.25))\n",
    "\tmodel.add(Dense(500, activation='relu'))\n",
    "\tmodel.add(Dropout(0.25))\n",
    "\tmodel.add(Dense(500, activation='relu'))\n",
    "\tmodel.add(Dropout(0.25))\n",
    "\tmodel.add(Dense(3000, activation='softmax'))\n",
    "\tmodel.compile(optimizer='adagrad',\n",
    "\t              loss='categorical_crossentropy',\n",
    "\t              metrics=['accuracy'])\n",
    "\treturn model"
   ]
  }
 ],
 "metadata": {
  "kernelspec": {
   "display_name": "Python 3",
   "language": "python",
   "name": "python3"
  },
  "language_info": {
   "codemirror_mode": {
    "name": "ipython",
    "version": 3
   },
   "file_extension": ".py",
   "mimetype": "text/x-python",
   "name": "python",
   "nbconvert_exporter": "python",
   "pygments_lexer": "ipython3",
   "version": "3.5.0b2"
  }
 },
 "nbformat": 4,
 "nbformat_minor": 2
}
