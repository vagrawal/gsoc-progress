{
 "cells": [
  {
   "cell_type": "code",
   "execution_count": 1,
   "metadata": {
    "collapsed": false,
    "deletable": true,
    "editable": true
   },
   "outputs": [],
   "source": [
    "%matplotlib inline\n",
    "import os\n",
    "import tensorflow as tf\n",
    "import numpy as np\n",
    "import pandas as pd\n",
    "from scipy.fftpack import dct\n",
    "import matplotlib.pyplot as plt\n",
    "from python_speech_features.base import mfcc\n",
    "from seq2seq_model import seq2seq_model\n",
    "import scipy.io.wavfile"
   ]
  },
  {
   "cell_type": "code",
   "execution_count": 2,
   "metadata": {
    "collapsed": false,
    "deletable": true,
    "editable": true
   },
   "outputs": [],
   "source": [
    "root = 'gs://wsj-data/wsj0/'\n",
    "keep_prob = 0.8\n",
    "max_output_length = 100\n",
    "rnn_size = 256\n",
    "num_layers = 2\n",
    "batch_size = 16\n",
    "learning_rate = 0.0005\n",
    "\n",
    "learning_rate_decay = 0.95\n",
    "min_learning_rate = 0.0005\n",
    "display_step = 20 # Check training loss after every 20 batches\n",
    "stop_early = 0 \n",
    "stop = 3 # If the update loss does not decrease in 3 consecutive update checks, stop training\n",
    "\n",
    "checkpoint = \"gs://wsj-data/best_model.ckpt\" "
   ]
  },
  {
   "cell_type": "code",
   "execution_count": 3,
   "metadata": {
    "collapsed": true,
    "deletable": true,
    "editable": true
   },
   "outputs": [],
   "source": [
    "vocab = np.asarray(list(\" '+-.ABCDEFGHIJKLMNOPQRSTUVWXYZ_\"))\n",
    "vocab_to_int = {}\n",
    "\n",
    "for ch in vocab:\n",
    "    vocab_to_int[ch] = len(vocab_to_int)\n",
    "\n",
    "vocab_to_int['<GO>'] = len(vocab_to_int)\n",
    "vocab_to_int['<EOS>'] = len(vocab_to_int)\n",
    "\n",
    "\n",
    "def onehot(x):\n",
    "    x = np.asarray(x)\n",
    "    return np.tile(x, (32, 1)).T == vocab # 32 = vocab length"
   ]
  },
  {
   "cell_type": "code",
   "execution_count": 4,
   "metadata": {
    "collapsed": true,
    "deletable": true,
    "editable": true
   },
   "outputs": [],
   "source": [
    "# A custom class inheriting tf.gfile.Open for providing seek with whence\n",
    "class FileOpen(tf.gfile.Open):\n",
    "    def seek(self, position, whence = 0):\n",
    "        if (whence == 0):\n",
    "            tf.gfile.Open.seek(self, position)\n",
    "        elif (whence == 1):\n",
    "            tf.gfile.Open.seek(self, self.tell() + position)\n",
    "        else:\n",
    "            raise FileError"
   ]
  },
  {
   "cell_type": "code",
   "execution_count": 5,
   "metadata": {
    "collapsed": true,
    "deletable": true,
    "editable": true
   },
   "outputs": [],
   "source": [
    "# https://github.com/zszyellow/WER-in-python/blob/master/wer.py\n",
    "def wer(r, h):\n",
    "    \"\"\"\n",
    "    This is a function that calculate the word error rate in ASR.\n",
    "    You can use it like this: wer(\"what is it\".split(), \"what is\".split()) \n",
    "    \"\"\"\n",
    "    #build the matrix\n",
    "    d = numpy.zeros((len(r)+1)*(len(h)+1), dtype=numpy.uint8).reshape((len(r)+1, len(h)+1))\n",
    "    for i in range(len(r)+1):\n",
    "        for j in range(len(h)+1):\n",
    "            if i == 0: d[0][j] = j\n",
    "            elif j == 0: d[i][0] = i\n",
    "    for i in range(1,len(r)+1):\n",
    "        for j in range(1, len(h)+1):\n",
    "            if r[i-1] == h[j-1]:\n",
    "                d[i][j] = d[i-1][j-1]\n",
    "            else:\n",
    "                substitute = d[i-1][j-1] + 1\n",
    "                insert = d[i][j-1] + 1\n",
    "                delete = d[i-1][j] + 1\n",
    "                d[i][j] = min(substitute, insert, delete)\n",
    "    return float(d[len(r)][len(h)]) / len(r) * 100"
   ]
  },
  {
   "cell_type": "code",
   "execution_count": 6,
   "metadata": {
    "collapsed": true,
    "deletable": true,
    "editable": true
   },
   "outputs": [],
   "source": [
    "out_file = tf.gfile.Open(root + 'transcripts/wsj0/wsj0.trans')\n",
    "numcep = 13\n",
    "\n",
    "def get_next_input():\n",
    "    trans = out_file.readline()\n",
    "    cont, file = trans.split('(')\n",
    "    file = file[:-2]\n",
    "    sample_rate, signal = scipy.io.wavfile.read(FileOpen(root + 'wav/' + file.rstrip('\\n'), 'rb'))\n",
    "    Y = onehot(list(cont))\n",
    "    X = mfcc(signal, sample_rate, numcep=numcep)\n",
    "    return X, Y"
   ]
  },
  {
   "cell_type": "code",
   "execution_count": 7,
   "metadata": {
    "collapsed": false,
    "deletable": true,
    "editable": true,
    "scrolled": false
   },
   "outputs": [],
   "source": [
    "# Make a graph and it's session\n",
    "train_graph = tf.Graph()\n",
    "train_session = tf.InteractiveSession(graph=train_graph)\n",
    "\n",
    "# Set the graph to default to ensure that it is ready for training\n",
    "with train_graph.as_default():\n",
    "    model_input = tf.placeholder(tf.float32, [None, None, numcep], name='model_input')\n",
    "    model_output = tf.placeholder(tf.int32, [None, None], name='model_output')\n",
    "    input_lengths = tf.placeholder(tf.int32, [None], name='input_lengths')\n",
    "    output_lengths = tf.placeholder(tf.int32, [None], name='output_lengths')\n",
    "    learning_rate_tensor = tf.placeholder(tf.float32, name='learning_rate')\n",
    "    \n",
    "    # Create the training and inference logits\n",
    "    training_logits, inference_logits = seq2seq_model(input_data=model_input,\n",
    "                                                      target_data=model_output,\n",
    "                                                      keep_prob=keep_prob,\n",
    "                                                      input_lengths=input_lengths,\n",
    "                                                      output_lengths=output_lengths,\n",
    "                                                      max_output_length=max_output_length,\n",
    "                                                      vocab_size=len(vocab_to_int),\n",
    "                                                      rnn_size=rnn_size,\n",
    "                                                      num_layers=num_layers,\n",
    "                                                      vocab_to_int=vocab_to_int,\n",
    "                                                      batch_size=batch_size)\n",
    "    \n",
    "    # Create tensors for the training logits and inference logits\n",
    "    training_logits = tf.identity(training_logits.rnn_output, 'logits')\n",
    "    inference_logits = tf.identity(inference_logits.sample_id, name='predictions')\n",
    "    \n",
    "    # Create the weights for sequence_loss\n",
    "    masks = tf.sequence_mask(output_lengths, max_output_length, dtype=tf.float32, name='masks')\n",
    "\n",
    "    with tf.name_scope(\"optimization\"):\n",
    "        # Loss function\n",
    "        cost = tf.contrib.seq2seq.sequence_loss(\n",
    "            training_logits,\n",
    "            model_output,\n",
    "            masks)\n",
    "\n",
    "        # Optimizer\n",
    "        optimizer = tf.train.AdamOptimizer(learning_rate_tensor)\n",
    "\n",
    "        # Gradient Clipping\n",
    "        gradients = optimizer.compute_gradients(cost)\n",
    "        capped_gradients = [(tf.clip_by_value(grad, -5., 5.), var) for grad, var in gradients if grad is not None]\n",
    "        train_op = optimizer.apply_gradients(capped_gradients)"
   ]
  },
  {
   "cell_type": "code",
   "execution_count": 8,
   "metadata": {
    "collapsed": false,
    "deletable": true,
    "editable": true
   },
   "outputs": [
    {
     "ename": "NameError",
     "evalue": "name 'sorted_texts_short' is not defined",
     "output_type": "error",
     "traceback": [
      "\u001b[0;31m---------------------------------------------------------------------------\u001b[0m",
      "\u001b[0;31mNameError\u001b[0m                                 Traceback (most recent call last)",
      "\u001b[0;32m<ipython-input-8-ab63a074c6be>\u001b[0m in \u001b[0;36m<module>\u001b[0;34m()\u001b[0m\n\u001b[1;32m      6\u001b[0m \u001b[0mstop\u001b[0m \u001b[0;34m=\u001b[0m \u001b[0;36m3\u001b[0m \u001b[0;31m# If the update loss does not decrease in 3 consecutive update checks, stop training\u001b[0m\u001b[0;34m\u001b[0m\u001b[0m\n\u001b[1;32m      7\u001b[0m \u001b[0mper_epoch\u001b[0m \u001b[0;34m=\u001b[0m \u001b[0;36m3\u001b[0m \u001b[0;31m# Make 3 update checks per epoch\u001b[0m\u001b[0;34m\u001b[0m\u001b[0m\n\u001b[0;32m----> 8\u001b[0;31m \u001b[0mupdate_check\u001b[0m \u001b[0;34m=\u001b[0m \u001b[0;34m(\u001b[0m\u001b[0mlen\u001b[0m\u001b[0;34m(\u001b[0m\u001b[0msorted_texts_short\u001b[0m\u001b[0;34m)\u001b[0m\u001b[0;34m//\u001b[0m\u001b[0mbatch_size\u001b[0m\u001b[0;34m//\u001b[0m\u001b[0mper_epoch\u001b[0m\u001b[0;34m)\u001b[0m\u001b[0;34m-\u001b[0m\u001b[0;36m1\u001b[0m\u001b[0;34m\u001b[0m\u001b[0m\n\u001b[0m\u001b[1;32m      9\u001b[0m \u001b[0;34m\u001b[0m\u001b[0m\n\u001b[1;32m     10\u001b[0m \u001b[0mupdate_loss\u001b[0m \u001b[0;34m=\u001b[0m \u001b[0;36m0\u001b[0m\u001b[0;34m\u001b[0m\u001b[0m\n",
      "\u001b[0;31mNameError\u001b[0m: name 'sorted_texts_short' is not defined"
     ]
    }
   ],
   "source": [
    "with tf.Session(graph=train_graph) as sess:\n",
    "    sess.run(tf.global_variables_initializer())\n",
    "    \n",
    "    # If we want to continue training a previous session\n",
    "    #loader = tf.train.import_meta_graph(\"./\" + checkpoint + '.meta')\n",
    "    #loader.restore(sess, checkpoint)\n",
    "    \n",
    "    for epoch_i in range(1, epochs+1):\n",
    "        batch_loss = 0\n",
    "        for batch_i, (summaries_batch, texts_batch, summaries_lengths, texts_lengths) in enumerate(\n",
    "                get_batches(sorted_summaries_short, sorted_texts_short, batch_size)):\n",
    "            start_time = time.time()\n",
    "            _, loss = sess.run(\n",
    "                [train_op, cost],\n",
    "                {model_input: input_batch,\n",
    "                 model_output: output_batch,\n",
    "                 learning_rate_tensor: learning_rate,\n",
    "                 output_lengths: output_lengths_batch,\n",
    "                 input_lengths: input_lengths_batch,\n",
    "                 keep_prob: keep_probability})\n",
    "\n",
    "            batch_loss += loss\n",
    "            end_time = time.time()\n",
    "            batch_time = end_time - start_time\n",
    "            \n",
    "\n",
    "            if batch_i % display_step == 0 and batch_i > 0:\n",
    "                print('Epoch {:>3}/{} Batch {:>4}/{} - Loss: {:>6.3f}, Seconds: {:>4.2f}'\n",
    "                      .format(epoch_i,\n",
    "                              epochs, \n",
    "                              batch_i, \n",
    "                              len(sorted_texts_short) // batch_size, \n",
    "                              batch_loss / display_step, \n",
    "                              batch_time*display_step))\n",
    "                batch_loss = 0            \n",
    "                    \n",
    "        # Reduce learning rate, but not below its minimum value\n",
    "        learning_rate *= learning_rate_decay\n",
    "        if learning_rate < min_learning_rate:\n",
    "            learning_rate = min_learning_rate"
   ]
  }
 ],
 "metadata": {
  "kernelspec": {
   "display_name": "Python 3",
   "language": "python",
   "name": "python3"
  },
  "language_info": {
   "codemirror_mode": {
    "name": "ipython",
    "version": 3
   },
   "file_extension": ".py",
   "mimetype": "text/x-python",
   "name": "python",
   "nbconvert_exporter": "python",
   "pygments_lexer": "ipython3",
   "version": "3.6.0"
  }
 },
 "nbformat": 4,
 "nbformat_minor": 2
}
